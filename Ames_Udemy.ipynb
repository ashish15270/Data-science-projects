{
 "cells": [
  {
   "cell_type": "markdown",
   "id": "f1fa3fa6",
   "metadata": {},
   "source": [
    "# <center style=\"font-family:Arial\">1. Introduction </center>\n",
    "\n",
    "<div class=\"alert alert-block alert-info\"\n",
    "     style=\"color:black;\n",
    "           display:fill;\n",
    "           background-color:#e8f4f8;\n",
    "           font-size:130%;\n",
    "           font-family:Arial\"><center>\n",
    "<b> 📌 My goal is to predict, in the best possible way, the sales price of the houses based on their characteristics using different linear regression models.</b></center>\n",
    "    </div>\n",
    "    \n",
    " <div style=\"color:black;\n",
    "           font-size:120%;\n",
    "           font-family:Arial\">\n",
    "In this notebook, I'll be working with the Ames Housing dataset, a complete dataset containing every aspect of residential homes in Ames, Iowa. If you want to know more about the data, you can click <a href=\"https://www.kaggle.com/c/house-prices-advanced-regression-techniques/data\" target=\"_blank\"> here</a>.\n",
    "</div>\n",
    "\n",
    "** note I have obtained complete train and test dataset from a udemy course. The above link is just for reference.\n"
   ]
  },
  {
   "cell_type": "markdown",
   "id": "e275604e",
   "metadata": {},
   "source": [
    "## <center style=\"font-family:Arial\">Importing the Data </center>\n",
    "\n"
   ]
  },
  {
   "cell_type": "code",
   "execution_count": 1,
   "id": "b6e97b20",
   "metadata": {},
   "outputs": [],
   "source": [
    "import warnings\n",
    "warnings.filterwarnings('ignore')"
   ]
  },
  {
   "cell_type": "code",
   "execution_count": 2,
   "id": "0bd0fd97",
   "metadata": {},
   "outputs": [],
   "source": [
    "import pandas as pd\n",
    "import numpy as np\n",
    "import matplotlib.pyplot as plt\n",
    "import seaborn as sns"
   ]
  },
  {
   "cell_type": "markdown",
   "id": "94fbb6cc",
   "metadata": {},
   "source": [
    "## <center> 1. Importing the dataset <center>"
   ]
  },
  {
   "cell_type": "code",
   "execution_count": 3,
   "id": "006bed2e",
   "metadata": {},
   "outputs": [
    {
     "data": {
      "text/html": [
       "<div>\n",
       "<style scoped>\n",
       "    .dataframe tbody tr th:only-of-type {\n",
       "        vertical-align: middle;\n",
       "    }\n",
       "\n",
       "    .dataframe tbody tr th {\n",
       "        vertical-align: top;\n",
       "    }\n",
       "\n",
       "    .dataframe thead th {\n",
       "        text-align: right;\n",
       "    }\n",
       "</style>\n",
       "<table border=\"1\" class=\"dataframe\">\n",
       "  <thead>\n",
       "    <tr style=\"text-align: right;\">\n",
       "      <th></th>\n",
       "      <th>PID</th>\n",
       "      <th>MS SubClass</th>\n",
       "      <th>MS Zoning</th>\n",
       "      <th>Lot Frontage</th>\n",
       "      <th>Lot Area</th>\n",
       "      <th>Street</th>\n",
       "      <th>Alley</th>\n",
       "      <th>Lot Shape</th>\n",
       "      <th>Land Contour</th>\n",
       "      <th>Utilities</th>\n",
       "      <th>...</th>\n",
       "      <th>Pool Area</th>\n",
       "      <th>Pool QC</th>\n",
       "      <th>Fence</th>\n",
       "      <th>Misc Feature</th>\n",
       "      <th>Misc Val</th>\n",
       "      <th>Mo Sold</th>\n",
       "      <th>Yr Sold</th>\n",
       "      <th>Sale Type</th>\n",
       "      <th>Sale Condition</th>\n",
       "      <th>SalePrice</th>\n",
       "    </tr>\n",
       "  </thead>\n",
       "  <tbody>\n",
       "    <tr>\n",
       "      <th>0</th>\n",
       "      <td>526301100</td>\n",
       "      <td>20</td>\n",
       "      <td>RL</td>\n",
       "      <td>141.0</td>\n",
       "      <td>31770</td>\n",
       "      <td>Pave</td>\n",
       "      <td>NaN</td>\n",
       "      <td>IR1</td>\n",
       "      <td>Lvl</td>\n",
       "      <td>AllPub</td>\n",
       "      <td>...</td>\n",
       "      <td>0</td>\n",
       "      <td>NaN</td>\n",
       "      <td>NaN</td>\n",
       "      <td>NaN</td>\n",
       "      <td>0</td>\n",
       "      <td>5</td>\n",
       "      <td>2010</td>\n",
       "      <td>WD</td>\n",
       "      <td>Normal</td>\n",
       "      <td>215000</td>\n",
       "    </tr>\n",
       "    <tr>\n",
       "      <th>1</th>\n",
       "      <td>526350040</td>\n",
       "      <td>20</td>\n",
       "      <td>RH</td>\n",
       "      <td>80.0</td>\n",
       "      <td>11622</td>\n",
       "      <td>Pave</td>\n",
       "      <td>NaN</td>\n",
       "      <td>Reg</td>\n",
       "      <td>Lvl</td>\n",
       "      <td>AllPub</td>\n",
       "      <td>...</td>\n",
       "      <td>0</td>\n",
       "      <td>NaN</td>\n",
       "      <td>MnPrv</td>\n",
       "      <td>NaN</td>\n",
       "      <td>0</td>\n",
       "      <td>6</td>\n",
       "      <td>2010</td>\n",
       "      <td>WD</td>\n",
       "      <td>Normal</td>\n",
       "      <td>105000</td>\n",
       "    </tr>\n",
       "    <tr>\n",
       "      <th>2</th>\n",
       "      <td>526351010</td>\n",
       "      <td>20</td>\n",
       "      <td>RL</td>\n",
       "      <td>81.0</td>\n",
       "      <td>14267</td>\n",
       "      <td>Pave</td>\n",
       "      <td>NaN</td>\n",
       "      <td>IR1</td>\n",
       "      <td>Lvl</td>\n",
       "      <td>AllPub</td>\n",
       "      <td>...</td>\n",
       "      <td>0</td>\n",
       "      <td>NaN</td>\n",
       "      <td>NaN</td>\n",
       "      <td>Gar2</td>\n",
       "      <td>12500</td>\n",
       "      <td>6</td>\n",
       "      <td>2010</td>\n",
       "      <td>WD</td>\n",
       "      <td>Normal</td>\n",
       "      <td>172000</td>\n",
       "    </tr>\n",
       "    <tr>\n",
       "      <th>3</th>\n",
       "      <td>526353030</td>\n",
       "      <td>20</td>\n",
       "      <td>RL</td>\n",
       "      <td>93.0</td>\n",
       "      <td>11160</td>\n",
       "      <td>Pave</td>\n",
       "      <td>NaN</td>\n",
       "      <td>Reg</td>\n",
       "      <td>Lvl</td>\n",
       "      <td>AllPub</td>\n",
       "      <td>...</td>\n",
       "      <td>0</td>\n",
       "      <td>NaN</td>\n",
       "      <td>NaN</td>\n",
       "      <td>NaN</td>\n",
       "      <td>0</td>\n",
       "      <td>4</td>\n",
       "      <td>2010</td>\n",
       "      <td>WD</td>\n",
       "      <td>Normal</td>\n",
       "      <td>244000</td>\n",
       "    </tr>\n",
       "    <tr>\n",
       "      <th>4</th>\n",
       "      <td>527105010</td>\n",
       "      <td>60</td>\n",
       "      <td>RL</td>\n",
       "      <td>74.0</td>\n",
       "      <td>13830</td>\n",
       "      <td>Pave</td>\n",
       "      <td>NaN</td>\n",
       "      <td>IR1</td>\n",
       "      <td>Lvl</td>\n",
       "      <td>AllPub</td>\n",
       "      <td>...</td>\n",
       "      <td>0</td>\n",
       "      <td>NaN</td>\n",
       "      <td>MnPrv</td>\n",
       "      <td>NaN</td>\n",
       "      <td>0</td>\n",
       "      <td>3</td>\n",
       "      <td>2010</td>\n",
       "      <td>WD</td>\n",
       "      <td>Normal</td>\n",
       "      <td>189900</td>\n",
       "    </tr>\n",
       "  </tbody>\n",
       "</table>\n",
       "<p>5 rows × 81 columns</p>\n",
       "</div>"
      ],
      "text/plain": [
       "         PID  MS SubClass MS Zoning  Lot Frontage  Lot Area Street Alley  \\\n",
       "0  526301100           20        RL         141.0     31770   Pave   NaN   \n",
       "1  526350040           20        RH          80.0     11622   Pave   NaN   \n",
       "2  526351010           20        RL          81.0     14267   Pave   NaN   \n",
       "3  526353030           20        RL          93.0     11160   Pave   NaN   \n",
       "4  527105010           60        RL          74.0     13830   Pave   NaN   \n",
       "\n",
       "  Lot Shape Land Contour Utilities  ... Pool Area Pool QC  Fence Misc Feature  \\\n",
       "0       IR1          Lvl    AllPub  ...         0     NaN    NaN          NaN   \n",
       "1       Reg          Lvl    AllPub  ...         0     NaN  MnPrv          NaN   \n",
       "2       IR1          Lvl    AllPub  ...         0     NaN    NaN         Gar2   \n",
       "3       Reg          Lvl    AllPub  ...         0     NaN    NaN          NaN   \n",
       "4       IR1          Lvl    AllPub  ...         0     NaN  MnPrv          NaN   \n",
       "\n",
       "  Misc Val Mo Sold Yr Sold  Sale Type  Sale Condition  SalePrice  \n",
       "0        0       5    2010        WD           Normal     215000  \n",
       "1        0       6    2010        WD           Normal     105000  \n",
       "2    12500       6    2010        WD           Normal     172000  \n",
       "3        0       4    2010        WD           Normal     244000  \n",
       "4        0       3    2010        WD           Normal     189900  \n",
       "\n",
       "[5 rows x 81 columns]"
      ]
     },
     "execution_count": 3,
     "metadata": {},
     "output_type": "execute_result"
    }
   ],
   "source": [
    "df = pd.read_csv(\"../DATA/Ames_Housing_Data.csv\")\n",
    "df.head()"
   ]
  },
  {
   "cell_type": "markdown",
   "id": "601cb90a",
   "metadata": {},
   "source": [
    "## <center> 2. E.D.A. <center>"
   ]
  },
  {
   "cell_type": "code",
   "execution_count": 4,
   "id": "a3ade1d4",
   "metadata": {},
   "outputs": [
    {
     "data": {
      "image/png": "[encoded data removed]",
      "text/plain": [
       "<Figure size 1080x1080 with 1 Axes>"
      ]
     },
     "metadata": {
      "needs_background": "light"
     },
     "output_type": "display_data"
    }
   ],
   "source": [
    "corr = df.corr()['SalePrice'].sort_values(ascending=False).to_frame()\n",
    "corr = corr.iloc[1:,:] \n",
    "\n",
    "fig, ax = plt.subplots(figsize=(15,15))\n",
    "plt.barh(corr.index,corr.SalePrice, color = np.where(corr['SalePrice'] < 0, '#EE4B2B', '#89CFF0'))\n",
    "ax.set_title( \"Correlation of SalePrice with other Features\", size=24, color=\"grey\", fontweight=\"bold\");"
   ]
  },
  {
   "cell_type": "code",
   "execution_count": 5,
   "id": "cb1d5848",
   "metadata": {},
   "outputs": [
    {
     "name": "stdout",
     "output_type": "stream",
     "text": [
      "Top correlated features: \n",
      "                SalePrice\n",
      "Overall Qual   0.799262\n",
      "Gr Liv Area    0.706780\n",
      "Garage Cars    0.647877\n"
     ]
    }
   ],
   "source": [
    "print('Top correlated features: \\n ',corr.iloc[:3,:])"
   ]
  },
  {
   "cell_type": "markdown",
   "id": "60bdf15b",
   "metadata": {},
   "source": [
    "## <center> 3. Data Cleaning<center>"
   ]
  },
  {
   "cell_type": "code",
   "execution_count": 6,
   "id": "9e56ac3a",
   "metadata": {},
   "outputs": [
    {
     "name": "stdout",
     "output_type": "stream",
     "text": [
      "<class 'pandas.core.frame.DataFrame'>\n",
      "RangeIndex: 2930 entries, 0 to 2929\n",
      "Data columns (total 81 columns):\n",
      " #   Column           Non-Null Count  Dtype  \n",
      "---  ------           --------------  -----  \n",
      " 0   PID              2930 non-null   int64  \n",
      " 1   MS SubClass      2930 non-null   int64  \n",
      " 2   MS Zoning        2930 non-null   object \n",
      " 3   Lot Frontage     2440 non-null   float64\n",
      " 4   Lot Area         2930 non-null   int64  \n",
      " 5   Street           2930 non-null   object \n",
      " 6   Alley            198 non-null    object \n",
      " 7   Lot Shape        2930 non-null   object \n",
      " 8   Land Contour     2930 non-null   object \n",
      " 9   Utilities        2930 non-null   object \n",
      " 10  Lot Config       2930 non-null   object \n",
      " 11  Land Slope       2930 non-null   object \n",
      " 12  Neighborhood     2930 non-null   object \n",
      " 13  Condition 1      2930 non-null   object \n",
      " 14  Condition 2      2930 non-null   object \n",
      " 15  Bldg Type        2930 non-null   object \n",
      " 16  House Style      2930 non-null   object \n",
      " 17  Overall Qual     2930 non-null   int64  \n",
      " 18  Overall Cond     2930 non-null   int64  \n",
      " 19  Year Built       2930 non-null   int64  \n",
      " 20  Year Remod/Add   2930 non-null   int64  \n",
      " 21  Roof Style       2930 non-null   object \n",
      " 22  Roof Matl        2930 non-null   object \n",
      " 23  Exterior 1st     2930 non-null   object \n",
      " 24  Exterior 2nd     2930 non-null   object \n",
      " 25  Mas Vnr Type     2907 non-null   object \n",
      " 26  Mas Vnr Area     2907 non-null   float64\n",
      " 27  Exter Qual       2930 non-null   object \n",
      " 28  Exter Cond       2930 non-null   object \n",
      " 29  Foundation       2930 non-null   object \n",
      " 30  Bsmt Qual        2850 non-null   object \n",
      " 31  Bsmt Cond        2850 non-null   object \n",
      " 32  Bsmt Exposure    2847 non-null   object \n",
      " 33  BsmtFin Type 1   2850 non-null   object \n",
      " 34  BsmtFin SF 1     2929 non-null   float64\n",
      " 35  BsmtFin Type 2   2849 non-null   object \n",
      " 36  BsmtFin SF 2     2929 non-null   float64\n",
      " 37  Bsmt Unf SF      2929 non-null   float64\n",
      " 38  Total Bsmt SF    2929 non-null   float64\n",
      " 39  Heating          2930 non-null   object \n",
      " 40  Heating QC       2930 non-null   object \n",
      " 41  Central Air      2930 non-null   object \n",
      " 42  Electrical       2929 non-null   object \n",
      " 43  1st Flr SF       2930 non-null   int64  \n",
      " 44  2nd Flr SF       2930 non-null   int64  \n",
      " 45  Low Qual Fin SF  2930 non-null   int64  \n",
      " 46  Gr Liv Area      2930 non-null   int64  \n",
      " 47  Bsmt Full Bath   2928 non-null   float64\n",
      " 48  Bsmt Half Bath   2928 non-null   float64\n",
      " 49  Full Bath        2930 non-null   int64  \n",
      " 50  Half Bath        2930 non-null   int64  \n",
      " 51  Bedroom AbvGr    2930 non-null   int64  \n",
      " 52  Kitchen AbvGr    2930 non-null   int64  \n",
      " 53  Kitchen Qual     2930 non-null   object \n",
      " 54  TotRms AbvGrd    2930 non-null   int64  \n",
      " 55  Functional       2930 non-null   object \n",
      " 56  Fireplaces       2930 non-null   int64  \n",
      " 57  Fireplace Qu     1508 non-null   object \n",
      " 58  Garage Type      2773 non-null   object \n",
      " 59  Garage Yr Blt    2771 non-null   float64\n",
      " 60  Garage Finish    2771 non-null   object \n",
      " 61  Garage Cars      2929 non-null   float64\n",
      " 62  Garage Area      2929 non-null   float64\n",
      " 63  Garage Qual      2771 non-null   object \n",
      " 64  Garage Cond      2771 non-null   object \n",
      " 65  Paved Drive      2930 non-null   object \n",
      " 66  Wood Deck SF     2930 non-null   int64  \n",
      " 67  Open Porch SF    2930 non-null   int64  \n",
      " 68  Enclosed Porch   2930 non-null   int64  \n",
      " 69  3Ssn Porch       2930 non-null   int64  \n",
      " 70  Screen Porch     2930 non-null   int64  \n",
      " 71  Pool Area        2930 non-null   int64  \n",
      " 72  Pool QC          13 non-null     object \n",
      " 73  Fence            572 non-null    object \n",
      " 74  Misc Feature     106 non-null    object \n",
      " 75  Misc Val         2930 non-null   int64  \n",
      " 76  Mo Sold          2930 non-null   int64  \n",
      " 77  Yr Sold          2930 non-null   int64  \n",
      " 78  Sale Type        2930 non-null   object \n",
      " 79  Sale Condition   2930 non-null   object \n",
      " 80  SalePrice        2930 non-null   int64  \n",
      "dtypes: float64(11), int64(27), object(43)\n",
      "memory usage: 1.8+ MB\n"
     ]
    }
   ],
   "source": [
    "df.info()"
   ]
  },
  {
   "cell_type": "code",
   "execution_count": 7,
   "id": "78c35db6",
   "metadata": {},
   "outputs": [
    {
     "data": {
      "text/plain": [
       "Text(0.5, 0, 'GarageCars')"
      ]
     },
     "execution_count": 7,
     "metadata": {},
     "output_type": "execute_result"
    },
    {
     "data": {
      "image/png": "[encoded data removed]",
      "text/plain": [
       "<Figure size 1080x360 with 3 Axes>"
      ]
     },
     "metadata": {
      "needs_background": "light"
     },
     "output_type": "display_data"
    }
   ],
   "source": [
    "# First lets visualize the correlation of top 3 correlated features to SalePrice\n",
    "\n",
    "fig, ax = plt.subplots(1,3,figsize=(15,5))\n",
    "\n",
    "ax[0].scatter(df['Overall Qual'],df['SalePrice'])\n",
    "ax[1].scatter(df['Gr Liv Area'],df['SalePrice'])\n",
    "ax[2].scatter(df['Garage Cars'],df['SalePrice'])\n",
    "\n",
    "ax[0].set_ylabel('SalePrice')\n",
    "ax[0].set_xlabel('OverallQual')\n",
    "ax[1].set_xlabel('GrLivArea')\n",
    "ax[2].set_xlabel('GarageCars')"
   ]
  },
  {
   "cell_type": "markdown",
   "id": "afa45cd6",
   "metadata": {},
   "source": [
    "### (a.) Dealing with outliers\n",
    "\n",
    "In the above graphs SalePrice is highly correalted with all three features but we can see some outliers:\n",
    "For example in the first graph Price increases with the Overall Quality but we can some datapoints having very high quality but very low price\n",
    "\n",
    "Similiarly in the second and third graphs there are some data points with large GrLivArea and high GarageCars but have low Sale Price.\n",
    "\n",
    "We can already imagine that all these data points in these graphs are the same. Lets find out these datapoints.\n"
   ]
  },
  {
   "cell_type": "code",
   "execution_count": 8,
   "id": "5e4cbb55",
   "metadata": {},
   "outputs": [
    {
     "data": {
      "text/html": [
       "<div>\n",
       "<style scoped>\n",
       "    .dataframe tbody tr th:only-of-type {\n",
       "        vertical-align: middle;\n",
       "    }\n",
       "\n",
       "    .dataframe tbody tr th {\n",
       "        vertical-align: top;\n",
       "    }\n",
       "\n",
       "    .dataframe thead th {\n",
       "        text-align: right;\n",
       "    }\n",
       "</style>\n",
       "<table border=\"1\" class=\"dataframe\">\n",
       "  <thead>\n",
       "    <tr style=\"text-align: right;\">\n",
       "      <th></th>\n",
       "      <th>PID</th>\n",
       "      <th>MS SubClass</th>\n",
       "      <th>MS Zoning</th>\n",
       "      <th>Lot Frontage</th>\n",
       "      <th>Lot Area</th>\n",
       "      <th>Street</th>\n",
       "      <th>Alley</th>\n",
       "      <th>Lot Shape</th>\n",
       "      <th>Land Contour</th>\n",
       "      <th>Utilities</th>\n",
       "      <th>...</th>\n",
       "      <th>Pool Area</th>\n",
       "      <th>Pool QC</th>\n",
       "      <th>Fence</th>\n",
       "      <th>Misc Feature</th>\n",
       "      <th>Misc Val</th>\n",
       "      <th>Mo Sold</th>\n",
       "      <th>Yr Sold</th>\n",
       "      <th>Sale Type</th>\n",
       "      <th>Sale Condition</th>\n",
       "      <th>SalePrice</th>\n",
       "    </tr>\n",
       "  </thead>\n",
       "  <tbody>\n",
       "    <tr>\n",
       "      <th>1182</th>\n",
       "      <td>533350090</td>\n",
       "      <td>60</td>\n",
       "      <td>RL</td>\n",
       "      <td>NaN</td>\n",
       "      <td>24572</td>\n",
       "      <td>Pave</td>\n",
       "      <td>NaN</td>\n",
       "      <td>IR1</td>\n",
       "      <td>Lvl</td>\n",
       "      <td>AllPub</td>\n",
       "      <td>...</td>\n",
       "      <td>0</td>\n",
       "      <td>NaN</td>\n",
       "      <td>NaN</td>\n",
       "      <td>NaN</td>\n",
       "      <td>0</td>\n",
       "      <td>6</td>\n",
       "      <td>2008</td>\n",
       "      <td>WD</td>\n",
       "      <td>Family</td>\n",
       "      <td>150000</td>\n",
       "    </tr>\n",
       "    <tr>\n",
       "      <th>1498</th>\n",
       "      <td>908154235</td>\n",
       "      <td>60</td>\n",
       "      <td>RL</td>\n",
       "      <td>313.0</td>\n",
       "      <td>63887</td>\n",
       "      <td>Pave</td>\n",
       "      <td>NaN</td>\n",
       "      <td>IR3</td>\n",
       "      <td>Bnk</td>\n",
       "      <td>AllPub</td>\n",
       "      <td>...</td>\n",
       "      <td>480</td>\n",
       "      <td>Gd</td>\n",
       "      <td>NaN</td>\n",
       "      <td>NaN</td>\n",
       "      <td>0</td>\n",
       "      <td>1</td>\n",
       "      <td>2008</td>\n",
       "      <td>New</td>\n",
       "      <td>Partial</td>\n",
       "      <td>160000</td>\n",
       "    </tr>\n",
       "    <tr>\n",
       "      <th>2180</th>\n",
       "      <td>908154195</td>\n",
       "      <td>20</td>\n",
       "      <td>RL</td>\n",
       "      <td>128.0</td>\n",
       "      <td>39290</td>\n",
       "      <td>Pave</td>\n",
       "      <td>NaN</td>\n",
       "      <td>IR1</td>\n",
       "      <td>Bnk</td>\n",
       "      <td>AllPub</td>\n",
       "      <td>...</td>\n",
       "      <td>0</td>\n",
       "      <td>NaN</td>\n",
       "      <td>NaN</td>\n",
       "      <td>Elev</td>\n",
       "      <td>17000</td>\n",
       "      <td>10</td>\n",
       "      <td>2007</td>\n",
       "      <td>New</td>\n",
       "      <td>Partial</td>\n",
       "      <td>183850</td>\n",
       "    </tr>\n",
       "    <tr>\n",
       "      <th>2181</th>\n",
       "      <td>908154205</td>\n",
       "      <td>60</td>\n",
       "      <td>RL</td>\n",
       "      <td>130.0</td>\n",
       "      <td>40094</td>\n",
       "      <td>Pave</td>\n",
       "      <td>NaN</td>\n",
       "      <td>IR1</td>\n",
       "      <td>Bnk</td>\n",
       "      <td>AllPub</td>\n",
       "      <td>...</td>\n",
       "      <td>0</td>\n",
       "      <td>NaN</td>\n",
       "      <td>NaN</td>\n",
       "      <td>NaN</td>\n",
       "      <td>0</td>\n",
       "      <td>10</td>\n",
       "      <td>2007</td>\n",
       "      <td>New</td>\n",
       "      <td>Partial</td>\n",
       "      <td>184750</td>\n",
       "    </tr>\n",
       "  </tbody>\n",
       "</table>\n",
       "<p>4 rows × 81 columns</p>\n",
       "</div>"
      ],
      "text/plain": [
       "            PID  MS SubClass MS Zoning  Lot Frontage  Lot Area Street Alley  \\\n",
       "1182  533350090           60        RL           NaN     24572   Pave   NaN   \n",
       "1498  908154235           60        RL         313.0     63887   Pave   NaN   \n",
       "2180  908154195           20        RL         128.0     39290   Pave   NaN   \n",
       "2181  908154205           60        RL         130.0     40094   Pave   NaN   \n",
       "\n",
       "     Lot Shape Land Contour Utilities  ... Pool Area Pool QC Fence  \\\n",
       "1182       IR1          Lvl    AllPub  ...         0     NaN   NaN   \n",
       "1498       IR3          Bnk    AllPub  ...       480      Gd   NaN   \n",
       "2180       IR1          Bnk    AllPub  ...         0     NaN   NaN   \n",
       "2181       IR1          Bnk    AllPub  ...         0     NaN   NaN   \n",
       "\n",
       "     Misc Feature Misc Val Mo Sold Yr Sold  Sale Type  Sale Condition  \\\n",
       "1182          NaN        0       6    2008        WD           Family   \n",
       "1498          NaN        0       1    2008        New         Partial   \n",
       "2180         Elev    17000      10    2007        New         Partial   \n",
       "2181          NaN        0      10    2007        New         Partial   \n",
       "\n",
       "      SalePrice  \n",
       "1182     150000  \n",
       "1498     160000  \n",
       "2180     183850  \n",
       "2181     184750  \n",
       "\n",
       "[4 rows x 81 columns]"
      ]
     },
     "execution_count": 8,
     "metadata": {},
     "output_type": "execute_result"
    }
   ],
   "source": [
    "df[(df['Overall Qual']>8) & (df['SalePrice']<200000)]"
   ]
  },
  {
   "cell_type": "code",
   "execution_count": 9,
   "id": "4745adf4",
   "metadata": {},
   "outputs": [
    {
     "data": {
      "text/html": [
       "<div>\n",
       "<style scoped>\n",
       "    .dataframe tbody tr th:only-of-type {\n",
       "        vertical-align: middle;\n",
       "    }\n",
       "\n",
       "    .dataframe tbody tr th {\n",
       "        vertical-align: top;\n",
       "    }\n",
       "\n",
       "    .dataframe thead th {\n",
       "        text-align: right;\n",
       "    }\n",
       "</style>\n",
       "<table border=\"1\" class=\"dataframe\">\n",
       "  <thead>\n",
       "    <tr style=\"text-align: right;\">\n",
       "      <th></th>\n",
       "      <th>PID</th>\n",
       "      <th>MS SubClass</th>\n",
       "      <th>MS Zoning</th>\n",
       "      <th>Lot Frontage</th>\n",
       "      <th>Lot Area</th>\n",
       "      <th>Street</th>\n",
       "      <th>Alley</th>\n",
       "      <th>Lot Shape</th>\n",
       "      <th>Land Contour</th>\n",
       "      <th>Utilities</th>\n",
       "      <th>...</th>\n",
       "      <th>Pool Area</th>\n",
       "      <th>Pool QC</th>\n",
       "      <th>Fence</th>\n",
       "      <th>Misc Feature</th>\n",
       "      <th>Misc Val</th>\n",
       "      <th>Mo Sold</th>\n",
       "      <th>Yr Sold</th>\n",
       "      <th>Sale Type</th>\n",
       "      <th>Sale Condition</th>\n",
       "      <th>SalePrice</th>\n",
       "    </tr>\n",
       "  </thead>\n",
       "  <tbody>\n",
       "    <tr>\n",
       "      <th>1498</th>\n",
       "      <td>908154235</td>\n",
       "      <td>60</td>\n",
       "      <td>RL</td>\n",
       "      <td>313.0</td>\n",
       "      <td>63887</td>\n",
       "      <td>Pave</td>\n",
       "      <td>NaN</td>\n",
       "      <td>IR3</td>\n",
       "      <td>Bnk</td>\n",
       "      <td>AllPub</td>\n",
       "      <td>...</td>\n",
       "      <td>480</td>\n",
       "      <td>Gd</td>\n",
       "      <td>NaN</td>\n",
       "      <td>NaN</td>\n",
       "      <td>0</td>\n",
       "      <td>1</td>\n",
       "      <td>2008</td>\n",
       "      <td>New</td>\n",
       "      <td>Partial</td>\n",
       "      <td>160000</td>\n",
       "    </tr>\n",
       "    <tr>\n",
       "      <th>2180</th>\n",
       "      <td>908154195</td>\n",
       "      <td>20</td>\n",
       "      <td>RL</td>\n",
       "      <td>128.0</td>\n",
       "      <td>39290</td>\n",
       "      <td>Pave</td>\n",
       "      <td>NaN</td>\n",
       "      <td>IR1</td>\n",
       "      <td>Bnk</td>\n",
       "      <td>AllPub</td>\n",
       "      <td>...</td>\n",
       "      <td>0</td>\n",
       "      <td>NaN</td>\n",
       "      <td>NaN</td>\n",
       "      <td>Elev</td>\n",
       "      <td>17000</td>\n",
       "      <td>10</td>\n",
       "      <td>2007</td>\n",
       "      <td>New</td>\n",
       "      <td>Partial</td>\n",
       "      <td>183850</td>\n",
       "    </tr>\n",
       "    <tr>\n",
       "      <th>2181</th>\n",
       "      <td>908154205</td>\n",
       "      <td>60</td>\n",
       "      <td>RL</td>\n",
       "      <td>130.0</td>\n",
       "      <td>40094</td>\n",
       "      <td>Pave</td>\n",
       "      <td>NaN</td>\n",
       "      <td>IR1</td>\n",
       "      <td>Bnk</td>\n",
       "      <td>AllPub</td>\n",
       "      <td>...</td>\n",
       "      <td>0</td>\n",
       "      <td>NaN</td>\n",
       "      <td>NaN</td>\n",
       "      <td>NaN</td>\n",
       "      <td>0</td>\n",
       "      <td>10</td>\n",
       "      <td>2007</td>\n",
       "      <td>New</td>\n",
       "      <td>Partial</td>\n",
       "      <td>184750</td>\n",
       "    </tr>\n",
       "  </tbody>\n",
       "</table>\n",
       "<p>3 rows × 81 columns</p>\n",
       "</div>"
      ],
      "text/plain": [
       "            PID  MS SubClass MS Zoning  Lot Frontage  Lot Area Street Alley  \\\n",
       "1498  908154235           60        RL         313.0     63887   Pave   NaN   \n",
       "2180  908154195           20        RL         128.0     39290   Pave   NaN   \n",
       "2181  908154205           60        RL         130.0     40094   Pave   NaN   \n",
       "\n",
       "     Lot Shape Land Contour Utilities  ... Pool Area Pool QC Fence  \\\n",
       "1498       IR3          Bnk    AllPub  ...       480      Gd   NaN   \n",
       "2180       IR1          Bnk    AllPub  ...         0     NaN   NaN   \n",
       "2181       IR1          Bnk    AllPub  ...         0     NaN   NaN   \n",
       "\n",
       "     Misc Feature Misc Val Mo Sold Yr Sold  Sale Type  Sale Condition  \\\n",
       "1498          NaN        0       1    2008        New         Partial   \n",
       "2180         Elev    17000      10    2007        New         Partial   \n",
       "2181          NaN        0      10    2007        New         Partial   \n",
       "\n",
       "      SalePrice  \n",
       "1498     160000  \n",
       "2180     183850  \n",
       "2181     184750  \n",
       "\n",
       "[3 rows x 81 columns]"
      ]
     },
     "execution_count": 9,
     "metadata": {},
     "output_type": "execute_result"
    }
   ],
   "source": [
    "df[(df['Gr Liv Area']>4000) & (df['SalePrice']<250000)]"
   ]
  },
  {
   "cell_type": "code",
   "execution_count": 10,
   "id": "b639b41d",
   "metadata": {},
   "outputs": [],
   "source": [
    "Overall_qual_outliers = df[(df['Overall Qual']>8) & (df['SalePrice']<250000)].index\n",
    "Gr_Liv_outliers = df[(df['Gr Liv Area']>4000) & (df['SalePrice']<250000)].index\n",
    "\n",
    "df = df.drop(Overall_qual_outliers, axis= 0)"
   ]
  },
  {
   "cell_type": "code",
   "execution_count": 11,
   "id": "564de885",
   "metadata": {},
   "outputs": [
    {
     "data": {
      "text/plain": [
       "Text(0.5, 0, 'GarageCars')"
      ]
     },
     "execution_count": 11,
     "metadata": {},
     "output_type": "execute_result"
    },
    {
     "data": {
      "image/png": "[encoded data removed]",
      "text/plain": [
       "<Figure size 1080x360 with 3 Axes>"
      ]
     },
     "metadata": {
      "needs_background": "light"
     },
     "output_type": "display_data"
    }
   ],
   "source": [
    "fig, ax = plt.subplots(1,3,figsize=(15,5))\n",
    "\n",
    "ax[0].scatter(df['Overall Qual'],df['SalePrice'])\n",
    "ax[1].scatter(df['Gr Liv Area'],df['SalePrice'])\n",
    "ax[2].scatter(df['Garage Cars'],df['SalePrice'])\n",
    "\n",
    "ax[0].set_ylabel('SalePrice')\n",
    "ax[0].set_xlabel('OverallQual')\n",
    "ax[1].set_xlabel('GrLivArea')\n",
    "ax[2].set_xlabel('GarageCars')"
   ]
  },
  {
   "cell_type": "markdown",
   "id": "908a578a",
   "metadata": {},
   "source": [
    "### 4 outliers are removed\n",
    "---\n",
    "---\n",
    "## Now lets handle the missing data."
   ]
  },
  {
   "cell_type": "code",
   "execution_count": 12,
   "id": "e09601fa",
   "metadata": {},
   "outputs": [
    {
     "data": {
      "text/plain": [
       "(2924, 81)"
      ]
     },
     "execution_count": 12,
     "metadata": {},
     "output_type": "execute_result"
    }
   ],
   "source": [
    "df.shape"
   ]
  },
  {
   "cell_type": "code",
   "execution_count": 13,
   "id": "4cb4c842",
   "metadata": {},
   "outputs": [
    {
     "data": {
      "text/html": [
       "<div>\n",
       "<style scoped>\n",
       "    .dataframe tbody tr th:only-of-type {\n",
       "        vertical-align: middle;\n",
       "    }\n",
       "\n",
       "    .dataframe tbody tr th {\n",
       "        vertical-align: top;\n",
       "    }\n",
       "\n",
       "    .dataframe thead th {\n",
       "        text-align: right;\n",
       "    }\n",
       "</style>\n",
       "<table border=\"1\" class=\"dataframe\">\n",
       "  <thead>\n",
       "    <tr style=\"text-align: right;\">\n",
       "      <th></th>\n",
       "      <th>PID</th>\n",
       "      <th>MS SubClass</th>\n",
       "      <th>MS Zoning</th>\n",
       "      <th>Lot Frontage</th>\n",
       "      <th>Lot Area</th>\n",
       "      <th>Street</th>\n",
       "      <th>Alley</th>\n",
       "      <th>Lot Shape</th>\n",
       "      <th>Land Contour</th>\n",
       "      <th>Utilities</th>\n",
       "      <th>...</th>\n",
       "      <th>Pool Area</th>\n",
       "      <th>Pool QC</th>\n",
       "      <th>Fence</th>\n",
       "      <th>Misc Feature</th>\n",
       "      <th>Misc Val</th>\n",
       "      <th>Mo Sold</th>\n",
       "      <th>Yr Sold</th>\n",
       "      <th>Sale Type</th>\n",
       "      <th>Sale Condition</th>\n",
       "      <th>SalePrice</th>\n",
       "    </tr>\n",
       "  </thead>\n",
       "  <tbody>\n",
       "    <tr>\n",
       "      <th>0</th>\n",
       "      <td>526301100</td>\n",
       "      <td>20</td>\n",
       "      <td>RL</td>\n",
       "      <td>141.0</td>\n",
       "      <td>31770</td>\n",
       "      <td>Pave</td>\n",
       "      <td>NaN</td>\n",
       "      <td>IR1</td>\n",
       "      <td>Lvl</td>\n",
       "      <td>AllPub</td>\n",
       "      <td>...</td>\n",
       "      <td>0</td>\n",
       "      <td>NaN</td>\n",
       "      <td>NaN</td>\n",
       "      <td>NaN</td>\n",
       "      <td>0</td>\n",
       "      <td>5</td>\n",
       "      <td>2010</td>\n",
       "      <td>WD</td>\n",
       "      <td>Normal</td>\n",
       "      <td>215000</td>\n",
       "    </tr>\n",
       "    <tr>\n",
       "      <th>1</th>\n",
       "      <td>526350040</td>\n",
       "      <td>20</td>\n",
       "      <td>RH</td>\n",
       "      <td>80.0</td>\n",
       "      <td>11622</td>\n",
       "      <td>Pave</td>\n",
       "      <td>NaN</td>\n",
       "      <td>Reg</td>\n",
       "      <td>Lvl</td>\n",
       "      <td>AllPub</td>\n",
       "      <td>...</td>\n",
       "      <td>0</td>\n",
       "      <td>NaN</td>\n",
       "      <td>MnPrv</td>\n",
       "      <td>NaN</td>\n",
       "      <td>0</td>\n",
       "      <td>6</td>\n",
       "      <td>2010</td>\n",
       "      <td>WD</td>\n",
       "      <td>Normal</td>\n",
       "      <td>105000</td>\n",
       "    </tr>\n",
       "    <tr>\n",
       "      <th>2</th>\n",
       "      <td>526351010</td>\n",
       "      <td>20</td>\n",
       "      <td>RL</td>\n",
       "      <td>81.0</td>\n",
       "      <td>14267</td>\n",
       "      <td>Pave</td>\n",
       "      <td>NaN</td>\n",
       "      <td>IR1</td>\n",
       "      <td>Lvl</td>\n",
       "      <td>AllPub</td>\n",
       "      <td>...</td>\n",
       "      <td>0</td>\n",
       "      <td>NaN</td>\n",
       "      <td>NaN</td>\n",
       "      <td>Gar2</td>\n",
       "      <td>12500</td>\n",
       "      <td>6</td>\n",
       "      <td>2010</td>\n",
       "      <td>WD</td>\n",
       "      <td>Normal</td>\n",
       "      <td>172000</td>\n",
       "    </tr>\n",
       "    <tr>\n",
       "      <th>3</th>\n",
       "      <td>526353030</td>\n",
       "      <td>20</td>\n",
       "      <td>RL</td>\n",
       "      <td>93.0</td>\n",
       "      <td>11160</td>\n",
       "      <td>Pave</td>\n",
       "      <td>NaN</td>\n",
       "      <td>Reg</td>\n",
       "      <td>Lvl</td>\n",
       "      <td>AllPub</td>\n",
       "      <td>...</td>\n",
       "      <td>0</td>\n",
       "      <td>NaN</td>\n",
       "      <td>NaN</td>\n",
       "      <td>NaN</td>\n",
       "      <td>0</td>\n",
       "      <td>4</td>\n",
       "      <td>2010</td>\n",
       "      <td>WD</td>\n",
       "      <td>Normal</td>\n",
       "      <td>244000</td>\n",
       "    </tr>\n",
       "    <tr>\n",
       "      <th>4</th>\n",
       "      <td>527105010</td>\n",
       "      <td>60</td>\n",
       "      <td>RL</td>\n",
       "      <td>74.0</td>\n",
       "      <td>13830</td>\n",
       "      <td>Pave</td>\n",
       "      <td>NaN</td>\n",
       "      <td>IR1</td>\n",
       "      <td>Lvl</td>\n",
       "      <td>AllPub</td>\n",
       "      <td>...</td>\n",
       "      <td>0</td>\n",
       "      <td>NaN</td>\n",
       "      <td>MnPrv</td>\n",
       "      <td>NaN</td>\n",
       "      <td>0</td>\n",
       "      <td>3</td>\n",
       "      <td>2010</td>\n",
       "      <td>WD</td>\n",
       "      <td>Normal</td>\n",
       "      <td>189900</td>\n",
       "    </tr>\n",
       "  </tbody>\n",
       "</table>\n",
       "<p>5 rows × 81 columns</p>\n",
       "</div>"
      ],
      "text/plain": [
       "         PID  MS SubClass MS Zoning  Lot Frontage  Lot Area Street Alley  \\\n",
       "0  526301100           20        RL         141.0     31770   Pave   NaN   \n",
       "1  526350040           20        RH          80.0     11622   Pave   NaN   \n",
       "2  526351010           20        RL          81.0     14267   Pave   NaN   \n",
       "3  526353030           20        RL          93.0     11160   Pave   NaN   \n",
       "4  527105010           60        RL          74.0     13830   Pave   NaN   \n",
       "\n",
       "  Lot Shape Land Contour Utilities  ... Pool Area Pool QC  Fence Misc Feature  \\\n",
       "0       IR1          Lvl    AllPub  ...         0     NaN    NaN          NaN   \n",
       "1       Reg          Lvl    AllPub  ...         0     NaN  MnPrv          NaN   \n",
       "2       IR1          Lvl    AllPub  ...         0     NaN    NaN         Gar2   \n",
       "3       Reg          Lvl    AllPub  ...         0     NaN    NaN          NaN   \n",
       "4       IR1          Lvl    AllPub  ...         0     NaN  MnPrv          NaN   \n",
       "\n",
       "  Misc Val Mo Sold Yr Sold  Sale Type  Sale Condition  SalePrice  \n",
       "0        0       5    2010        WD           Normal     215000  \n",
       "1        0       6    2010        WD           Normal     105000  \n",
       "2    12500       6    2010        WD           Normal     172000  \n",
       "3        0       4    2010        WD           Normal     244000  \n",
       "4        0       3    2010        WD           Normal     189900  \n",
       "\n",
       "[5 rows x 81 columns]"
      ]
     },
     "execution_count": 13,
     "metadata": {},
     "output_type": "execute_result"
    }
   ],
   "source": [
    "df.head()"
   ]
  },
  {
   "cell_type": "markdown",
   "id": "1bd9ff76",
   "metadata": {},
   "source": [
    "### Column PID is not required as we have as seperate index column qnd PID does not hold any information."
   ]
  },
  {
   "cell_type": "code",
   "execution_count": 14,
   "id": "cc2e5ef5",
   "metadata": {},
   "outputs": [
    {
     "data": {
      "text/plain": [
       "Index(['MS SubClass', 'MS Zoning', 'Lot Frontage', 'Lot Area', 'Street',\n",
       "       'Alley', 'Lot Shape', 'Land Contour', 'Utilities', 'Lot Config',\n",
       "       'Land Slope', 'Neighborhood', 'Condition 1', 'Condition 2', 'Bldg Type',\n",
       "       'House Style', 'Overall Qual', 'Overall Cond', 'Year Built',\n",
       "       'Year Remod/Add', 'Roof Style', 'Roof Matl', 'Exterior 1st',\n",
       "       'Exterior 2nd', 'Mas Vnr Type', 'Mas Vnr Area', 'Exter Qual',\n",
       "       'Exter Cond', 'Foundation', 'Bsmt Qual', 'Bsmt Cond', 'Bsmt Exposure',\n",
       "       'BsmtFin Type 1', 'BsmtFin SF 1', 'BsmtFin Type 2', 'BsmtFin SF 2',\n",
       "       'Bsmt Unf SF', 'Total Bsmt SF', 'Heating', 'Heating QC', 'Central Air',\n",
       "       'Electrical', '1st Flr SF', '2nd Flr SF', 'Low Qual Fin SF',\n",
       "       'Gr Liv Area', 'Bsmt Full Bath', 'Bsmt Half Bath', 'Full Bath',\n",
       "       'Half Bath', 'Bedroom AbvGr', 'Kitchen AbvGr', 'Kitchen Qual',\n",
       "       'TotRms AbvGrd', 'Functional', 'Fireplaces', 'Fireplace Qu',\n",
       "       'Garage Type', 'Garage Yr Blt', 'Garage Finish', 'Garage Cars',\n",
       "       'Garage Area', 'Garage Qual', 'Garage Cond', 'Paved Drive',\n",
       "       'Wood Deck SF', 'Open Porch SF', 'Enclosed Porch', '3Ssn Porch',\n",
       "       'Screen Porch', 'Pool Area', 'Pool QC', 'Fence', 'Misc Feature',\n",
       "       'Misc Val', 'Mo Sold', 'Yr Sold', 'Sale Type', 'Sale Condition',\n",
       "       'SalePrice'],\n",
       "      dtype='object')"
      ]
     },
     "execution_count": 14,
     "metadata": {},
     "output_type": "execute_result"
    }
   ],
   "source": [
    "df = df.iloc[:,1:]                    #dropping ID column\n",
    "df.columns"
   ]
  },
  {
   "cell_type": "code",
   "execution_count": 15,
   "id": "198d2d3f",
   "metadata": {},
   "outputs": [
    {
     "name": "stdout",
     "output_type": "stream",
     "text": [
      "<class 'pandas.core.frame.DataFrame'>\n",
      "Int64Index: 2924 entries, 0 to 2929\n",
      "Data columns (total 80 columns):\n",
      " #   Column           Non-Null Count  Dtype  \n",
      "---  ------           --------------  -----  \n",
      " 0   MS SubClass      2924 non-null   int64  \n",
      " 1   MS Zoning        2924 non-null   object \n",
      " 2   Lot Frontage     2435 non-null   float64\n",
      " 3   Lot Area         2924 non-null   int64  \n",
      " 4   Street           2924 non-null   object \n",
      " 5   Alley            198 non-null    object \n",
      " 6   Lot Shape        2924 non-null   object \n",
      " 7   Land Contour     2924 non-null   object \n",
      " 8   Utilities        2924 non-null   object \n",
      " 9   Lot Config       2924 non-null   object \n",
      " 10  Land Slope       2924 non-null   object \n",
      " 11  Neighborhood     2924 non-null   object \n",
      " 12  Condition 1      2924 non-null   object \n",
      " 13  Condition 2      2924 non-null   object \n",
      " 14  Bldg Type        2924 non-null   object \n",
      " 15  House Style      2924 non-null   object \n",
      " 16  Overall Qual     2924 non-null   int64  \n",
      " 17  Overall Cond     2924 non-null   int64  \n",
      " 18  Year Built       2924 non-null   int64  \n",
      " 19  Year Remod/Add   2924 non-null   int64  \n",
      " 20  Roof Style       2924 non-null   object \n",
      " 21  Roof Matl        2924 non-null   object \n",
      " 22  Exterior 1st     2924 non-null   object \n",
      " 23  Exterior 2nd     2924 non-null   object \n",
      " 24  Mas Vnr Type     2901 non-null   object \n",
      " 25  Mas Vnr Area     2901 non-null   float64\n",
      " 26  Exter Qual       2924 non-null   object \n",
      " 27  Exter Cond       2924 non-null   object \n",
      " 28  Foundation       2924 non-null   object \n",
      " 29  Bsmt Qual        2844 non-null   object \n",
      " 30  Bsmt Cond        2844 non-null   object \n",
      " 31  Bsmt Exposure    2841 non-null   object \n",
      " 32  BsmtFin Type 1   2844 non-null   object \n",
      " 33  BsmtFin SF 1     2923 non-null   float64\n",
      " 34  BsmtFin Type 2   2843 non-null   object \n",
      " 35  BsmtFin SF 2     2923 non-null   float64\n",
      " 36  Bsmt Unf SF      2923 non-null   float64\n",
      " 37  Total Bsmt SF    2923 non-null   float64\n",
      " 38  Heating          2924 non-null   object \n",
      " 39  Heating QC       2924 non-null   object \n",
      " 40  Central Air      2924 non-null   object \n",
      " 41  Electrical       2923 non-null   object \n",
      " 42  1st Flr SF       2924 non-null   int64  \n",
      " 43  2nd Flr SF       2924 non-null   int64  \n",
      " 44  Low Qual Fin SF  2924 non-null   int64  \n",
      " 45  Gr Liv Area      2924 non-null   int64  \n",
      " 46  Bsmt Full Bath   2922 non-null   float64\n",
      " 47  Bsmt Half Bath   2922 non-null   float64\n",
      " 48  Full Bath        2924 non-null   int64  \n",
      " 49  Half Bath        2924 non-null   int64  \n",
      " 50  Bedroom AbvGr    2924 non-null   int64  \n",
      " 51  Kitchen AbvGr    2924 non-null   int64  \n",
      " 52  Kitchen Qual     2924 non-null   object \n",
      " 53  TotRms AbvGrd    2924 non-null   int64  \n",
      " 54  Functional       2924 non-null   object \n",
      " 55  Fireplaces       2924 non-null   int64  \n",
      " 56  Fireplace Qu     1503 non-null   object \n",
      " 57  Garage Type      2767 non-null   object \n",
      " 58  Garage Yr Blt    2765 non-null   float64\n",
      " 59  Garage Finish    2765 non-null   object \n",
      " 60  Garage Cars      2923 non-null   float64\n",
      " 61  Garage Area      2923 non-null   float64\n",
      " 62  Garage Qual      2765 non-null   object \n",
      " 63  Garage Cond      2765 non-null   object \n",
      " 64  Paved Drive      2924 non-null   object \n",
      " 65  Wood Deck SF     2924 non-null   int64  \n",
      " 66  Open Porch SF    2924 non-null   int64  \n",
      " 67  Enclosed Porch   2924 non-null   int64  \n",
      " 68  3Ssn Porch       2924 non-null   int64  \n",
      " 69  Screen Porch     2924 non-null   int64  \n",
      " 70  Pool Area        2924 non-null   int64  \n",
      " 71  Pool QC          12 non-null     object \n",
      " 72  Fence            572 non-null    object \n",
      " 73  Misc Feature     105 non-null    object \n",
      " 74  Misc Val         2924 non-null   int64  \n",
      " 75  Mo Sold          2924 non-null   int64  \n",
      " 76  Yr Sold          2924 non-null   int64  \n",
      " 77  Sale Type        2924 non-null   object \n",
      " 78  Sale Condition   2924 non-null   object \n",
      " 79  SalePrice        2924 non-null   int64  \n",
      "dtypes: float64(11), int64(26), object(43)\n",
      "memory usage: 1.8+ MB\n"
     ]
    }
   ],
   "source": [
    "df.info()"
   ]
  },
  {
   "cell_type": "markdown",
   "id": "27019d3a",
   "metadata": {},
   "source": [
    "### Lets get a sorted of number of null values in each column."
   ]
  },
  {
   "cell_type": "code",
   "execution_count": 16,
   "id": "2593d720",
   "metadata": {},
   "outputs": [
    {
     "data": {
      "text/plain": [
       "Pool QC         2912\n",
       "Misc Feature    2819\n",
       "Alley           2726\n",
       "Fence           2352\n",
       "Fireplace Qu    1421\n",
       "                ... \n",
       "Heating QC         0\n",
       "MS Zoning          0\n",
       "1st Flr SF         0\n",
       "2nd Flr SF         0\n",
       "SalePrice          0\n",
       "Length: 80, dtype: int64"
      ]
     },
     "execution_count": 16,
     "metadata": {},
     "output_type": "execute_result"
    }
   ],
   "source": [
    "df.isnull().sum().sort_values(ascending = False)"
   ]
  },
  {
   "cell_type": "code",
   "execution_count": 17,
   "id": "75797413",
   "metadata": {},
   "outputs": [
    {
     "data": {
      "text/plain": [
       "Pool QC          99.589603\n",
       "Misc Feature     96.409029\n",
       "Alley            93.228454\n",
       "Fence            80.437756\n",
       "Fireplace Qu     48.597811\n",
       "Lot Frontage     16.723666\n",
       "Garage Cond       5.437756\n",
       "Garage Finish     5.437756\n",
       "Garage Yr Blt     5.437756\n",
       "Garage Qual       5.437756\n",
       "dtype: float64"
      ]
     },
     "execution_count": 17,
     "metadata": {},
     "output_type": "execute_result"
    }
   ],
   "source": [
    "null_cols=(((df.isnull().sum())/df.shape[0])*100).sort_values(ascending = False).head(10)\n",
    "null_cols"
   ]
  },
  {
   "cell_type": "code",
   "execution_count": 18,
   "id": "9debe387",
   "metadata": {},
   "outputs": [
    {
     "name": "stdout",
     "output_type": "stream",
     "text": [
      "Number of Duplicates: 0\n",
      "Number of Missing Values: 13973\n"
     ]
    }
   ],
   "source": [
    "# Do we have duplicates?\n",
    "print('Number of Duplicates:', len(df[df.duplicated()]))\n",
    "\n",
    "# Do we have missing values?\n",
    "print('Number of Missing Values:', df.isnull().sum().sum())"
   ]
  },
  {
   "cell_type": "code",
   "execution_count": 19,
   "id": "81945ae6",
   "metadata": {},
   "outputs": [
    {
     "data": {
      "image/png": "[encoded data removed]",
      "text/plain": [
       "<Figure size 432x288 with 1 Axes>"
      ]
     },
     "metadata": {
      "needs_background": "light"
     },
     "output_type": "display_data"
    }
   ],
   "source": [
    "sns.barplot(x=null_cols.index,y=null_cols)\n",
    "plt.xticks(rotation=90);"
   ]
  },
  {
   "cell_type": "markdown",
   "id": "8f6ebdc7",
   "metadata": {},
   "source": [
    "Sometimes it is a good idea to remove a feature entirely if it has too many null values. However, you should carefully consider why it has so many null values, in certain situations null could just be used as a separate category.\n",
    "\n",
    "Take for example a feature column for the number of cars that can fit into a garage. Perhaps if there is no garage then there is a null value, instead of a zero. It probably makes more sense to quickly fill the null values in this case with a zero instead of a null. Only you can decide based off your domain expertise and knowledge of the data set.\n",
    "\n",
    "---"
   ]
  },
  {
   "cell_type": "code",
   "execution_count": 20,
   "id": "06e341e9",
   "metadata": {},
   "outputs": [
    {
     "name": "stdout",
     "output_type": "stream",
     "text": [
      "Count of Features per Data Type:\n"
     ]
    },
    {
     "data": {
      "text/plain": [
       "object     43\n",
       "int64      26\n",
       "float64    11\n",
       "dtype: int64"
      ]
     },
     "execution_count": 20,
     "metadata": {},
     "output_type": "execute_result"
    }
   ],
   "source": [
    "print('Count of Features per Data Type:')\n",
    "df.dtypes.value_counts() "
   ]
  },
  {
   "cell_type": "code",
   "execution_count": 21,
   "id": "cba836dd",
   "metadata": {},
   "outputs": [
    {
     "data": {
      "text/plain": [
       "Index(['Garage Type', 'Garage Yr Blt', 'Garage Finish', 'Garage Cars',\n",
       "       'Garage Area', 'Garage Qual', 'Garage Cond'],\n",
       "      dtype='object')"
      ]
     },
     "execution_count": 21,
     "metadata": {},
     "output_type": "execute_result"
    }
   ],
   "source": [
    "garage_cols = df.columns[df.columns.str.startswith('Garage')]\n",
    "garage_cols"
   ]
  },
  {
   "cell_type": "code",
   "execution_count": 22,
   "id": "692f531f",
   "metadata": {},
   "outputs": [
    {
     "data": {
      "text/plain": [
       "Index(['Bsmt Qual', 'Bsmt Cond', 'Bsmt Exposure', 'BsmtFin Type 1',\n",
       "       'BsmtFin SF 1', 'BsmtFin Type 2', 'BsmtFin SF 2', 'Bsmt Unf SF',\n",
       "       'Bsmt Full Bath', 'Bsmt Half Bath'],\n",
       "      dtype='object')"
      ]
     },
     "execution_count": 22,
     "metadata": {},
     "output_type": "execute_result"
    }
   ],
   "source": [
    "bsmt_cols = df.columns[df.columns.str.startswith('Bsmt')]\n",
    "bsmt_cols"
   ]
  },
  {
   "cell_type": "code",
   "execution_count": 23,
   "id": "d259a93e",
   "metadata": {},
   "outputs": [
    {
     "data": {
      "text/plain": [
       "Index(['Mas Vnr Type', 'Mas Vnr Area'], dtype='object')"
      ]
     },
     "execution_count": 23,
     "metadata": {},
     "output_type": "execute_result"
    }
   ],
   "source": [
    "mas_cols = df.columns[df.columns.str.startswith('Mas')]\n",
    "mas_cols"
   ]
  },
  {
   "cell_type": "code",
   "execution_count": 24,
   "id": "2a56b697",
   "metadata": {},
   "outputs": [],
   "source": [
    "for cols in df[garage_cols].select_dtypes(exclude='object'):\n",
    "    df[cols] = df[cols].fillna(0)\n",
    "    \n",
    "for cols in df[garage_cols].select_dtypes(include='object'):\n",
    "    df[cols] = df[cols].fillna('None')\n",
    "    \n",
    "for cols in df[bsmt_cols].select_dtypes(exclude='object'):\n",
    "    df[cols] = df[cols].fillna(0)\n",
    "    \n",
    "for cols in df[bsmt_cols].select_dtypes(include='object'):\n",
    "    df[cols] = df[cols].fillna('None')"
   ]
  },
  {
   "cell_type": "markdown",
   "id": "95b0e7f4",
   "metadata": {},
   "source": [
    "All the features that start with Mas and contain NaN means that those houses don't have a masonry veneer"
   ]
  },
  {
   "cell_type": "code",
   "execution_count": 25,
   "id": "2ee30a13",
   "metadata": {},
   "outputs": [],
   "source": [
    "for cols in df[mas_cols].select_dtypes(exclude='object'):\n",
    "    df[cols] = df[cols].fillna(0)\n",
    "    \n",
    "for cols in df[mas_cols].select_dtypes(include='object'):\n",
    "    df[cols] = df[cols].fillna('None')"
   ]
  },
  {
   "cell_type": "markdown",
   "id": "e1e422b3",
   "metadata": {
    "id": "6btWAk3RsG5F"
   },
   "source": [
    "PoolQC refers to the pool quality of the house. Data description says that having a NaN in this category means that the house doesn't have a pool.</div>"
   ]
  },
  {
   "cell_type": "code",
   "execution_count": 26,
   "id": "aa572bbd",
   "metadata": {
    "execution": {
     "iopub.execute_input": "2021-10-16T23:59:04.437615Z",
     "iopub.status.busy": "2021-10-16T23:59:04.43741Z",
     "iopub.status.idle": "2021-10-16T23:59:04.443175Z",
     "shell.execute_reply": "2021-10-16T23:59:04.442431Z",
     "shell.execute_reply.started": "2021-10-16T23:59:04.43759Z"
    },
    "id": "J6dnYeK6sG5F"
   },
   "outputs": [],
   "source": [
    "df['Pool QC'] = df['Pool QC'].fillna('None')"
   ]
  },
  {
   "cell_type": "markdown",
   "id": "048f618c",
   "metadata": {
    "id": "4WSXhMelsG5G"
   },
   "source": [
    "MiscFeature refers to miscellaneous features of the house. Data description says that having a NaN in this category means that the house doesn't have any.</div>"
   ]
  },
  {
   "cell_type": "code",
   "execution_count": 27,
   "id": "380d0946",
   "metadata": {
    "execution": {
     "iopub.execute_input": "2021-10-16T23:59:04.444992Z",
     "iopub.status.busy": "2021-10-16T23:59:04.444523Z",
     "iopub.status.idle": "2021-10-16T23:59:04.455178Z",
     "shell.execute_reply": "2021-10-16T23:59:04.45441Z",
     "shell.execute_reply.started": "2021-10-16T23:59:04.444951Z"
    },
    "id": "wLunEc5BsG5G"
   },
   "outputs": [],
   "source": [
    "df['Misc Feature'] = df['Misc Feature'].fillna('None')"
   ]
  },
  {
   "cell_type": "markdown",
   "id": "662dfc57",
   "metadata": {
    "id": "9N23fB7JsG5G"
   },
   "source": [
    "Alley refers to the type of alley access to the property. Data description says that having a NaN in this category means that the house doesn't have any.</div>"
   ]
  },
  {
   "cell_type": "code",
   "execution_count": 28,
   "id": "29c5c409",
   "metadata": {
    "execution": {
     "iopub.execute_input": "2021-10-16T23:59:04.457268Z",
     "iopub.status.busy": "2021-10-16T23:59:04.456743Z",
     "iopub.status.idle": "2021-10-16T23:59:04.467289Z",
     "shell.execute_reply": "2021-10-16T23:59:04.466699Z",
     "shell.execute_reply.started": "2021-10-16T23:59:04.457202Z"
    },
    "id": "pjXWAwKKsG5H"
   },
   "outputs": [],
   "source": [
    "df['Alley'] = df['Alley'].fillna('None')"
   ]
  },
  {
   "cell_type": "markdown",
   "id": "316375df",
   "metadata": {
    "id": "1zUsmvJdsG5H"
   },
   "source": [
    "Fence refers to the type of fencing around the property. Data description says that having a NaN in this category means that the house doesn't have a fence.</div>\n"
   ]
  },
  {
   "cell_type": "code",
   "execution_count": 29,
   "id": "f0a97a0f",
   "metadata": {
    "execution": {
     "iopub.execute_input": "2021-10-16T23:59:04.46908Z",
     "iopub.status.busy": "2021-10-16T23:59:04.468607Z",
     "iopub.status.idle": "2021-10-16T23:59:04.479364Z",
     "shell.execute_reply": "2021-10-16T23:59:04.47849Z",
     "shell.execute_reply.started": "2021-10-16T23:59:04.469039Z"
    },
    "id": "A5UzEN3JsG5H"
   },
   "outputs": [],
   "source": [
    "df['Fence'] = df['Fence'].fillna('None')"
   ]
  },
  {
   "cell_type": "markdown",
   "id": "2c72811b",
   "metadata": {
    "id": "4H2T4b1qsG5I"
   },
   "source": [
    "FireplaceQu refers to the quality of the fireplace. Data description says that having a NaN in this category means that the house doesn't have a fireplace.</div>"
   ]
  },
  {
   "cell_type": "code",
   "execution_count": 30,
   "id": "bcc80344",
   "metadata": {
    "execution": {
     "iopub.execute_input": "2021-10-16T23:59:04.481147Z",
     "iopub.status.busy": "2021-10-16T23:59:04.48085Z",
     "iopub.status.idle": "2021-10-16T23:59:04.49044Z",
     "shell.execute_reply": "2021-10-16T23:59:04.489659Z",
     "shell.execute_reply.started": "2021-10-16T23:59:04.481109Z"
    },
    "id": "KnMqNQwxsG5I"
   },
   "outputs": [],
   "source": [
    "df['Fireplace Qu'] = df['Fireplace Qu'].fillna('None')"
   ]
  },
  {
   "cell_type": "markdown",
   "id": "446ac22c",
   "metadata": {
    "id": "fa2ECnVHsG5I"
   },
   "source": [
    "LotFrontage refers to the distance in feet between the street and the property. Let's impute the missing values with the median of the neighborhood.</div>"
   ]
  },
  {
   "cell_type": "code",
   "execution_count": 31,
   "id": "3e381766",
   "metadata": {
    "colab": {
     "base_uri": "https://localhost:8080/",
     "height": 439
    },
    "execution": {
     "iopub.execute_input": "2021-10-16T23:59:04.4923Z",
     "iopub.status.busy": "2021-10-16T23:59:04.491661Z",
     "iopub.status.idle": "2021-10-16T23:59:04.511548Z",
     "shell.execute_reply": "2021-10-16T23:59:04.510582Z",
     "shell.execute_reply.started": "2021-10-16T23:59:04.492264Z"
    },
    "id": "gjUiEN49sG5I",
    "outputId": "bb3888ec-d41b-4a40-e0cb-b6ef5beba1fd"
   },
   "outputs": [
    {
     "data": {
      "text/html": [
       "<div>\n",
       "<style scoped>\n",
       "    .dataframe tbody tr th:only-of-type {\n",
       "        vertical-align: middle;\n",
       "    }\n",
       "\n",
       "    .dataframe tbody tr th {\n",
       "        vertical-align: top;\n",
       "    }\n",
       "\n",
       "    .dataframe thead th {\n",
       "        text-align: right;\n",
       "    }\n",
       "</style>\n",
       "<table border=\"1\" class=\"dataframe\">\n",
       "  <thead>\n",
       "    <tr style=\"text-align: right;\">\n",
       "      <th></th>\n",
       "      <th>MS SubClass</th>\n",
       "      <th>MS Zoning</th>\n",
       "      <th>Lot Frontage</th>\n",
       "      <th>Lot Area</th>\n",
       "      <th>Street</th>\n",
       "      <th>Alley</th>\n",
       "      <th>Lot Shape</th>\n",
       "      <th>Land Contour</th>\n",
       "      <th>Utilities</th>\n",
       "      <th>Lot Config</th>\n",
       "      <th>...</th>\n",
       "      <th>Pool Area</th>\n",
       "      <th>Pool QC</th>\n",
       "      <th>Fence</th>\n",
       "      <th>Misc Feature</th>\n",
       "      <th>Misc Val</th>\n",
       "      <th>Mo Sold</th>\n",
       "      <th>Yr Sold</th>\n",
       "      <th>Sale Type</th>\n",
       "      <th>Sale Condition</th>\n",
       "      <th>SalePrice</th>\n",
       "    </tr>\n",
       "  </thead>\n",
       "  <tbody>\n",
       "    <tr>\n",
       "      <th>0</th>\n",
       "      <td>20</td>\n",
       "      <td>RL</td>\n",
       "      <td>141.0</td>\n",
       "      <td>31770</td>\n",
       "      <td>Pave</td>\n",
       "      <td>None</td>\n",
       "      <td>IR1</td>\n",
       "      <td>Lvl</td>\n",
       "      <td>AllPub</td>\n",
       "      <td>Corner</td>\n",
       "      <td>...</td>\n",
       "      <td>0</td>\n",
       "      <td>None</td>\n",
       "      <td>None</td>\n",
       "      <td>None</td>\n",
       "      <td>0</td>\n",
       "      <td>5</td>\n",
       "      <td>2010</td>\n",
       "      <td>WD</td>\n",
       "      <td>Normal</td>\n",
       "      <td>215000</td>\n",
       "    </tr>\n",
       "    <tr>\n",
       "      <th>1</th>\n",
       "      <td>20</td>\n",
       "      <td>RH</td>\n",
       "      <td>80.0</td>\n",
       "      <td>11622</td>\n",
       "      <td>Pave</td>\n",
       "      <td>None</td>\n",
       "      <td>Reg</td>\n",
       "      <td>Lvl</td>\n",
       "      <td>AllPub</td>\n",
       "      <td>Inside</td>\n",
       "      <td>...</td>\n",
       "      <td>0</td>\n",
       "      <td>None</td>\n",
       "      <td>MnPrv</td>\n",
       "      <td>None</td>\n",
       "      <td>0</td>\n",
       "      <td>6</td>\n",
       "      <td>2010</td>\n",
       "      <td>WD</td>\n",
       "      <td>Normal</td>\n",
       "      <td>105000</td>\n",
       "    </tr>\n",
       "    <tr>\n",
       "      <th>2</th>\n",
       "      <td>20</td>\n",
       "      <td>RL</td>\n",
       "      <td>81.0</td>\n",
       "      <td>14267</td>\n",
       "      <td>Pave</td>\n",
       "      <td>None</td>\n",
       "      <td>IR1</td>\n",
       "      <td>Lvl</td>\n",
       "      <td>AllPub</td>\n",
       "      <td>Corner</td>\n",
       "      <td>...</td>\n",
       "      <td>0</td>\n",
       "      <td>None</td>\n",
       "      <td>None</td>\n",
       "      <td>Gar2</td>\n",
       "      <td>12500</td>\n",
       "      <td>6</td>\n",
       "      <td>2010</td>\n",
       "      <td>WD</td>\n",
       "      <td>Normal</td>\n",
       "      <td>172000</td>\n",
       "    </tr>\n",
       "    <tr>\n",
       "      <th>3</th>\n",
       "      <td>20</td>\n",
       "      <td>RL</td>\n",
       "      <td>93.0</td>\n",
       "      <td>11160</td>\n",
       "      <td>Pave</td>\n",
       "      <td>None</td>\n",
       "      <td>Reg</td>\n",
       "      <td>Lvl</td>\n",
       "      <td>AllPub</td>\n",
       "      <td>Corner</td>\n",
       "      <td>...</td>\n",
       "      <td>0</td>\n",
       "      <td>None</td>\n",
       "      <td>None</td>\n",
       "      <td>None</td>\n",
       "      <td>0</td>\n",
       "      <td>4</td>\n",
       "      <td>2010</td>\n",
       "      <td>WD</td>\n",
       "      <td>Normal</td>\n",
       "      <td>244000</td>\n",
       "    </tr>\n",
       "    <tr>\n",
       "      <th>4</th>\n",
       "      <td>60</td>\n",
       "      <td>RL</td>\n",
       "      <td>74.0</td>\n",
       "      <td>13830</td>\n",
       "      <td>Pave</td>\n",
       "      <td>None</td>\n",
       "      <td>IR1</td>\n",
       "      <td>Lvl</td>\n",
       "      <td>AllPub</td>\n",
       "      <td>Inside</td>\n",
       "      <td>...</td>\n",
       "      <td>0</td>\n",
       "      <td>None</td>\n",
       "      <td>MnPrv</td>\n",
       "      <td>None</td>\n",
       "      <td>0</td>\n",
       "      <td>3</td>\n",
       "      <td>2010</td>\n",
       "      <td>WD</td>\n",
       "      <td>Normal</td>\n",
       "      <td>189900</td>\n",
       "    </tr>\n",
       "    <tr>\n",
       "      <th>...</th>\n",
       "      <td>...</td>\n",
       "      <td>...</td>\n",
       "      <td>...</td>\n",
       "      <td>...</td>\n",
       "      <td>...</td>\n",
       "      <td>...</td>\n",
       "      <td>...</td>\n",
       "      <td>...</td>\n",
       "      <td>...</td>\n",
       "      <td>...</td>\n",
       "      <td>...</td>\n",
       "      <td>...</td>\n",
       "      <td>...</td>\n",
       "      <td>...</td>\n",
       "      <td>...</td>\n",
       "      <td>...</td>\n",
       "      <td>...</td>\n",
       "      <td>...</td>\n",
       "      <td>...</td>\n",
       "      <td>...</td>\n",
       "      <td>...</td>\n",
       "    </tr>\n",
       "    <tr>\n",
       "      <th>2925</th>\n",
       "      <td>80</td>\n",
       "      <td>RL</td>\n",
       "      <td>37.0</td>\n",
       "      <td>7937</td>\n",
       "      <td>Pave</td>\n",
       "      <td>None</td>\n",
       "      <td>IR1</td>\n",
       "      <td>Lvl</td>\n",
       "      <td>AllPub</td>\n",
       "      <td>CulDSac</td>\n",
       "      <td>...</td>\n",
       "      <td>0</td>\n",
       "      <td>None</td>\n",
       "      <td>GdPrv</td>\n",
       "      <td>None</td>\n",
       "      <td>0</td>\n",
       "      <td>3</td>\n",
       "      <td>2006</td>\n",
       "      <td>WD</td>\n",
       "      <td>Normal</td>\n",
       "      <td>142500</td>\n",
       "    </tr>\n",
       "    <tr>\n",
       "      <th>2926</th>\n",
       "      <td>20</td>\n",
       "      <td>RL</td>\n",
       "      <td>74.0</td>\n",
       "      <td>8885</td>\n",
       "      <td>Pave</td>\n",
       "      <td>None</td>\n",
       "      <td>IR1</td>\n",
       "      <td>Low</td>\n",
       "      <td>AllPub</td>\n",
       "      <td>Inside</td>\n",
       "      <td>...</td>\n",
       "      <td>0</td>\n",
       "      <td>None</td>\n",
       "      <td>MnPrv</td>\n",
       "      <td>None</td>\n",
       "      <td>0</td>\n",
       "      <td>6</td>\n",
       "      <td>2006</td>\n",
       "      <td>WD</td>\n",
       "      <td>Normal</td>\n",
       "      <td>131000</td>\n",
       "    </tr>\n",
       "    <tr>\n",
       "      <th>2927</th>\n",
       "      <td>85</td>\n",
       "      <td>RL</td>\n",
       "      <td>62.0</td>\n",
       "      <td>10441</td>\n",
       "      <td>Pave</td>\n",
       "      <td>None</td>\n",
       "      <td>Reg</td>\n",
       "      <td>Lvl</td>\n",
       "      <td>AllPub</td>\n",
       "      <td>Inside</td>\n",
       "      <td>...</td>\n",
       "      <td>0</td>\n",
       "      <td>None</td>\n",
       "      <td>MnPrv</td>\n",
       "      <td>Shed</td>\n",
       "      <td>700</td>\n",
       "      <td>7</td>\n",
       "      <td>2006</td>\n",
       "      <td>WD</td>\n",
       "      <td>Normal</td>\n",
       "      <td>132000</td>\n",
       "    </tr>\n",
       "    <tr>\n",
       "      <th>2928</th>\n",
       "      <td>20</td>\n",
       "      <td>RL</td>\n",
       "      <td>77.0</td>\n",
       "      <td>10010</td>\n",
       "      <td>Pave</td>\n",
       "      <td>None</td>\n",
       "      <td>Reg</td>\n",
       "      <td>Lvl</td>\n",
       "      <td>AllPub</td>\n",
       "      <td>Inside</td>\n",
       "      <td>...</td>\n",
       "      <td>0</td>\n",
       "      <td>None</td>\n",
       "      <td>None</td>\n",
       "      <td>None</td>\n",
       "      <td>0</td>\n",
       "      <td>4</td>\n",
       "      <td>2006</td>\n",
       "      <td>WD</td>\n",
       "      <td>Normal</td>\n",
       "      <td>170000</td>\n",
       "    </tr>\n",
       "    <tr>\n",
       "      <th>2929</th>\n",
       "      <td>60</td>\n",
       "      <td>RL</td>\n",
       "      <td>74.0</td>\n",
       "      <td>9627</td>\n",
       "      <td>Pave</td>\n",
       "      <td>None</td>\n",
       "      <td>Reg</td>\n",
       "      <td>Lvl</td>\n",
       "      <td>AllPub</td>\n",
       "      <td>Inside</td>\n",
       "      <td>...</td>\n",
       "      <td>0</td>\n",
       "      <td>None</td>\n",
       "      <td>None</td>\n",
       "      <td>None</td>\n",
       "      <td>0</td>\n",
       "      <td>11</td>\n",
       "      <td>2006</td>\n",
       "      <td>WD</td>\n",
       "      <td>Normal</td>\n",
       "      <td>188000</td>\n",
       "    </tr>\n",
       "  </tbody>\n",
       "</table>\n",
       "<p>2924 rows × 80 columns</p>\n",
       "</div>"
      ],
      "text/plain": [
       "      MS SubClass MS Zoning  Lot Frontage  Lot Area Street Alley Lot Shape  \\\n",
       "0              20        RL         141.0     31770   Pave  None       IR1   \n",
       "1              20        RH          80.0     11622   Pave  None       Reg   \n",
       "2              20        RL          81.0     14267   Pave  None       IR1   \n",
       "3              20        RL          93.0     11160   Pave  None       Reg   \n",
       "4              60        RL          74.0     13830   Pave  None       IR1   \n",
       "...           ...       ...           ...       ...    ...   ...       ...   \n",
       "2925           80        RL          37.0      7937   Pave  None       IR1   \n",
       "2926           20        RL          74.0      8885   Pave  None       IR1   \n",
       "2927           85        RL          62.0     10441   Pave  None       Reg   \n",
       "2928           20        RL          77.0     10010   Pave  None       Reg   \n",
       "2929           60        RL          74.0      9627   Pave  None       Reg   \n",
       "\n",
       "     Land Contour Utilities Lot Config  ... Pool Area Pool QC  Fence  \\\n",
       "0             Lvl    AllPub     Corner  ...         0    None   None   \n",
       "1             Lvl    AllPub     Inside  ...         0    None  MnPrv   \n",
       "2             Lvl    AllPub     Corner  ...         0    None   None   \n",
       "3             Lvl    AllPub     Corner  ...         0    None   None   \n",
       "4             Lvl    AllPub     Inside  ...         0    None  MnPrv   \n",
       "...           ...       ...        ...  ...       ...     ...    ...   \n",
       "2925          Lvl    AllPub    CulDSac  ...         0    None  GdPrv   \n",
       "2926          Low    AllPub     Inside  ...         0    None  MnPrv   \n",
       "2927          Lvl    AllPub     Inside  ...         0    None  MnPrv   \n",
       "2928          Lvl    AllPub     Inside  ...         0    None   None   \n",
       "2929          Lvl    AllPub     Inside  ...         0    None   None   \n",
       "\n",
       "     Misc Feature Misc Val Mo Sold  Yr Sold  Sale Type  Sale Condition  \\\n",
       "0            None        0       5     2010        WD           Normal   \n",
       "1            None        0       6     2010        WD           Normal   \n",
       "2            Gar2    12500       6     2010        WD           Normal   \n",
       "3            None        0       4     2010        WD           Normal   \n",
       "4            None        0       3     2010        WD           Normal   \n",
       "...           ...      ...     ...      ...        ...             ...   \n",
       "2925         None        0       3     2006        WD           Normal   \n",
       "2926         None        0       6     2006        WD           Normal   \n",
       "2927         Shed      700       7     2006        WD           Normal   \n",
       "2928         None        0       4     2006        WD           Normal   \n",
       "2929         None        0      11     2006        WD           Normal   \n",
       "\n",
       "      SalePrice  \n",
       "0        215000  \n",
       "1        105000  \n",
       "2        172000  \n",
       "3        244000  \n",
       "4        189900  \n",
       "...         ...  \n",
       "2925     142500  \n",
       "2926     131000  \n",
       "2927     132000  \n",
       "2928     170000  \n",
       "2929     188000  \n",
       "\n",
       "[2924 rows x 80 columns]"
      ]
     },
     "execution_count": 31,
     "metadata": {},
     "output_type": "execute_result"
    }
   ],
   "source": [
    "df['Lot Frontage'] = df.groupby('Neighborhood')['Lot Frontage'].transform(lambda i: i.fillna(i.median()))\n",
    "df"
   ]
  },
  {
   "cell_type": "code",
   "execution_count": 32,
   "id": "28f9c77f",
   "metadata": {},
   "outputs": [
    {
     "data": {
      "text/plain": [
       "Lot Frontage     0.102599\n",
       "Electrical       0.034200\n",
       "Total Bsmt SF    0.034200\n",
       "Kitchen AbvGr    0.000000\n",
       "Garage Yr Blt    0.000000\n",
       "Garage Type      0.000000\n",
       "Fireplace Qu     0.000000\n",
       "Fireplaces       0.000000\n",
       "Functional       0.000000\n",
       "TotRms AbvGrd    0.000000\n",
       "dtype: float64"
      ]
     },
     "execution_count": 32,
     "metadata": {},
     "output_type": "execute_result"
    }
   ],
   "source": [
    "null_cols=(((df.isnull().sum())/df.shape[0])*100).sort_values(ascending = False).head(10)\n",
    "null_cols"
   ]
  },
  {
   "cell_type": "code",
   "execution_count": 33,
   "id": "b0c28cba",
   "metadata": {},
   "outputs": [
    {
     "data": {
      "image/png": "[encoded data removed]",
      "text/plain": [
       "<Figure size 432x288 with 1 Axes>"
      ]
     },
     "metadata": {
      "needs_background": "light"
     },
     "output_type": "display_data"
    }
   ],
   "source": [
    "sns.barplot(x=null_cols.index,y=null_cols)\n",
    "plt.xticks(rotation=90);"
   ]
  },
  {
   "cell_type": "code",
   "execution_count": 34,
   "id": "2f8fa276",
   "metadata": {},
   "outputs": [
    {
     "data": {
      "text/plain": [
       "(3, 1, 1)"
      ]
     },
     "execution_count": 34,
     "metadata": {},
     "output_type": "execute_result"
    }
   ],
   "source": [
    "df['Lot Frontage'].isna().sum(), df['Electrical'].isna().sum(), df['Total Bsmt SF'].isna().sum()"
   ]
  },
  {
   "cell_type": "markdown",
   "id": "dfb8df9e",
   "metadata": {},
   "source": [
    "### Now the remaining missing values are minimal so lets plug-in the missing values with modes of each column"
   ]
  },
  {
   "cell_type": "code",
   "execution_count": 46,
   "id": "24df006b",
   "metadata": {},
   "outputs": [
    {
     "data": {
      "text/plain": [
       "(0, 0, 0)"
      ]
     },
     "execution_count": 46,
     "metadata": {},
     "output_type": "execute_result"
    }
   ],
   "source": [
    "# replace missing values for mode of each column\n",
    "df = df.fillna(df.mode().iloc[0])\n",
    "\n",
    "df['Lot Frontage'].isna().sum(), df['Electrical'].isna().sum(), df['Total Bsmt SF'].isna().sum()"
   ]
  },
  {
   "cell_type": "code",
   "execution_count": 47,
   "id": "9094f2b5",
   "metadata": {},
   "outputs": [
    {
     "data": {
      "text/plain": [
       "MS SubClass      0.0\n",
       "MS Zoning        0.0\n",
       "Garage Yr Blt    0.0\n",
       "Garage Type      0.0\n",
       "Fireplace Qu     0.0\n",
       "Fireplaces       0.0\n",
       "Functional       0.0\n",
       "TotRms AbvGrd    0.0\n",
       "Kitchen Qual     0.0\n",
       "Kitchen AbvGr    0.0\n",
       "dtype: float64"
      ]
     },
     "execution_count": 47,
     "metadata": {},
     "output_type": "execute_result"
    }
   ],
   "source": [
    "null_cols=(((df.isnull().sum())/df.shape[0])*100).sort_values(ascending = False).head(10)\n",
    "null_cols"
   ]
  },
  {
   "cell_type": "markdown",
   "id": "ed94d09f",
   "metadata": {},
   "source": [
    "MSSubClass: Identifies the type of dwelling involved in the sale."
   ]
  },
  {
   "cell_type": "code",
   "execution_count": 61,
   "id": "a43d0a19",
   "metadata": {},
   "outputs": [],
   "source": [
    "df['MS SubClass'] = df['MS SubClass'].apply(str)"
   ]
  },
  {
   "cell_type": "markdown",
   "id": "c48a6b7f",
   "metadata": {},
   "source": [
    "Need to convert all categorical columns to numerical columns before performing the regression.\n",
    "\n",
    "For this we will use dummies method available in Pandas library"
   ]
  },
  {
   "cell_type": "code",
   "execution_count": 62,
   "id": "300d6a0c",
   "metadata": {},
   "outputs": [],
   "source": [
    "df_nums = df.select_dtypes(exclude='object')\n",
    "df_objs = df.select_dtypes(include='object')"
   ]
  },
  {
   "cell_type": "code",
   "execution_count": 63,
   "id": "55687649",
   "metadata": {},
   "outputs": [
    {
     "name": "stdout",
     "output_type": "stream",
     "text": [
      "<class 'pandas.core.frame.DataFrame'>\n",
      "Int64Index: 2924 entries, 0 to 2929\n",
      "Data columns (total 44 columns):\n",
      " #   Column          Non-Null Count  Dtype \n",
      "---  ------          --------------  ----- \n",
      " 0   MS SubClass     2924 non-null   object\n",
      " 1   MS Zoning       2924 non-null   object\n",
      " 2   Street          2924 non-null   object\n",
      " 3   Alley           2924 non-null   object\n",
      " 4   Lot Shape       2924 non-null   object\n",
      " 5   Land Contour    2924 non-null   object\n",
      " 6   Utilities       2924 non-null   object\n",
      " 7   Lot Config      2924 non-null   object\n",
      " 8   Land Slope      2924 non-null   object\n",
      " 9   Neighborhood    2924 non-null   object\n",
      " 10  Condition 1     2924 non-null   object\n",
      " 11  Condition 2     2924 non-null   object\n",
      " 12  Bldg Type       2924 non-null   object\n",
      " 13  House Style     2924 non-null   object\n",
      " 14  Roof Style      2924 non-null   object\n",
      " 15  Roof Matl       2924 non-null   object\n",
      " 16  Exterior 1st    2924 non-null   object\n",
      " 17  Exterior 2nd    2924 non-null   object\n",
      " 18  Mas Vnr Type    2924 non-null   object\n",
      " 19  Exter Qual      2924 non-null   object\n",
      " 20  Exter Cond      2924 non-null   object\n",
      " 21  Foundation      2924 non-null   object\n",
      " 22  Bsmt Qual       2924 non-null   object\n",
      " 23  Bsmt Cond       2924 non-null   object\n",
      " 24  Bsmt Exposure   2924 non-null   object\n",
      " 25  BsmtFin Type 1  2924 non-null   object\n",
      " 26  BsmtFin Type 2  2924 non-null   object\n",
      " 27  Heating         2924 non-null   object\n",
      " 28  Heating QC      2924 non-null   object\n",
      " 29  Central Air     2924 non-null   object\n",
      " 30  Electrical      2924 non-null   object\n",
      " 31  Kitchen Qual    2924 non-null   object\n",
      " 32  Functional      2924 non-null   object\n",
      " 33  Fireplace Qu    2924 non-null   object\n",
      " 34  Garage Type     2924 non-null   object\n",
      " 35  Garage Finish   2924 non-null   object\n",
      " 36  Garage Qual     2924 non-null   object\n",
      " 37  Garage Cond     2924 non-null   object\n",
      " 38  Paved Drive     2924 non-null   object\n",
      " 39  Pool QC         2924 non-null   object\n",
      " 40  Fence           2924 non-null   object\n",
      " 41  Misc Feature    2924 non-null   object\n",
      " 42  Sale Type       2924 non-null   object\n",
      " 43  Sale Condition  2924 non-null   object\n",
      "dtypes: object(44)\n",
      "memory usage: 1.0+ MB\n"
     ]
    }
   ],
   "source": [
    "df_objs.info()"
   ]
  },
  {
   "cell_type": "code",
   "execution_count": 64,
   "id": "be2e478f",
   "metadata": {},
   "outputs": [
    {
     "name": "stdout",
     "output_type": "stream",
     "text": [
      "<class 'pandas.core.frame.DataFrame'>\n",
      "Int64Index: 2924 entries, 0 to 2929\n",
      "Data columns (total 36 columns):\n",
      " #   Column           Non-Null Count  Dtype  \n",
      "---  ------           --------------  -----  \n",
      " 0   Lot Frontage     2924 non-null   float64\n",
      " 1   Lot Area         2924 non-null   int64  \n",
      " 2   Overall Qual     2924 non-null   int64  \n",
      " 3   Overall Cond     2924 non-null   int64  \n",
      " 4   Year Built       2924 non-null   int64  \n",
      " 5   Year Remod/Add   2924 non-null   int64  \n",
      " 6   Mas Vnr Area     2924 non-null   float64\n",
      " 7   BsmtFin SF 1     2924 non-null   float64\n",
      " 8   BsmtFin SF 2     2924 non-null   float64\n",
      " 9   Bsmt Unf SF      2924 non-null   float64\n",
      " 10  Total Bsmt SF    2924 non-null   float64\n",
      " 11  1st Flr SF       2924 non-null   int64  \n",
      " 12  2nd Flr SF       2924 non-null   int64  \n",
      " 13  Low Qual Fin SF  2924 non-null   int64  \n",
      " 14  Gr Liv Area      2924 non-null   int64  \n",
      " 15  Bsmt Full Bath   2924 non-null   float64\n",
      " 16  Bsmt Half Bath   2924 non-null   float64\n",
      " 17  Full Bath        2924 non-null   int64  \n",
      " 18  Half Bath        2924 non-null   int64  \n",
      " 19  Bedroom AbvGr    2924 non-null   int64  \n",
      " 20  Kitchen AbvGr    2924 non-null   int64  \n",
      " 21  TotRms AbvGrd    2924 non-null   int64  \n",
      " 22  Fireplaces       2924 non-null   int64  \n",
      " 23  Garage Yr Blt    2924 non-null   float64\n",
      " 24  Garage Cars      2924 non-null   float64\n",
      " 25  Garage Area      2924 non-null   float64\n",
      " 26  Wood Deck SF     2924 non-null   int64  \n",
      " 27  Open Porch SF    2924 non-null   int64  \n",
      " 28  Enclosed Porch   2924 non-null   int64  \n",
      " 29  3Ssn Porch       2924 non-null   int64  \n",
      " 30  Screen Porch     2924 non-null   int64  \n",
      " 31  Pool Area        2924 non-null   int64  \n",
      " 32  Misc Val         2924 non-null   int64  \n",
      " 33  Mo Sold          2924 non-null   int64  \n",
      " 34  Yr Sold          2924 non-null   int64  \n",
      " 35  SalePrice        2924 non-null   int64  \n",
      "dtypes: float64(11), int64(25)\n",
      "memory usage: 845.2 KB\n"
     ]
    }
   ],
   "source": [
    "df_nums.info()"
   ]
  },
  {
   "cell_type": "code",
   "execution_count": 65,
   "id": "6a3cf64c",
   "metadata": {},
   "outputs": [],
   "source": [
    "df_objs = pd.get_dummies(df_objs, drop_first = True)"
   ]
  },
  {
   "cell_type": "code",
   "execution_count": 66,
   "id": "fc581ffc",
   "metadata": {},
   "outputs": [
    {
     "data": {
      "text/plain": [
       "(2924, 252)"
      ]
     },
     "execution_count": 66,
     "metadata": {},
     "output_type": "execute_result"
    }
   ],
   "source": [
    "df_objs.shape"
   ]
  },
  {
   "cell_type": "code",
   "execution_count": 91,
   "id": "50231d3f",
   "metadata": {},
   "outputs": [
    {
     "data": {
      "text/plain": [
       "(2924, 288)"
      ]
     },
     "execution_count": 91,
     "metadata": {},
     "output_type": "execute_result"
    }
   ],
   "source": [
    "df = pd.concat([df_nums,df_objs], axis = 1)\n",
    "df.shape"
   ]
  },
  {
   "cell_type": "markdown",
   "id": "f8095765",
   "metadata": {},
   "source": [
    "## Performing Regression"
   ]
  },
  {
   "cell_type": "code",
   "execution_count": 84,
   "id": "23328361",
   "metadata": {},
   "outputs": [],
   "source": [
    "from sklearn.preprocessing import StandardScaler\n",
    "from sklearn.model_selection import train_test_split, GridSearchCV"
   ]
  },
  {
   "cell_type": "markdown",
   "id": "98a3f33a",
   "metadata": {},
   "source": [
    "\n",
    "   Standardization of a dataset is a common requirement for many\n",
    "   machine learning estimators: they might behave badly if the\n",
    "   individual features do not more or less look like standard normally\n",
    "   distributed data (e.g. Gaussian with 0 mean and unit variance).\n",
    "   \n",
    "   For instance many elements used in the objective function of\n",
    "   a learning algorithm (such as the RBF kernel of Support Vector\n",
    "   Machines or the L1 and L2 regularizers of linear models) assume that\n",
    "   all features are centered around 0 and have variance in the same\n",
    "   order. If a feature has a variance that is orders of magnitude larger\n",
    "   that others, it might dominate the objective function and make the\n",
    "   estimator unable to learn from other features correctly as expected.\n",
    "   \n",
    "   ---\n",
    "   Labeling the data"
   ]
  },
  {
   "cell_type": "code",
   "execution_count": 92,
   "id": "20921335",
   "metadata": {},
   "outputs": [],
   "source": [
    "X = df.drop('SalePrice',axis=1)\n",
    "y = df['SalePrice']"
   ]
  },
  {
   "cell_type": "code",
   "execution_count": 95,
   "id": "5ec183f5",
   "metadata": {},
   "outputs": [],
   "source": [
    "X_train, X_test, y_train, y_test = train_test_split(X, y, test_size=0.33, random_state=42)\n",
    "scaler = StandardScaler()"
   ]
  },
  {
   "cell_type": "code",
   "execution_count": 96,
   "id": "0b15d71f",
   "metadata": {},
   "outputs": [],
   "source": [
    "X_test = scaler.fit_transform(X_test)\n",
    "X_train = scaler.fit_transform(X_train)"
   ]
  },
  {
   "cell_type": "code",
   "execution_count": 97,
   "id": "deabdd03",
   "metadata": {},
   "outputs": [],
   "source": [
    "from sklearn.linear_model import ElasticNet"
   ]
  },
  {
   "cell_type": "code",
   "execution_count": 98,
   "id": "5e510ba0",
   "metadata": {},
   "outputs": [],
   "source": [
    "param_grid = {'l1_ratio':[0.2, 0.4, 0.5, 0.7, 0.9, 0.95, 0.1],\n",
    "              'alpha':[0.1,1,5,10,50,100]}\n",
    "\n",
    "base_model = ElasticNet()"
   ]
  },
  {
   "cell_type": "markdown",
   "id": "821b80ad",
   "metadata": {},
   "source": [
    "### Using GridSearchCV to find the best parameters for regression and performing cross validation"
   ]
  },
  {
   "cell_type": "code",
   "execution_count": 99,
   "id": "6aea3316",
   "metadata": {},
   "outputs": [],
   "source": [
    "grid_model = GridSearchCV(estimator = base_model,\n",
    "                         param_grid = param_grid,\n",
    "                         scoring = 'neg_root_mean_squared_error',\n",
    "                         cv = 5,\n",
    "                         verbose = 1)"
   ]
  },
  {
   "cell_type": "code",
   "execution_count": 100,
   "id": "9c03b6af",
   "metadata": {},
   "outputs": [
    {
     "name": "stdout",
     "output_type": "stream",
     "text": [
      "Fitting 5 folds for each of 42 candidates, totalling 210 fits\n"
     ]
    },
    {
     "data": {
      "text/plain": [
       "GridSearchCV(cv=5, estimator=ElasticNet(),\n",
       "             param_grid={'alpha': [0.1, 1, 5, 10, 50, 100],\n",
       "                         'l1_ratio': [0.2, 0.4, 0.5, 0.7, 0.9, 0.95, 0.1]},\n",
       "             scoring='neg_root_mean_squared_error', verbose=1)"
      ]
     },
     "execution_count": 100,
     "metadata": {},
     "output_type": "execute_result"
    }
   ],
   "source": [
    "grid_model.fit(X_train,y_train)"
   ]
  },
  {
   "cell_type": "code",
   "execution_count": 101,
   "id": "2c3efa7b",
   "metadata": {},
   "outputs": [
    {
     "data": {
      "text/plain": [
       "{'alpha': 1, 'l1_ratio': 0.95}"
      ]
     },
     "execution_count": 101,
     "metadata": {},
     "output_type": "execute_result"
    }
   ],
   "source": [
    "grid_model.best_params_"
   ]
  },
  {
   "cell_type": "code",
   "execution_count": 102,
   "id": "3c489110",
   "metadata": {},
   "outputs": [],
   "source": [
    "from sklearn.metrics import mean_squared_error"
   ]
  },
  {
   "cell_type": "code",
   "execution_count": 104,
   "id": "4b2ea19b",
   "metadata": {},
   "outputs": [],
   "source": [
    "y_pred = grid_model.predict(X_test)"
   ]
  },
  {
   "cell_type": "code",
   "execution_count": 107,
   "id": "564ee0c3",
   "metadata": {},
   "outputs": [
    {
     "name": "stdout",
     "output_type": "stream",
     "text": [
      "RMS: 23493.31477990801$\n"
     ]
    }
   ],
   "source": [
    "RMS = np.sqrt(mean_squared_error(y_test,y_pred))\n",
    "print(f'RMS: {RMS}$') "
   ]
  },
  {
   "cell_type": "code",
   "execution_count": 110,
   "id": "3ad33a0b",
   "metadata": {},
   "outputs": [
    {
     "data": {
      "text/plain": [
       "0.03165314820166774"
      ]
     },
     "execution_count": 110,
     "metadata": {},
     "output_type": "execute_result"
    }
   ],
   "source": [
    "RMS/(y_train.max() - y_train.min())"
   ]
  },
  {
   "cell_type": "markdown",
   "id": "43d121bf",
   "metadata": {},
   "source": [
    "### Thank You"
   ]
  }
 ],
 "metadata": {
  "kernelspec": {
   "display_name": "Python 3",
   "language": "python",
   "name": "python3"
  },
  "language_info": {
   "codemirror_mode": {
    "name": "ipython",
    "version": 3
   },
   "file_extension": ".py",
   "mimetype": "text/x-python",
   "name": "python",
   "nbconvert_exporter": "python",
   "pygments_lexer": "ipython3",
   "version": "3.8.8"
  }
 },
 "nbformat": 4,
 "nbformat_minor": 5
}
