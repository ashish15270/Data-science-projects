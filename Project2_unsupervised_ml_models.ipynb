{
  "nbformat": 4,
  "nbformat_minor": 5,
  "metadata": {
    "kernelspec": {
      "display_name": "Python 3",
      "language": "python",
      "name": "python3"
    },
    "language_info": {
      "codemirror_mode": {
        "name": "ipython",
        "version": 3
      },
      "file_extension": ".py",
      "mimetype": "text/x-python",
      "name": "python",
      "nbconvert_exporter": "python",
      "pygments_lexer": "ipython3",
      "version": "3.8.8"
    },
    "colab": {
      "name": "Capstone_project_supervised_ML.ipynb",
      "provenance": [],
      "collapsed_sections": [
        "857f1f1d",
        "a64c6f4a",
        "fc70014f",
        "f0c9851b",
        "fa64f69f",
        "0b4a8760",
        "0ca5cc2b",
        "7a691d18",
        "e47098d2"
      ]
    }
  },
  "cells": [
    {
      "cell_type": "markdown",
      "metadata": {
        "id": "4777e698"
      },
      "source": [
        "# <center style=\"font-family:Arial\">1. Introduction </center>\n",
        "\n",
        "<div class=\"alert alert-block alert-info\"\n",
        "     style=\"color:black;\n",
        "           display:fill;\n",
        "           background-color:#e8f4f8;\n",
        "           font-size:200%;\n",
        "           font-family:Arial\"><center>\n",
        "<b> 📌 My Goal is to create a model to predict whether or not a customer will Churn .</b></center>\n",
        "    </div>\n",
        "    \n",
        " <div style=\"color:black;\n",
        "           font-size:120%;\n",
        "           font-family:Arial\">\n",
        "Customer churn is one of the most important metrics for a growing business to evaluate. While it's not the happiest measure, it's a number that can give your company the hard truth about its customer retention.\n",
        "\n",
        "It's hard to measure success if you don't measure the inevitable failures, too. While you strive for 100% of customers to stick with your company, that's simply unrealistic. That's where customer churn comes in. If you want to know more about the data, you can click <a href=\"https://www.kaggle.com/blastchar/telco-customer-churn\" target=\"_blank\"> here</a>.\n",
        "</div>"
      ],
      "id": "4777e698"
    },
    {
      "cell_type": "code",
      "metadata": {
        "id": "0e1aa495"
      },
      "source": [
        "import numpy as np\n",
        "import pandas as pd\n",
        "import matplotlib.pyplot as plt\n",
        "import seaborn as sns"
      ],
      "id": "0e1aa495",
      "execution_count": 104,
      "outputs": []
    },
    {
      "cell_type": "code",
      "metadata": {
        "id": "8e1e01e4",
        "colab": {
          "base_uri": "https://localhost:8080/"
        },
        "outputId": "42585661-0bfb-44f0-c862-2cd360206630"
      },
      "source": [
        "from google.colab import drive\n",
        "drive.mount('/content/drive')\n",
        "df = pd.read_csv('/content/drive/MyDrive/UNZIP_FOR_NOTEBOOKS_FINAL/DATA/Telco-Customer-Churn.csv')"
      ],
      "id": "8e1e01e4",
      "execution_count": 105,
      "outputs": [
        {
          "output_type": "stream",
          "name": "stdout",
          "text": [
            "Drive already mounted at /content/drive; to attempt to forcibly remount, call drive.mount(\"/content/drive\", force_remount=True).\n"
          ]
        }
      ]
    },
    {
      "cell_type": "code",
      "metadata": {
        "id": "6694ce49",
        "colab": {
          "base_uri": "https://localhost:8080/",
          "height": 313
        },
        "outputId": "fcd63d91-bbf3-4fa9-de89-d6637c6f0deb"
      },
      "source": [
        "df.head()"
      ],
      "id": "6694ce49",
      "execution_count": 106,
      "outputs": [
        {
          "output_type": "execute_result",
          "data": {
            "text/html": [
              "<div>\n",
              "<style scoped>\n",
              "    .dataframe tbody tr th:only-of-type {\n",
              "        vertical-align: middle;\n",
              "    }\n",
              "\n",
              "    .dataframe tbody tr th {\n",
              "        vertical-align: top;\n",
              "    }\n",
              "\n",
              "    .dataframe thead th {\n",
              "        text-align: right;\n",
              "    }\n",
              "</style>\n",
              "<table border=\"1\" class=\"dataframe\">\n",
              "  <thead>\n",
              "    <tr style=\"text-align: right;\">\n",
              "      <th></th>\n",
              "      <th>customerID</th>\n",
              "      <th>gender</th>\n",
              "      <th>SeniorCitizen</th>\n",
              "      <th>Partner</th>\n",
              "      <th>Dependents</th>\n",
              "      <th>tenure</th>\n",
              "      <th>PhoneService</th>\n",
              "      <th>MultipleLines</th>\n",
              "      <th>InternetService</th>\n",
              "      <th>OnlineSecurity</th>\n",
              "      <th>OnlineBackup</th>\n",
              "      <th>DeviceProtection</th>\n",
              "      <th>TechSupport</th>\n",
              "      <th>StreamingTV</th>\n",
              "      <th>StreamingMovies</th>\n",
              "      <th>Contract</th>\n",
              "      <th>PaperlessBilling</th>\n",
              "      <th>PaymentMethod</th>\n",
              "      <th>MonthlyCharges</th>\n",
              "      <th>TotalCharges</th>\n",
              "      <th>Churn</th>\n",
              "    </tr>\n",
              "  </thead>\n",
              "  <tbody>\n",
              "    <tr>\n",
              "      <th>0</th>\n",
              "      <td>7590-VHVEG</td>\n",
              "      <td>Female</td>\n",
              "      <td>0</td>\n",
              "      <td>Yes</td>\n",
              "      <td>No</td>\n",
              "      <td>1</td>\n",
              "      <td>No</td>\n",
              "      <td>No phone service</td>\n",
              "      <td>DSL</td>\n",
              "      <td>No</td>\n",
              "      <td>Yes</td>\n",
              "      <td>No</td>\n",
              "      <td>No</td>\n",
              "      <td>No</td>\n",
              "      <td>No</td>\n",
              "      <td>Month-to-month</td>\n",
              "      <td>Yes</td>\n",
              "      <td>Electronic check</td>\n",
              "      <td>29.85</td>\n",
              "      <td>29.85</td>\n",
              "      <td>No</td>\n",
              "    </tr>\n",
              "    <tr>\n",
              "      <th>1</th>\n",
              "      <td>5575-GNVDE</td>\n",
              "      <td>Male</td>\n",
              "      <td>0</td>\n",
              "      <td>No</td>\n",
              "      <td>No</td>\n",
              "      <td>34</td>\n",
              "      <td>Yes</td>\n",
              "      <td>No</td>\n",
              "      <td>DSL</td>\n",
              "      <td>Yes</td>\n",
              "      <td>No</td>\n",
              "      <td>Yes</td>\n",
              "      <td>No</td>\n",
              "      <td>No</td>\n",
              "      <td>No</td>\n",
              "      <td>One year</td>\n",
              "      <td>No</td>\n",
              "      <td>Mailed check</td>\n",
              "      <td>56.95</td>\n",
              "      <td>1889.50</td>\n",
              "      <td>No</td>\n",
              "    </tr>\n",
              "    <tr>\n",
              "      <th>2</th>\n",
              "      <td>3668-QPYBK</td>\n",
              "      <td>Male</td>\n",
              "      <td>0</td>\n",
              "      <td>No</td>\n",
              "      <td>No</td>\n",
              "      <td>2</td>\n",
              "      <td>Yes</td>\n",
              "      <td>No</td>\n",
              "      <td>DSL</td>\n",
              "      <td>Yes</td>\n",
              "      <td>Yes</td>\n",
              "      <td>No</td>\n",
              "      <td>No</td>\n",
              "      <td>No</td>\n",
              "      <td>No</td>\n",
              "      <td>Month-to-month</td>\n",
              "      <td>Yes</td>\n",
              "      <td>Mailed check</td>\n",
              "      <td>53.85</td>\n",
              "      <td>108.15</td>\n",
              "      <td>Yes</td>\n",
              "    </tr>\n",
              "    <tr>\n",
              "      <th>3</th>\n",
              "      <td>7795-CFOCW</td>\n",
              "      <td>Male</td>\n",
              "      <td>0</td>\n",
              "      <td>No</td>\n",
              "      <td>No</td>\n",
              "      <td>45</td>\n",
              "      <td>No</td>\n",
              "      <td>No phone service</td>\n",
              "      <td>DSL</td>\n",
              "      <td>Yes</td>\n",
              "      <td>No</td>\n",
              "      <td>Yes</td>\n",
              "      <td>Yes</td>\n",
              "      <td>No</td>\n",
              "      <td>No</td>\n",
              "      <td>One year</td>\n",
              "      <td>No</td>\n",
              "      <td>Bank transfer (automatic)</td>\n",
              "      <td>42.30</td>\n",
              "      <td>1840.75</td>\n",
              "      <td>No</td>\n",
              "    </tr>\n",
              "    <tr>\n",
              "      <th>4</th>\n",
              "      <td>9237-HQITU</td>\n",
              "      <td>Female</td>\n",
              "      <td>0</td>\n",
              "      <td>No</td>\n",
              "      <td>No</td>\n",
              "      <td>2</td>\n",
              "      <td>Yes</td>\n",
              "      <td>No</td>\n",
              "      <td>Fiber optic</td>\n",
              "      <td>No</td>\n",
              "      <td>No</td>\n",
              "      <td>No</td>\n",
              "      <td>No</td>\n",
              "      <td>No</td>\n",
              "      <td>No</td>\n",
              "      <td>Month-to-month</td>\n",
              "      <td>Yes</td>\n",
              "      <td>Electronic check</td>\n",
              "      <td>70.70</td>\n",
              "      <td>151.65</td>\n",
              "      <td>Yes</td>\n",
              "    </tr>\n",
              "  </tbody>\n",
              "</table>\n",
              "</div>"
            ],
            "text/plain": [
              "   customerID  gender  SeniorCitizen  ... MonthlyCharges TotalCharges  Churn\n",
              "0  7590-VHVEG  Female              0  ...          29.85        29.85     No\n",
              "1  5575-GNVDE    Male              0  ...          56.95      1889.50     No\n",
              "2  3668-QPYBK    Male              0  ...          53.85       108.15    Yes\n",
              "3  7795-CFOCW    Male              0  ...          42.30      1840.75     No\n",
              "4  9237-HQITU  Female              0  ...          70.70       151.65    Yes\n",
              "\n",
              "[5 rows x 21 columns]"
            ]
          },
          "metadata": {},
          "execution_count": 106
        }
      ]
    },
    {
      "cell_type": "markdown",
      "metadata": {
        "id": "24554064"
      },
      "source": [
        "## EDA"
      ],
      "id": "24554064"
    },
    {
      "cell_type": "code",
      "metadata": {
        "id": "6c22fd91",
        "colab": {
          "base_uri": "https://localhost:8080/"
        },
        "outputId": "8f06fb9c-71e3-4ab2-9af4-b009b31d20f1"
      },
      "source": [
        "df.info()"
      ],
      "id": "6c22fd91",
      "execution_count": 107,
      "outputs": [
        {
          "output_type": "stream",
          "name": "stdout",
          "text": [
            "<class 'pandas.core.frame.DataFrame'>\n",
            "RangeIndex: 7032 entries, 0 to 7031\n",
            "Data columns (total 21 columns):\n",
            " #   Column            Non-Null Count  Dtype  \n",
            "---  ------            --------------  -----  \n",
            " 0   customerID        7032 non-null   object \n",
            " 1   gender            7032 non-null   object \n",
            " 2   SeniorCitizen     7032 non-null   int64  \n",
            " 3   Partner           7032 non-null   object \n",
            " 4   Dependents        7032 non-null   object \n",
            " 5   tenure            7032 non-null   int64  \n",
            " 6   PhoneService      7032 non-null   object \n",
            " 7   MultipleLines     7032 non-null   object \n",
            " 8   InternetService   7032 non-null   object \n",
            " 9   OnlineSecurity    7032 non-null   object \n",
            " 10  OnlineBackup      7032 non-null   object \n",
            " 11  DeviceProtection  7032 non-null   object \n",
            " 12  TechSupport       7032 non-null   object \n",
            " 13  StreamingTV       7032 non-null   object \n",
            " 14  StreamingMovies   7032 non-null   object \n",
            " 15  Contract          7032 non-null   object \n",
            " 16  PaperlessBilling  7032 non-null   object \n",
            " 17  PaymentMethod     7032 non-null   object \n",
            " 18  MonthlyCharges    7032 non-null   float64\n",
            " 19  TotalCharges      7032 non-null   float64\n",
            " 20  Churn             7032 non-null   object \n",
            "dtypes: float64(2), int64(2), object(17)\n",
            "memory usage: 1.1+ MB\n"
          ]
        }
      ]
    },
    {
      "cell_type": "markdown",
      "metadata": {
        "id": "e5af76bd"
      },
      "source": [
        "### This dataset does not have any null values and 4 features are numeric while the rest are catagorical."
      ],
      "id": "e5af76bd"
    },
    {
      "cell_type": "code",
      "metadata": {
        "id": "496ee5ac",
        "colab": {
          "base_uri": "https://localhost:8080/",
          "height": 175
        },
        "outputId": "bc7cff02-e28e-41ec-b421-973d0b59e79e"
      },
      "source": [
        "df.describe().T"
      ],
      "id": "496ee5ac",
      "execution_count": 108,
      "outputs": [
        {
          "output_type": "execute_result",
          "data": {
            "text/html": [
              "<div>\n",
              "<style scoped>\n",
              "    .dataframe tbody tr th:only-of-type {\n",
              "        vertical-align: middle;\n",
              "    }\n",
              "\n",
              "    .dataframe tbody tr th {\n",
              "        vertical-align: top;\n",
              "    }\n",
              "\n",
              "    .dataframe thead th {\n",
              "        text-align: right;\n",
              "    }\n",
              "</style>\n",
              "<table border=\"1\" class=\"dataframe\">\n",
              "  <thead>\n",
              "    <tr style=\"text-align: right;\">\n",
              "      <th></th>\n",
              "      <th>count</th>\n",
              "      <th>mean</th>\n",
              "      <th>std</th>\n",
              "      <th>min</th>\n",
              "      <th>25%</th>\n",
              "      <th>50%</th>\n",
              "      <th>75%</th>\n",
              "      <th>max</th>\n",
              "    </tr>\n",
              "  </thead>\n",
              "  <tbody>\n",
              "    <tr>\n",
              "      <th>SeniorCitizen</th>\n",
              "      <td>7032.0</td>\n",
              "      <td>0.162400</td>\n",
              "      <td>0.368844</td>\n",
              "      <td>0.00</td>\n",
              "      <td>0.0000</td>\n",
              "      <td>0.000</td>\n",
              "      <td>0.0000</td>\n",
              "      <td>1.00</td>\n",
              "    </tr>\n",
              "    <tr>\n",
              "      <th>tenure</th>\n",
              "      <td>7032.0</td>\n",
              "      <td>32.421786</td>\n",
              "      <td>24.545260</td>\n",
              "      <td>1.00</td>\n",
              "      <td>9.0000</td>\n",
              "      <td>29.000</td>\n",
              "      <td>55.0000</td>\n",
              "      <td>72.00</td>\n",
              "    </tr>\n",
              "    <tr>\n",
              "      <th>MonthlyCharges</th>\n",
              "      <td>7032.0</td>\n",
              "      <td>64.798208</td>\n",
              "      <td>30.085974</td>\n",
              "      <td>18.25</td>\n",
              "      <td>35.5875</td>\n",
              "      <td>70.350</td>\n",
              "      <td>89.8625</td>\n",
              "      <td>118.75</td>\n",
              "    </tr>\n",
              "    <tr>\n",
              "      <th>TotalCharges</th>\n",
              "      <td>7032.0</td>\n",
              "      <td>2283.300441</td>\n",
              "      <td>2266.771362</td>\n",
              "      <td>18.80</td>\n",
              "      <td>401.4500</td>\n",
              "      <td>1397.475</td>\n",
              "      <td>3794.7375</td>\n",
              "      <td>8684.80</td>\n",
              "    </tr>\n",
              "  </tbody>\n",
              "</table>\n",
              "</div>"
            ],
            "text/plain": [
              "                 count         mean          std  ...       50%        75%      max\n",
              "SeniorCitizen   7032.0     0.162400     0.368844  ...     0.000     0.0000     1.00\n",
              "tenure          7032.0    32.421786    24.545260  ...    29.000    55.0000    72.00\n",
              "MonthlyCharges  7032.0    64.798208    30.085974  ...    70.350    89.8625   118.75\n",
              "TotalCharges    7032.0  2283.300441  2266.771362  ...  1397.475  3794.7375  8684.80\n",
              "\n",
              "[4 rows x 8 columns]"
            ]
          },
          "metadata": {},
          "execution_count": 108
        }
      ]
    },
    {
      "cell_type": "markdown",
      "metadata": {
        "id": "6ce47bed"
      },
      "source": [
        "We should set customerid column as index of df."
      ],
      "id": "6ce47bed"
    },
    {
      "cell_type": "code",
      "metadata": {
        "scrolled": true,
        "id": "98664d7b",
        "colab": {
          "base_uri": "https://localhost:8080/",
          "height": 649
        },
        "outputId": "d8348ede-c90e-4d99-d858-1bf47a50beab"
      },
      "source": [
        "df.set_index('customerID')"
      ],
      "id": "98664d7b",
      "execution_count": 109,
      "outputs": [
        {
          "output_type": "execute_result",
          "data": {
            "text/html": [
              "<div>\n",
              "<style scoped>\n",
              "    .dataframe tbody tr th:only-of-type {\n",
              "        vertical-align: middle;\n",
              "    }\n",
              "\n",
              "    .dataframe tbody tr th {\n",
              "        vertical-align: top;\n",
              "    }\n",
              "\n",
              "    .dataframe thead th {\n",
              "        text-align: right;\n",
              "    }\n",
              "</style>\n",
              "<table border=\"1\" class=\"dataframe\">\n",
              "  <thead>\n",
              "    <tr style=\"text-align: right;\">\n",
              "      <th></th>\n",
              "      <th>gender</th>\n",
              "      <th>SeniorCitizen</th>\n",
              "      <th>Partner</th>\n",
              "      <th>Dependents</th>\n",
              "      <th>tenure</th>\n",
              "      <th>PhoneService</th>\n",
              "      <th>MultipleLines</th>\n",
              "      <th>InternetService</th>\n",
              "      <th>OnlineSecurity</th>\n",
              "      <th>OnlineBackup</th>\n",
              "      <th>DeviceProtection</th>\n",
              "      <th>TechSupport</th>\n",
              "      <th>StreamingTV</th>\n",
              "      <th>StreamingMovies</th>\n",
              "      <th>Contract</th>\n",
              "      <th>PaperlessBilling</th>\n",
              "      <th>PaymentMethod</th>\n",
              "      <th>MonthlyCharges</th>\n",
              "      <th>TotalCharges</th>\n",
              "      <th>Churn</th>\n",
              "    </tr>\n",
              "    <tr>\n",
              "      <th>customerID</th>\n",
              "      <th></th>\n",
              "      <th></th>\n",
              "      <th></th>\n",
              "      <th></th>\n",
              "      <th></th>\n",
              "      <th></th>\n",
              "      <th></th>\n",
              "      <th></th>\n",
              "      <th></th>\n",
              "      <th></th>\n",
              "      <th></th>\n",
              "      <th></th>\n",
              "      <th></th>\n",
              "      <th></th>\n",
              "      <th></th>\n",
              "      <th></th>\n",
              "      <th></th>\n",
              "      <th></th>\n",
              "      <th></th>\n",
              "      <th></th>\n",
              "    </tr>\n",
              "  </thead>\n",
              "  <tbody>\n",
              "    <tr>\n",
              "      <th>7590-VHVEG</th>\n",
              "      <td>Female</td>\n",
              "      <td>0</td>\n",
              "      <td>Yes</td>\n",
              "      <td>No</td>\n",
              "      <td>1</td>\n",
              "      <td>No</td>\n",
              "      <td>No phone service</td>\n",
              "      <td>DSL</td>\n",
              "      <td>No</td>\n",
              "      <td>Yes</td>\n",
              "      <td>No</td>\n",
              "      <td>No</td>\n",
              "      <td>No</td>\n",
              "      <td>No</td>\n",
              "      <td>Month-to-month</td>\n",
              "      <td>Yes</td>\n",
              "      <td>Electronic check</td>\n",
              "      <td>29.85</td>\n",
              "      <td>29.85</td>\n",
              "      <td>No</td>\n",
              "    </tr>\n",
              "    <tr>\n",
              "      <th>5575-GNVDE</th>\n",
              "      <td>Male</td>\n",
              "      <td>0</td>\n",
              "      <td>No</td>\n",
              "      <td>No</td>\n",
              "      <td>34</td>\n",
              "      <td>Yes</td>\n",
              "      <td>No</td>\n",
              "      <td>DSL</td>\n",
              "      <td>Yes</td>\n",
              "      <td>No</td>\n",
              "      <td>Yes</td>\n",
              "      <td>No</td>\n",
              "      <td>No</td>\n",
              "      <td>No</td>\n",
              "      <td>One year</td>\n",
              "      <td>No</td>\n",
              "      <td>Mailed check</td>\n",
              "      <td>56.95</td>\n",
              "      <td>1889.50</td>\n",
              "      <td>No</td>\n",
              "    </tr>\n",
              "    <tr>\n",
              "      <th>3668-QPYBK</th>\n",
              "      <td>Male</td>\n",
              "      <td>0</td>\n",
              "      <td>No</td>\n",
              "      <td>No</td>\n",
              "      <td>2</td>\n",
              "      <td>Yes</td>\n",
              "      <td>No</td>\n",
              "      <td>DSL</td>\n",
              "      <td>Yes</td>\n",
              "      <td>Yes</td>\n",
              "      <td>No</td>\n",
              "      <td>No</td>\n",
              "      <td>No</td>\n",
              "      <td>No</td>\n",
              "      <td>Month-to-month</td>\n",
              "      <td>Yes</td>\n",
              "      <td>Mailed check</td>\n",
              "      <td>53.85</td>\n",
              "      <td>108.15</td>\n",
              "      <td>Yes</td>\n",
              "    </tr>\n",
              "    <tr>\n",
              "      <th>7795-CFOCW</th>\n",
              "      <td>Male</td>\n",
              "      <td>0</td>\n",
              "      <td>No</td>\n",
              "      <td>No</td>\n",
              "      <td>45</td>\n",
              "      <td>No</td>\n",
              "      <td>No phone service</td>\n",
              "      <td>DSL</td>\n",
              "      <td>Yes</td>\n",
              "      <td>No</td>\n",
              "      <td>Yes</td>\n",
              "      <td>Yes</td>\n",
              "      <td>No</td>\n",
              "      <td>No</td>\n",
              "      <td>One year</td>\n",
              "      <td>No</td>\n",
              "      <td>Bank transfer (automatic)</td>\n",
              "      <td>42.30</td>\n",
              "      <td>1840.75</td>\n",
              "      <td>No</td>\n",
              "    </tr>\n",
              "    <tr>\n",
              "      <th>9237-HQITU</th>\n",
              "      <td>Female</td>\n",
              "      <td>0</td>\n",
              "      <td>No</td>\n",
              "      <td>No</td>\n",
              "      <td>2</td>\n",
              "      <td>Yes</td>\n",
              "      <td>No</td>\n",
              "      <td>Fiber optic</td>\n",
              "      <td>No</td>\n",
              "      <td>No</td>\n",
              "      <td>No</td>\n",
              "      <td>No</td>\n",
              "      <td>No</td>\n",
              "      <td>No</td>\n",
              "      <td>Month-to-month</td>\n",
              "      <td>Yes</td>\n",
              "      <td>Electronic check</td>\n",
              "      <td>70.70</td>\n",
              "      <td>151.65</td>\n",
              "      <td>Yes</td>\n",
              "    </tr>\n",
              "    <tr>\n",
              "      <th>...</th>\n",
              "      <td>...</td>\n",
              "      <td>...</td>\n",
              "      <td>...</td>\n",
              "      <td>...</td>\n",
              "      <td>...</td>\n",
              "      <td>...</td>\n",
              "      <td>...</td>\n",
              "      <td>...</td>\n",
              "      <td>...</td>\n",
              "      <td>...</td>\n",
              "      <td>...</td>\n",
              "      <td>...</td>\n",
              "      <td>...</td>\n",
              "      <td>...</td>\n",
              "      <td>...</td>\n",
              "      <td>...</td>\n",
              "      <td>...</td>\n",
              "      <td>...</td>\n",
              "      <td>...</td>\n",
              "      <td>...</td>\n",
              "    </tr>\n",
              "    <tr>\n",
              "      <th>6840-RESVB</th>\n",
              "      <td>Male</td>\n",
              "      <td>0</td>\n",
              "      <td>Yes</td>\n",
              "      <td>Yes</td>\n",
              "      <td>24</td>\n",
              "      <td>Yes</td>\n",
              "      <td>Yes</td>\n",
              "      <td>DSL</td>\n",
              "      <td>Yes</td>\n",
              "      <td>No</td>\n",
              "      <td>Yes</td>\n",
              "      <td>Yes</td>\n",
              "      <td>Yes</td>\n",
              "      <td>Yes</td>\n",
              "      <td>One year</td>\n",
              "      <td>Yes</td>\n",
              "      <td>Mailed check</td>\n",
              "      <td>84.80</td>\n",
              "      <td>1990.50</td>\n",
              "      <td>No</td>\n",
              "    </tr>\n",
              "    <tr>\n",
              "      <th>2234-XADUH</th>\n",
              "      <td>Female</td>\n",
              "      <td>0</td>\n",
              "      <td>Yes</td>\n",
              "      <td>Yes</td>\n",
              "      <td>72</td>\n",
              "      <td>Yes</td>\n",
              "      <td>Yes</td>\n",
              "      <td>Fiber optic</td>\n",
              "      <td>No</td>\n",
              "      <td>Yes</td>\n",
              "      <td>Yes</td>\n",
              "      <td>No</td>\n",
              "      <td>Yes</td>\n",
              "      <td>Yes</td>\n",
              "      <td>One year</td>\n",
              "      <td>Yes</td>\n",
              "      <td>Credit card (automatic)</td>\n",
              "      <td>103.20</td>\n",
              "      <td>7362.90</td>\n",
              "      <td>No</td>\n",
              "    </tr>\n",
              "    <tr>\n",
              "      <th>4801-JZAZL</th>\n",
              "      <td>Female</td>\n",
              "      <td>0</td>\n",
              "      <td>Yes</td>\n",
              "      <td>Yes</td>\n",
              "      <td>11</td>\n",
              "      <td>No</td>\n",
              "      <td>No phone service</td>\n",
              "      <td>DSL</td>\n",
              "      <td>Yes</td>\n",
              "      <td>No</td>\n",
              "      <td>No</td>\n",
              "      <td>No</td>\n",
              "      <td>No</td>\n",
              "      <td>No</td>\n",
              "      <td>Month-to-month</td>\n",
              "      <td>Yes</td>\n",
              "      <td>Electronic check</td>\n",
              "      <td>29.60</td>\n",
              "      <td>346.45</td>\n",
              "      <td>No</td>\n",
              "    </tr>\n",
              "    <tr>\n",
              "      <th>8361-LTMKD</th>\n",
              "      <td>Male</td>\n",
              "      <td>1</td>\n",
              "      <td>Yes</td>\n",
              "      <td>No</td>\n",
              "      <td>4</td>\n",
              "      <td>Yes</td>\n",
              "      <td>Yes</td>\n",
              "      <td>Fiber optic</td>\n",
              "      <td>No</td>\n",
              "      <td>No</td>\n",
              "      <td>No</td>\n",
              "      <td>No</td>\n",
              "      <td>No</td>\n",
              "      <td>No</td>\n",
              "      <td>Month-to-month</td>\n",
              "      <td>Yes</td>\n",
              "      <td>Mailed check</td>\n",
              "      <td>74.40</td>\n",
              "      <td>306.60</td>\n",
              "      <td>Yes</td>\n",
              "    </tr>\n",
              "    <tr>\n",
              "      <th>3186-AJIEK</th>\n",
              "      <td>Male</td>\n",
              "      <td>0</td>\n",
              "      <td>No</td>\n",
              "      <td>No</td>\n",
              "      <td>66</td>\n",
              "      <td>Yes</td>\n",
              "      <td>No</td>\n",
              "      <td>Fiber optic</td>\n",
              "      <td>Yes</td>\n",
              "      <td>No</td>\n",
              "      <td>Yes</td>\n",
              "      <td>Yes</td>\n",
              "      <td>Yes</td>\n",
              "      <td>Yes</td>\n",
              "      <td>Two year</td>\n",
              "      <td>Yes</td>\n",
              "      <td>Bank transfer (automatic)</td>\n",
              "      <td>105.65</td>\n",
              "      <td>6844.50</td>\n",
              "      <td>No</td>\n",
              "    </tr>\n",
              "  </tbody>\n",
              "</table>\n",
              "<p>7032 rows × 20 columns</p>\n",
              "</div>"
            ],
            "text/plain": [
              "            gender  SeniorCitizen Partner  ... MonthlyCharges  TotalCharges Churn\n",
              "customerID                                 ...                                   \n",
              "7590-VHVEG  Female              0     Yes  ...          29.85         29.85    No\n",
              "5575-GNVDE    Male              0      No  ...          56.95       1889.50    No\n",
              "3668-QPYBK    Male              0      No  ...          53.85        108.15   Yes\n",
              "7795-CFOCW    Male              0      No  ...          42.30       1840.75    No\n",
              "9237-HQITU  Female              0      No  ...          70.70        151.65   Yes\n",
              "...            ...            ...     ...  ...            ...           ...   ...\n",
              "6840-RESVB    Male              0     Yes  ...          84.80       1990.50    No\n",
              "2234-XADUH  Female              0     Yes  ...         103.20       7362.90    No\n",
              "4801-JZAZL  Female              0     Yes  ...          29.60        346.45    No\n",
              "8361-LTMKD    Male              1     Yes  ...          74.40        306.60   Yes\n",
              "3186-AJIEK    Male              0      No  ...         105.65       6844.50    No\n",
              "\n",
              "[7032 rows x 20 columns]"
            ]
          },
          "metadata": {},
          "execution_count": 109
        }
      ]
    },
    {
      "cell_type": "code",
      "metadata": {
        "id": "40fc7fc4",
        "colab": {
          "base_uri": "https://localhost:8080/",
          "height": 296
        },
        "outputId": "97b1c4a4-7383-4695-cea1-b6a0b6721345"
      },
      "source": [
        "# How balanced is the dataset\n",
        "sns.countplot(data=df, x = 'Churn')"
      ],
      "id": "40fc7fc4",
      "execution_count": 110,
      "outputs": [
        {
          "output_type": "execute_result",
          "data": {
            "text/plain": [
              "<matplotlib.axes._subplots.AxesSubplot at 0x7f9a5cf97c90>"
            ]
          },
          "metadata": {},
          "execution_count": 110
        },
        {
          "output_type": "display_data",
          "data": {
            "image/png": "[encoded data removed]",
            "text/plain": [
              "<Figure size 432x288 with 1 Axes>"
            ]
          },
          "metadata": {
            "needs_background": "light"
          }
        }
      ]
    },
    {
      "cell_type": "markdown",
      "metadata": {
        "id": "c13b5283"
      },
      "source": [
        "### Does monthly charges have any relationship with churn?"
      ],
      "id": "c13b5283"
    },
    {
      "cell_type": "code",
      "metadata": {
        "id": "4238ad48",
        "colab": {
          "base_uri": "https://localhost:8080/",
          "height": 488
        },
        "outputId": "0adc6820-228b-44d2-c91e-58e5a30cc858"
      },
      "source": [
        "chart = sns.catplot(data=df, x = 'PaymentMethod', y='MonthlyCharges', col = 'Churn', kind = 'box')\n",
        "chart.set_xticklabels(rotation = 90);"
      ],
      "id": "4238ad48",
      "execution_count": 111,
      "outputs": [
        {
          "output_type": "display_data",
          "data": {
            "image/png": "[encoded data removed]",
            "text/plain": [
              "<Figure size 720x360 with 2 Axes>"
            ]
          },
          "metadata": {
            "needs_background": "light"
          }
        }
      ]
    },
    {
      "cell_type": "markdown",
      "metadata": {
        "id": "f5b0e06c"
      },
      "source": [
        "### In the above graph we can conclude that people paying higher bills tend to churn more as we can see the same trend for all the payment method categories.\n",
        "---\n",
        "Does tech support have anything to do with tech support."
      ],
      "id": "f5b0e06c"
    },
    {
      "cell_type": "code",
      "metadata": {
        "scrolled": false,
        "id": "9278ea26",
        "colab": {
          "base_uri": "https://localhost:8080/",
          "height": 386
        },
        "outputId": "723445e7-b64e-4689-8d41-e37affb4c5be"
      },
      "source": [
        "sns.catplot(data=df[df['TechSupport']!='No internet service'], col = 'TechSupport', x = 'Churn', kind='count')"
      ],
      "id": "9278ea26",
      "execution_count": 112,
      "outputs": [
        {
          "output_type": "execute_result",
          "data": {
            "text/plain": [
              "<seaborn.axisgrid.FacetGrid at 0x7f9a5cf484d0>"
            ]
          },
          "metadata": {},
          "execution_count": 112
        },
        {
          "output_type": "display_data",
          "data": {
            "image/png": "[encoded data removed]",
            "text/plain": [
              "<Figure size 720x360 with 2 Axes>"
            ]
          },
          "metadata": {
            "needs_background": "light"
          }
        }
      ]
    },
    {
      "cell_type": "markdown",
      "metadata": {
        "id": "857f1f1d"
      },
      "source": [
        "### It can be concluded that for the group of people who did not have tech support churn rate was higher.\n",
        "---\n",
        "Converting categorical variables to numeric variables. But first lets get rid of customerid and get a list of categorical columns."
      ],
      "id": "857f1f1d"
    },
    {
      "cell_type": "code",
      "metadata": {
        "scrolled": false,
        "id": "bc0d8a45",
        "colab": {
          "base_uri": "https://localhost:8080/",
          "height": 650
        },
        "outputId": "a5589fd6-097d-47bb-e309-fc5f2fc7082a"
      },
      "source": [
        "plt.figure(figsize=(12,6), dpi = 200)\n",
        "sns.boxplot(data=df, x='Contract', y = 'TotalCharges', hue='Churn');"
      ],
      "id": "bc0d8a45",
      "execution_count": 113,
      "outputs": [
        {
          "output_type": "display_data",
          "data": {
            "image/png": "[encoded data removed]",
            "text/plain": [
              "<Figure size 2400x1200 with 1 Axes>"
            ]
          },
          "metadata": {
            "needs_background": "light"
          }
        }
      ]
    },
    {
      "cell_type": "code",
      "metadata": {
        "id": "00593083",
        "colab": {
          "base_uri": "https://localhost:8080/"
        },
        "outputId": "496d13ae-71ec-46dc-c34a-4f043c69085b"
      },
      "source": [
        "df.groupby('Contract').size()"
      ],
      "id": "00593083",
      "execution_count": 114,
      "outputs": [
        {
          "output_type": "execute_result",
          "data": {
            "text/plain": [
              "Contract\n",
              "Month-to-month    3875\n",
              "One year          1472\n",
              "Two year          1685\n",
              "dtype: int64"
            ]
          },
          "metadata": {},
          "execution_count": 114
        }
      ]
    },
    {
      "cell_type": "markdown",
      "metadata": {
        "id": "a64c6f4a"
      },
      "source": [
        "### Customers with one and two years contract tend to churn out more and majority of customers have month to month contract. Lets create a pair plot of categorical columns."
      ],
      "id": "a64c6f4a"
    },
    {
      "cell_type": "markdown",
      "metadata": {
        "id": "fc70014f"
      },
      "source": [
        "### Visualizing churning rate along with tenure."
      ],
      "id": "fc70014f"
    },
    {
      "cell_type": "code",
      "metadata": {
        "id": "1036253d",
        "colab": {
          "base_uri": "https://localhost:8080/",
          "height": 455
        },
        "outputId": "8b123fc2-668d-443e-b7a3-a877c95d5b1a"
      },
      "source": [
        "ten_group = df.groupby(['tenure','Churn'])['Churn'].count()\n",
        "ten_group = pd.DataFrame(ten_group)\n",
        "ten_group"
      ],
      "id": "1036253d",
      "execution_count": 115,
      "outputs": [
        {
          "output_type": "execute_result",
          "data": {
            "text/html": [
              "<div>\n",
              "<style scoped>\n",
              "    .dataframe tbody tr th:only-of-type {\n",
              "        vertical-align: middle;\n",
              "    }\n",
              "\n",
              "    .dataframe tbody tr th {\n",
              "        vertical-align: top;\n",
              "    }\n",
              "\n",
              "    .dataframe thead th {\n",
              "        text-align: right;\n",
              "    }\n",
              "</style>\n",
              "<table border=\"1\" class=\"dataframe\">\n",
              "  <thead>\n",
              "    <tr style=\"text-align: right;\">\n",
              "      <th></th>\n",
              "      <th></th>\n",
              "      <th>Churn</th>\n",
              "    </tr>\n",
              "    <tr>\n",
              "      <th>tenure</th>\n",
              "      <th>Churn</th>\n",
              "      <th></th>\n",
              "    </tr>\n",
              "  </thead>\n",
              "  <tbody>\n",
              "    <tr>\n",
              "      <th rowspan=\"2\" valign=\"top\">1</th>\n",
              "      <th>No</th>\n",
              "      <td>233</td>\n",
              "    </tr>\n",
              "    <tr>\n",
              "      <th>Yes</th>\n",
              "      <td>380</td>\n",
              "    </tr>\n",
              "    <tr>\n",
              "      <th rowspan=\"2\" valign=\"top\">2</th>\n",
              "      <th>No</th>\n",
              "      <td>115</td>\n",
              "    </tr>\n",
              "    <tr>\n",
              "      <th>Yes</th>\n",
              "      <td>123</td>\n",
              "    </tr>\n",
              "    <tr>\n",
              "      <th>3</th>\n",
              "      <th>No</th>\n",
              "      <td>106</td>\n",
              "    </tr>\n",
              "    <tr>\n",
              "      <th>...</th>\n",
              "      <th>...</th>\n",
              "      <td>...</td>\n",
              "    </tr>\n",
              "    <tr>\n",
              "      <th>70</th>\n",
              "      <th>Yes</th>\n",
              "      <td>11</td>\n",
              "    </tr>\n",
              "    <tr>\n",
              "      <th rowspan=\"2\" valign=\"top\">71</th>\n",
              "      <th>No</th>\n",
              "      <td>164</td>\n",
              "    </tr>\n",
              "    <tr>\n",
              "      <th>Yes</th>\n",
              "      <td>6</td>\n",
              "    </tr>\n",
              "    <tr>\n",
              "      <th rowspan=\"2\" valign=\"top\">72</th>\n",
              "      <th>No</th>\n",
              "      <td>356</td>\n",
              "    </tr>\n",
              "    <tr>\n",
              "      <th>Yes</th>\n",
              "      <td>6</td>\n",
              "    </tr>\n",
              "  </tbody>\n",
              "</table>\n",
              "<p>144 rows × 1 columns</p>\n",
              "</div>"
            ],
            "text/plain": [
              "              Churn\n",
              "tenure Churn       \n",
              "1      No       233\n",
              "       Yes      380\n",
              "2      No       115\n",
              "       Yes      123\n",
              "3      No       106\n",
              "...             ...\n",
              "70     Yes       11\n",
              "71     No       164\n",
              "       Yes        6\n",
              "72     No       356\n",
              "       Yes        6\n",
              "\n",
              "[144 rows x 1 columns]"
            ]
          },
          "metadata": {},
          "execution_count": 115
        }
      ]
    },
    {
      "cell_type": "code",
      "metadata": {
        "id": "bf8ebedf",
        "colab": {
          "base_uri": "https://localhost:8080/"
        },
        "outputId": "e4509d4a-fe01-4a0b-cb63-30a50f22d3a2"
      },
      "source": [
        "ten_nos = df.groupby(['tenure'])['Churn'].count()\n",
        "ten_nos = pd.DataFrame(ten_nos).reset_index()\n",
        "ten_nos=dict(zip(ten_nos.tenure,ten_nos.Churn))\n",
        "ten_nos"
      ],
      "id": "bf8ebedf",
      "execution_count": 116,
      "outputs": [
        {
          "output_type": "execute_result",
          "data": {
            "text/plain": [
              "{1: 613,\n",
              " 2: 238,\n",
              " 3: 200,\n",
              " 4: 176,\n",
              " 5: 133,\n",
              " 6: 110,\n",
              " 7: 131,\n",
              " 8: 123,\n",
              " 9: 119,\n",
              " 10: 116,\n",
              " 11: 99,\n",
              " 12: 117,\n",
              " 13: 109,\n",
              " 14: 76,\n",
              " 15: 99,\n",
              " 16: 80,\n",
              " 17: 87,\n",
              " 18: 97,\n",
              " 19: 73,\n",
              " 20: 71,\n",
              " 21: 63,\n",
              " 22: 90,\n",
              " 23: 85,\n",
              " 24: 94,\n",
              " 25: 79,\n",
              " 26: 79,\n",
              " 27: 72,\n",
              " 28: 57,\n",
              " 29: 72,\n",
              " 30: 72,\n",
              " 31: 65,\n",
              " 32: 69,\n",
              " 33: 64,\n",
              " 34: 65,\n",
              " 35: 88,\n",
              " 36: 50,\n",
              " 37: 65,\n",
              " 38: 59,\n",
              " 39: 56,\n",
              " 40: 64,\n",
              " 41: 70,\n",
              " 42: 65,\n",
              " 43: 65,\n",
              " 44: 51,\n",
              " 45: 61,\n",
              " 46: 74,\n",
              " 47: 68,\n",
              " 48: 64,\n",
              " 49: 66,\n",
              " 50: 68,\n",
              " 51: 68,\n",
              " 52: 80,\n",
              " 53: 70,\n",
              " 54: 68,\n",
              " 55: 64,\n",
              " 56: 80,\n",
              " 57: 65,\n",
              " 58: 67,\n",
              " 59: 60,\n",
              " 60: 76,\n",
              " 61: 76,\n",
              " 62: 70,\n",
              " 63: 72,\n",
              " 64: 80,\n",
              " 65: 76,\n",
              " 66: 89,\n",
              " 67: 98,\n",
              " 68: 100,\n",
              " 69: 95,\n",
              " 70: 119,\n",
              " 71: 170,\n",
              " 72: 362}"
            ]
          },
          "metadata": {},
          "execution_count": 116
        }
      ]
    },
    {
      "cell_type": "code",
      "metadata": {
        "id": "0df9835a",
        "colab": {
          "base_uri": "https://localhost:8080/",
          "height": 424
        },
        "outputId": "6eba49e7-4095-4963-a6ae-77ea17d1c1c9"
      },
      "source": [
        "ten_group.columns = ['Churn_nos']\n",
        "ten_group=ten_group.reset_index()\n",
        "ten_group"
      ],
      "id": "0df9835a",
      "execution_count": 117,
      "outputs": [
        {
          "output_type": "execute_result",
          "data": {
            "text/html": [
              "<div>\n",
              "<style scoped>\n",
              "    .dataframe tbody tr th:only-of-type {\n",
              "        vertical-align: middle;\n",
              "    }\n",
              "\n",
              "    .dataframe tbody tr th {\n",
              "        vertical-align: top;\n",
              "    }\n",
              "\n",
              "    .dataframe thead th {\n",
              "        text-align: right;\n",
              "    }\n",
              "</style>\n",
              "<table border=\"1\" class=\"dataframe\">\n",
              "  <thead>\n",
              "    <tr style=\"text-align: right;\">\n",
              "      <th></th>\n",
              "      <th>tenure</th>\n",
              "      <th>Churn</th>\n",
              "      <th>Churn_nos</th>\n",
              "    </tr>\n",
              "  </thead>\n",
              "  <tbody>\n",
              "    <tr>\n",
              "      <th>0</th>\n",
              "      <td>1</td>\n",
              "      <td>No</td>\n",
              "      <td>233</td>\n",
              "    </tr>\n",
              "    <tr>\n",
              "      <th>1</th>\n",
              "      <td>1</td>\n",
              "      <td>Yes</td>\n",
              "      <td>380</td>\n",
              "    </tr>\n",
              "    <tr>\n",
              "      <th>2</th>\n",
              "      <td>2</td>\n",
              "      <td>No</td>\n",
              "      <td>115</td>\n",
              "    </tr>\n",
              "    <tr>\n",
              "      <th>3</th>\n",
              "      <td>2</td>\n",
              "      <td>Yes</td>\n",
              "      <td>123</td>\n",
              "    </tr>\n",
              "    <tr>\n",
              "      <th>4</th>\n",
              "      <td>3</td>\n",
              "      <td>No</td>\n",
              "      <td>106</td>\n",
              "    </tr>\n",
              "    <tr>\n",
              "      <th>...</th>\n",
              "      <td>...</td>\n",
              "      <td>...</td>\n",
              "      <td>...</td>\n",
              "    </tr>\n",
              "    <tr>\n",
              "      <th>139</th>\n",
              "      <td>70</td>\n",
              "      <td>Yes</td>\n",
              "      <td>11</td>\n",
              "    </tr>\n",
              "    <tr>\n",
              "      <th>140</th>\n",
              "      <td>71</td>\n",
              "      <td>No</td>\n",
              "      <td>164</td>\n",
              "    </tr>\n",
              "    <tr>\n",
              "      <th>141</th>\n",
              "      <td>71</td>\n",
              "      <td>Yes</td>\n",
              "      <td>6</td>\n",
              "    </tr>\n",
              "    <tr>\n",
              "      <th>142</th>\n",
              "      <td>72</td>\n",
              "      <td>No</td>\n",
              "      <td>356</td>\n",
              "    </tr>\n",
              "    <tr>\n",
              "      <th>143</th>\n",
              "      <td>72</td>\n",
              "      <td>Yes</td>\n",
              "      <td>6</td>\n",
              "    </tr>\n",
              "  </tbody>\n",
              "</table>\n",
              "<p>144 rows × 3 columns</p>\n",
              "</div>"
            ],
            "text/plain": [
              "     tenure Churn  Churn_nos\n",
              "0         1    No        233\n",
              "1         1   Yes        380\n",
              "2         2    No        115\n",
              "3         2   Yes        123\n",
              "4         3    No        106\n",
              "..      ...   ...        ...\n",
              "139      70   Yes         11\n",
              "140      71    No        164\n",
              "141      71   Yes          6\n",
              "142      72    No        356\n",
              "143      72   Yes          6\n",
              "\n",
              "[144 rows x 3 columns]"
            ]
          },
          "metadata": {},
          "execution_count": 117
        }
      ]
    },
    {
      "cell_type": "code",
      "metadata": {
        "id": "bc1d5fce",
        "colab": {
          "base_uri": "https://localhost:8080/",
          "height": 424
        },
        "outputId": "3aa35d6e-df7b-4fb0-ccda-5b814baea6e2"
      },
      "source": [
        "ten_group['Total']=ten_group['tenure'].map(lambda x:ten_nos[x])\n",
        "ten_group=ten_group[ten_group['Churn']=='Yes']\n",
        "ten_group=ten_group.drop('Churn',axis=1)\n",
        "ten_group['Churn%'] = ten_group['Churn_nos']*100/ten_group['Total']\n",
        "ten_group"
      ],
      "id": "bc1d5fce",
      "execution_count": 118,
      "outputs": [
        {
          "output_type": "execute_result",
          "data": {
            "text/html": [
              "<div>\n",
              "<style scoped>\n",
              "    .dataframe tbody tr th:only-of-type {\n",
              "        vertical-align: middle;\n",
              "    }\n",
              "\n",
              "    .dataframe tbody tr th {\n",
              "        vertical-align: top;\n",
              "    }\n",
              "\n",
              "    .dataframe thead th {\n",
              "        text-align: right;\n",
              "    }\n",
              "</style>\n",
              "<table border=\"1\" class=\"dataframe\">\n",
              "  <thead>\n",
              "    <tr style=\"text-align: right;\">\n",
              "      <th></th>\n",
              "      <th>tenure</th>\n",
              "      <th>Churn_nos</th>\n",
              "      <th>Total</th>\n",
              "      <th>Churn%</th>\n",
              "    </tr>\n",
              "  </thead>\n",
              "  <tbody>\n",
              "    <tr>\n",
              "      <th>1</th>\n",
              "      <td>1</td>\n",
              "      <td>380</td>\n",
              "      <td>613</td>\n",
              "      <td>61.990212</td>\n",
              "    </tr>\n",
              "    <tr>\n",
              "      <th>3</th>\n",
              "      <td>2</td>\n",
              "      <td>123</td>\n",
              "      <td>238</td>\n",
              "      <td>51.680672</td>\n",
              "    </tr>\n",
              "    <tr>\n",
              "      <th>5</th>\n",
              "      <td>3</td>\n",
              "      <td>94</td>\n",
              "      <td>200</td>\n",
              "      <td>47.000000</td>\n",
              "    </tr>\n",
              "    <tr>\n",
              "      <th>7</th>\n",
              "      <td>4</td>\n",
              "      <td>83</td>\n",
              "      <td>176</td>\n",
              "      <td>47.159091</td>\n",
              "    </tr>\n",
              "    <tr>\n",
              "      <th>9</th>\n",
              "      <td>5</td>\n",
              "      <td>64</td>\n",
              "      <td>133</td>\n",
              "      <td>48.120301</td>\n",
              "    </tr>\n",
              "    <tr>\n",
              "      <th>...</th>\n",
              "      <td>...</td>\n",
              "      <td>...</td>\n",
              "      <td>...</td>\n",
              "      <td>...</td>\n",
              "    </tr>\n",
              "    <tr>\n",
              "      <th>135</th>\n",
              "      <td>68</td>\n",
              "      <td>9</td>\n",
              "      <td>100</td>\n",
              "      <td>9.000000</td>\n",
              "    </tr>\n",
              "    <tr>\n",
              "      <th>137</th>\n",
              "      <td>69</td>\n",
              "      <td>8</td>\n",
              "      <td>95</td>\n",
              "      <td>8.421053</td>\n",
              "    </tr>\n",
              "    <tr>\n",
              "      <th>139</th>\n",
              "      <td>70</td>\n",
              "      <td>11</td>\n",
              "      <td>119</td>\n",
              "      <td>9.243697</td>\n",
              "    </tr>\n",
              "    <tr>\n",
              "      <th>141</th>\n",
              "      <td>71</td>\n",
              "      <td>6</td>\n",
              "      <td>170</td>\n",
              "      <td>3.529412</td>\n",
              "    </tr>\n",
              "    <tr>\n",
              "      <th>143</th>\n",
              "      <td>72</td>\n",
              "      <td>6</td>\n",
              "      <td>362</td>\n",
              "      <td>1.657459</td>\n",
              "    </tr>\n",
              "  </tbody>\n",
              "</table>\n",
              "<p>72 rows × 4 columns</p>\n",
              "</div>"
            ],
            "text/plain": [
              "     tenure  Churn_nos  Total     Churn%\n",
              "1         1        380    613  61.990212\n",
              "3         2        123    238  51.680672\n",
              "5         3         94    200  47.000000\n",
              "7         4         83    176  47.159091\n",
              "9         5         64    133  48.120301\n",
              "..      ...        ...    ...        ...\n",
              "135      68          9    100   9.000000\n",
              "137      69          8     95   8.421053\n",
              "139      70         11    119   9.243697\n",
              "141      71          6    170   3.529412\n",
              "143      72          6    362   1.657459\n",
              "\n",
              "[72 rows x 4 columns]"
            ]
          },
          "metadata": {},
          "execution_count": 118
        }
      ]
    },
    {
      "cell_type": "code",
      "metadata": {
        "id": "737eadf5",
        "colab": {
          "base_uri": "https://localhost:8080/",
          "height": 579
        },
        "outputId": "e383ab01-5fed-4062-d923-5100aac301da"
      },
      "source": [
        "plt.figure(figsize=(14,6), dpi=200)\n",
        "sns.barplot(data=ten_group, y=ten_group['Churn%'], x= ten_group['tenure'])\n",
        "plt.xticks(rotation=90);"
      ],
      "id": "737eadf5",
      "execution_count": 119,
      "outputs": [
        {
          "output_type": "display_data",
          "data": {
            "image/png": "[encoded data removed]",
            "text/plain": [
              "<Figure size 2800x1200 with 1 Axes>"
            ]
          },
          "metadata": {
            "needs_background": "light"
          }
        }
      ]
    },
    {
      "cell_type": "markdown",
      "metadata": {
        "id": "f0c9851b"
      },
      "source": [
        "### New customer tend to churn out more in general.\n",
        "\n",
        "#### Now lets create dummy variables but before that lets check the unique values in categorical columns."
      ],
      "id": "f0c9851b"
    },
    {
      "cell_type": "code",
      "metadata": {
        "id": "cfa243c9",
        "colab": {
          "base_uri": "https://localhost:8080/",
          "height": 617
        },
        "outputId": "7146f0a2-cedd-4fbf-d094-61cd7d33b6b6"
      },
      "source": [
        "df"
      ],
      "id": "cfa243c9",
      "execution_count": 120,
      "outputs": [
        {
          "output_type": "execute_result",
          "data": {
            "text/html": [
              "<div>\n",
              "<style scoped>\n",
              "    .dataframe tbody tr th:only-of-type {\n",
              "        vertical-align: middle;\n",
              "    }\n",
              "\n",
              "    .dataframe tbody tr th {\n",
              "        vertical-align: top;\n",
              "    }\n",
              "\n",
              "    .dataframe thead th {\n",
              "        text-align: right;\n",
              "    }\n",
              "</style>\n",
              "<table border=\"1\" class=\"dataframe\">\n",
              "  <thead>\n",
              "    <tr style=\"text-align: right;\">\n",
              "      <th></th>\n",
              "      <th>customerID</th>\n",
              "      <th>gender</th>\n",
              "      <th>SeniorCitizen</th>\n",
              "      <th>Partner</th>\n",
              "      <th>Dependents</th>\n",
              "      <th>tenure</th>\n",
              "      <th>PhoneService</th>\n",
              "      <th>MultipleLines</th>\n",
              "      <th>InternetService</th>\n",
              "      <th>OnlineSecurity</th>\n",
              "      <th>OnlineBackup</th>\n",
              "      <th>DeviceProtection</th>\n",
              "      <th>TechSupport</th>\n",
              "      <th>StreamingTV</th>\n",
              "      <th>StreamingMovies</th>\n",
              "      <th>Contract</th>\n",
              "      <th>PaperlessBilling</th>\n",
              "      <th>PaymentMethod</th>\n",
              "      <th>MonthlyCharges</th>\n",
              "      <th>TotalCharges</th>\n",
              "      <th>Churn</th>\n",
              "    </tr>\n",
              "  </thead>\n",
              "  <tbody>\n",
              "    <tr>\n",
              "      <th>0</th>\n",
              "      <td>7590-VHVEG</td>\n",
              "      <td>Female</td>\n",
              "      <td>0</td>\n",
              "      <td>Yes</td>\n",
              "      <td>No</td>\n",
              "      <td>1</td>\n",
              "      <td>No</td>\n",
              "      <td>No phone service</td>\n",
              "      <td>DSL</td>\n",
              "      <td>No</td>\n",
              "      <td>Yes</td>\n",
              "      <td>No</td>\n",
              "      <td>No</td>\n",
              "      <td>No</td>\n",
              "      <td>No</td>\n",
              "      <td>Month-to-month</td>\n",
              "      <td>Yes</td>\n",
              "      <td>Electronic check</td>\n",
              "      <td>29.85</td>\n",
              "      <td>29.85</td>\n",
              "      <td>No</td>\n",
              "    </tr>\n",
              "    <tr>\n",
              "      <th>1</th>\n",
              "      <td>5575-GNVDE</td>\n",
              "      <td>Male</td>\n",
              "      <td>0</td>\n",
              "      <td>No</td>\n",
              "      <td>No</td>\n",
              "      <td>34</td>\n",
              "      <td>Yes</td>\n",
              "      <td>No</td>\n",
              "      <td>DSL</td>\n",
              "      <td>Yes</td>\n",
              "      <td>No</td>\n",
              "      <td>Yes</td>\n",
              "      <td>No</td>\n",
              "      <td>No</td>\n",
              "      <td>No</td>\n",
              "      <td>One year</td>\n",
              "      <td>No</td>\n",
              "      <td>Mailed check</td>\n",
              "      <td>56.95</td>\n",
              "      <td>1889.50</td>\n",
              "      <td>No</td>\n",
              "    </tr>\n",
              "    <tr>\n",
              "      <th>2</th>\n",
              "      <td>3668-QPYBK</td>\n",
              "      <td>Male</td>\n",
              "      <td>0</td>\n",
              "      <td>No</td>\n",
              "      <td>No</td>\n",
              "      <td>2</td>\n",
              "      <td>Yes</td>\n",
              "      <td>No</td>\n",
              "      <td>DSL</td>\n",
              "      <td>Yes</td>\n",
              "      <td>Yes</td>\n",
              "      <td>No</td>\n",
              "      <td>No</td>\n",
              "      <td>No</td>\n",
              "      <td>No</td>\n",
              "      <td>Month-to-month</td>\n",
              "      <td>Yes</td>\n",
              "      <td>Mailed check</td>\n",
              "      <td>53.85</td>\n",
              "      <td>108.15</td>\n",
              "      <td>Yes</td>\n",
              "    </tr>\n",
              "    <tr>\n",
              "      <th>3</th>\n",
              "      <td>7795-CFOCW</td>\n",
              "      <td>Male</td>\n",
              "      <td>0</td>\n",
              "      <td>No</td>\n",
              "      <td>No</td>\n",
              "      <td>45</td>\n",
              "      <td>No</td>\n",
              "      <td>No phone service</td>\n",
              "      <td>DSL</td>\n",
              "      <td>Yes</td>\n",
              "      <td>No</td>\n",
              "      <td>Yes</td>\n",
              "      <td>Yes</td>\n",
              "      <td>No</td>\n",
              "      <td>No</td>\n",
              "      <td>One year</td>\n",
              "      <td>No</td>\n",
              "      <td>Bank transfer (automatic)</td>\n",
              "      <td>42.30</td>\n",
              "      <td>1840.75</td>\n",
              "      <td>No</td>\n",
              "    </tr>\n",
              "    <tr>\n",
              "      <th>4</th>\n",
              "      <td>9237-HQITU</td>\n",
              "      <td>Female</td>\n",
              "      <td>0</td>\n",
              "      <td>No</td>\n",
              "      <td>No</td>\n",
              "      <td>2</td>\n",
              "      <td>Yes</td>\n",
              "      <td>No</td>\n",
              "      <td>Fiber optic</td>\n",
              "      <td>No</td>\n",
              "      <td>No</td>\n",
              "      <td>No</td>\n",
              "      <td>No</td>\n",
              "      <td>No</td>\n",
              "      <td>No</td>\n",
              "      <td>Month-to-month</td>\n",
              "      <td>Yes</td>\n",
              "      <td>Electronic check</td>\n",
              "      <td>70.70</td>\n",
              "      <td>151.65</td>\n",
              "      <td>Yes</td>\n",
              "    </tr>\n",
              "    <tr>\n",
              "      <th>...</th>\n",
              "      <td>...</td>\n",
              "      <td>...</td>\n",
              "      <td>...</td>\n",
              "      <td>...</td>\n",
              "      <td>...</td>\n",
              "      <td>...</td>\n",
              "      <td>...</td>\n",
              "      <td>...</td>\n",
              "      <td>...</td>\n",
              "      <td>...</td>\n",
              "      <td>...</td>\n",
              "      <td>...</td>\n",
              "      <td>...</td>\n",
              "      <td>...</td>\n",
              "      <td>...</td>\n",
              "      <td>...</td>\n",
              "      <td>...</td>\n",
              "      <td>...</td>\n",
              "      <td>...</td>\n",
              "      <td>...</td>\n",
              "      <td>...</td>\n",
              "    </tr>\n",
              "    <tr>\n",
              "      <th>7027</th>\n",
              "      <td>6840-RESVB</td>\n",
              "      <td>Male</td>\n",
              "      <td>0</td>\n",
              "      <td>Yes</td>\n",
              "      <td>Yes</td>\n",
              "      <td>24</td>\n",
              "      <td>Yes</td>\n",
              "      <td>Yes</td>\n",
              "      <td>DSL</td>\n",
              "      <td>Yes</td>\n",
              "      <td>No</td>\n",
              "      <td>Yes</td>\n",
              "      <td>Yes</td>\n",
              "      <td>Yes</td>\n",
              "      <td>Yes</td>\n",
              "      <td>One year</td>\n",
              "      <td>Yes</td>\n",
              "      <td>Mailed check</td>\n",
              "      <td>84.80</td>\n",
              "      <td>1990.50</td>\n",
              "      <td>No</td>\n",
              "    </tr>\n",
              "    <tr>\n",
              "      <th>7028</th>\n",
              "      <td>2234-XADUH</td>\n",
              "      <td>Female</td>\n",
              "      <td>0</td>\n",
              "      <td>Yes</td>\n",
              "      <td>Yes</td>\n",
              "      <td>72</td>\n",
              "      <td>Yes</td>\n",
              "      <td>Yes</td>\n",
              "      <td>Fiber optic</td>\n",
              "      <td>No</td>\n",
              "      <td>Yes</td>\n",
              "      <td>Yes</td>\n",
              "      <td>No</td>\n",
              "      <td>Yes</td>\n",
              "      <td>Yes</td>\n",
              "      <td>One year</td>\n",
              "      <td>Yes</td>\n",
              "      <td>Credit card (automatic)</td>\n",
              "      <td>103.20</td>\n",
              "      <td>7362.90</td>\n",
              "      <td>No</td>\n",
              "    </tr>\n",
              "    <tr>\n",
              "      <th>7029</th>\n",
              "      <td>4801-JZAZL</td>\n",
              "      <td>Female</td>\n",
              "      <td>0</td>\n",
              "      <td>Yes</td>\n",
              "      <td>Yes</td>\n",
              "      <td>11</td>\n",
              "      <td>No</td>\n",
              "      <td>No phone service</td>\n",
              "      <td>DSL</td>\n",
              "      <td>Yes</td>\n",
              "      <td>No</td>\n",
              "      <td>No</td>\n",
              "      <td>No</td>\n",
              "      <td>No</td>\n",
              "      <td>No</td>\n",
              "      <td>Month-to-month</td>\n",
              "      <td>Yes</td>\n",
              "      <td>Electronic check</td>\n",
              "      <td>29.60</td>\n",
              "      <td>346.45</td>\n",
              "      <td>No</td>\n",
              "    </tr>\n",
              "    <tr>\n",
              "      <th>7030</th>\n",
              "      <td>8361-LTMKD</td>\n",
              "      <td>Male</td>\n",
              "      <td>1</td>\n",
              "      <td>Yes</td>\n",
              "      <td>No</td>\n",
              "      <td>4</td>\n",
              "      <td>Yes</td>\n",
              "      <td>Yes</td>\n",
              "      <td>Fiber optic</td>\n",
              "      <td>No</td>\n",
              "      <td>No</td>\n",
              "      <td>No</td>\n",
              "      <td>No</td>\n",
              "      <td>No</td>\n",
              "      <td>No</td>\n",
              "      <td>Month-to-month</td>\n",
              "      <td>Yes</td>\n",
              "      <td>Mailed check</td>\n",
              "      <td>74.40</td>\n",
              "      <td>306.60</td>\n",
              "      <td>Yes</td>\n",
              "    </tr>\n",
              "    <tr>\n",
              "      <th>7031</th>\n",
              "      <td>3186-AJIEK</td>\n",
              "      <td>Male</td>\n",
              "      <td>0</td>\n",
              "      <td>No</td>\n",
              "      <td>No</td>\n",
              "      <td>66</td>\n",
              "      <td>Yes</td>\n",
              "      <td>No</td>\n",
              "      <td>Fiber optic</td>\n",
              "      <td>Yes</td>\n",
              "      <td>No</td>\n",
              "      <td>Yes</td>\n",
              "      <td>Yes</td>\n",
              "      <td>Yes</td>\n",
              "      <td>Yes</td>\n",
              "      <td>Two year</td>\n",
              "      <td>Yes</td>\n",
              "      <td>Bank transfer (automatic)</td>\n",
              "      <td>105.65</td>\n",
              "      <td>6844.50</td>\n",
              "      <td>No</td>\n",
              "    </tr>\n",
              "  </tbody>\n",
              "</table>\n",
              "<p>7032 rows × 21 columns</p>\n",
              "</div>"
            ],
            "text/plain": [
              "      customerID  gender  SeniorCitizen  ... MonthlyCharges TotalCharges  Churn\n",
              "0     7590-VHVEG  Female              0  ...          29.85        29.85     No\n",
              "1     5575-GNVDE    Male              0  ...          56.95      1889.50     No\n",
              "2     3668-QPYBK    Male              0  ...          53.85       108.15    Yes\n",
              "3     7795-CFOCW    Male              0  ...          42.30      1840.75     No\n",
              "4     9237-HQITU  Female              0  ...          70.70       151.65    Yes\n",
              "...          ...     ...            ...  ...            ...          ...    ...\n",
              "7027  6840-RESVB    Male              0  ...          84.80      1990.50     No\n",
              "7028  2234-XADUH  Female              0  ...         103.20      7362.90     No\n",
              "7029  4801-JZAZL  Female              0  ...          29.60       346.45     No\n",
              "7030  8361-LTMKD    Male              1  ...          74.40       306.60    Yes\n",
              "7031  3186-AJIEK    Male              0  ...         105.65      6844.50     No\n",
              "\n",
              "[7032 rows x 21 columns]"
            ]
          },
          "metadata": {},
          "execution_count": 120
        }
      ]
    },
    {
      "cell_type": "code",
      "metadata": {
        "id": "9b6bdbd3"
      },
      "source": [
        "df = df.iloc[:,1:]   # get rid of customerID before getting dummy variables."
      ],
      "id": "9b6bdbd3",
      "execution_count": 121,
      "outputs": []
    },
    {
      "cell_type": "code",
      "metadata": {
        "id": "d9350bcc"
      },
      "source": [
        "cat_cols = [cols for cols in df.select_dtypes(include='object')]\n",
        "num_cols = [cols for cols in df.select_dtypes(exclude='object')]"
      ],
      "id": "d9350bcc",
      "execution_count": 122,
      "outputs": []
    },
    {
      "cell_type": "code",
      "metadata": {
        "id": "4824e11a"
      },
      "source": [
        "a=[]\n",
        "for col in cat_cols:\n",
        "    a.append(df[col].unique())"
      ],
      "id": "4824e11a",
      "execution_count": 123,
      "outputs": []
    },
    {
      "cell_type": "code",
      "metadata": {
        "id": "ea28880f"
      },
      "source": [
        "cat_uni = pd.DataFrame({'cols':cat_cols,'unique':a}).set_index('cols')"
      ],
      "id": "ea28880f",
      "execution_count": 124,
      "outputs": []
    },
    {
      "cell_type": "markdown",
      "metadata": {
        "id": "cda2bfeb"
      },
      "source": [
        "Checking number of unique values in categorical columns"
      ],
      "id": "cda2bfeb"
    },
    {
      "cell_type": "code",
      "metadata": {
        "id": "c0504c1c",
        "colab": {
          "base_uri": "https://localhost:8080/",
          "height": 582
        },
        "outputId": "fb05fa2d-85de-4d01-8ae9-a41cf99a9a13"
      },
      "source": [
        "cat_uni"
      ],
      "id": "c0504c1c",
      "execution_count": 125,
      "outputs": [
        {
          "output_type": "execute_result",
          "data": {
            "text/html": [
              "<div>\n",
              "<style scoped>\n",
              "    .dataframe tbody tr th:only-of-type {\n",
              "        vertical-align: middle;\n",
              "    }\n",
              "\n",
              "    .dataframe tbody tr th {\n",
              "        vertical-align: top;\n",
              "    }\n",
              "\n",
              "    .dataframe thead th {\n",
              "        text-align: right;\n",
              "    }\n",
              "</style>\n",
              "<table border=\"1\" class=\"dataframe\">\n",
              "  <thead>\n",
              "    <tr style=\"text-align: right;\">\n",
              "      <th></th>\n",
              "      <th>unique</th>\n",
              "    </tr>\n",
              "    <tr>\n",
              "      <th>cols</th>\n",
              "      <th></th>\n",
              "    </tr>\n",
              "  </thead>\n",
              "  <tbody>\n",
              "    <tr>\n",
              "      <th>gender</th>\n",
              "      <td>[Female, Male]</td>\n",
              "    </tr>\n",
              "    <tr>\n",
              "      <th>Partner</th>\n",
              "      <td>[Yes, No]</td>\n",
              "    </tr>\n",
              "    <tr>\n",
              "      <th>Dependents</th>\n",
              "      <td>[No, Yes]</td>\n",
              "    </tr>\n",
              "    <tr>\n",
              "      <th>PhoneService</th>\n",
              "      <td>[No, Yes]</td>\n",
              "    </tr>\n",
              "    <tr>\n",
              "      <th>MultipleLines</th>\n",
              "      <td>[No phone service, No, Yes]</td>\n",
              "    </tr>\n",
              "    <tr>\n",
              "      <th>InternetService</th>\n",
              "      <td>[DSL, Fiber optic, No]</td>\n",
              "    </tr>\n",
              "    <tr>\n",
              "      <th>OnlineSecurity</th>\n",
              "      <td>[No, Yes, No internet service]</td>\n",
              "    </tr>\n",
              "    <tr>\n",
              "      <th>OnlineBackup</th>\n",
              "      <td>[Yes, No, No internet service]</td>\n",
              "    </tr>\n",
              "    <tr>\n",
              "      <th>DeviceProtection</th>\n",
              "      <td>[No, Yes, No internet service]</td>\n",
              "    </tr>\n",
              "    <tr>\n",
              "      <th>TechSupport</th>\n",
              "      <td>[No, Yes, No internet service]</td>\n",
              "    </tr>\n",
              "    <tr>\n",
              "      <th>StreamingTV</th>\n",
              "      <td>[No, Yes, No internet service]</td>\n",
              "    </tr>\n",
              "    <tr>\n",
              "      <th>StreamingMovies</th>\n",
              "      <td>[No, Yes, No internet service]</td>\n",
              "    </tr>\n",
              "    <tr>\n",
              "      <th>Contract</th>\n",
              "      <td>[Month-to-month, One year, Two year]</td>\n",
              "    </tr>\n",
              "    <tr>\n",
              "      <th>PaperlessBilling</th>\n",
              "      <td>[Yes, No]</td>\n",
              "    </tr>\n",
              "    <tr>\n",
              "      <th>PaymentMethod</th>\n",
              "      <td>[Electronic check, Mailed check, Bank transfer...</td>\n",
              "    </tr>\n",
              "    <tr>\n",
              "      <th>Churn</th>\n",
              "      <td>[No, Yes]</td>\n",
              "    </tr>\n",
              "  </tbody>\n",
              "</table>\n",
              "</div>"
            ],
            "text/plain": [
              "                                                             unique\n",
              "cols                                                               \n",
              "gender                                               [Female, Male]\n",
              "Partner                                                   [Yes, No]\n",
              "Dependents                                                [No, Yes]\n",
              "PhoneService                                              [No, Yes]\n",
              "MultipleLines                           [No phone service, No, Yes]\n",
              "InternetService                              [DSL, Fiber optic, No]\n",
              "OnlineSecurity                       [No, Yes, No internet service]\n",
              "OnlineBackup                         [Yes, No, No internet service]\n",
              "DeviceProtection                     [No, Yes, No internet service]\n",
              "TechSupport                          [No, Yes, No internet service]\n",
              "StreamingTV                          [No, Yes, No internet service]\n",
              "StreamingMovies                      [No, Yes, No internet service]\n",
              "Contract                       [Month-to-month, One year, Two year]\n",
              "PaperlessBilling                                          [Yes, No]\n",
              "PaymentMethod     [Electronic check, Mailed check, Bank transfer...\n",
              "Churn                                                     [No, Yes]"
            ]
          },
          "metadata": {},
          "execution_count": 125
        }
      ]
    },
    {
      "cell_type": "markdown",
      "metadata": {
        "id": "fa64f69f"
      },
      "source": [
        "## Creating dummy variables.\n",
        "### Senior citizen is also categorical but it already has 0s and 1s as values."
      ],
      "id": "fa64f69f"
    },
    {
      "cell_type": "code",
      "metadata": {
        "id": "5f85e90b"
      },
      "source": [
        "dum_df = pd.get_dummies(df[cat_cols], drop_first=True)"
      ],
      "id": "5f85e90b",
      "execution_count": 126,
      "outputs": []
    },
    {
      "cell_type": "code",
      "metadata": {
        "id": "05f22f22"
      },
      "source": [
        "df = df.drop(cat_cols, axis=1)"
      ],
      "id": "05f22f22",
      "execution_count": 127,
      "outputs": []
    },
    {
      "cell_type": "code",
      "metadata": {
        "id": "c331fe79"
      },
      "source": [
        "df = pd.concat([df,dum_df], axis=1)"
      ],
      "id": "c331fe79",
      "execution_count": 128,
      "outputs": []
    },
    {
      "cell_type": "code",
      "metadata": {
        "id": "8ab96855",
        "colab": {
          "base_uri": "https://localhost:8080/"
        },
        "outputId": "ac4687ad-305f-4fe8-dd20-9c747a275fde"
      },
      "source": [
        "df.columns"
      ],
      "id": "8ab96855",
      "execution_count": 129,
      "outputs": [
        {
          "output_type": "execute_result",
          "data": {
            "text/plain": [
              "Index(['SeniorCitizen', 'tenure', 'MonthlyCharges', 'TotalCharges',\n",
              "       'gender_Male', 'Partner_Yes', 'Dependents_Yes', 'PhoneService_Yes',\n",
              "       'MultipleLines_No phone service', 'MultipleLines_Yes',\n",
              "       'InternetService_Fiber optic', 'InternetService_No',\n",
              "       'OnlineSecurity_No internet service', 'OnlineSecurity_Yes',\n",
              "       'OnlineBackup_No internet service', 'OnlineBackup_Yes',\n",
              "       'DeviceProtection_No internet service', 'DeviceProtection_Yes',\n",
              "       'TechSupport_No internet service', 'TechSupport_Yes',\n",
              "       'StreamingTV_No internet service', 'StreamingTV_Yes',\n",
              "       'StreamingMovies_No internet service', 'StreamingMovies_Yes',\n",
              "       'Contract_One year', 'Contract_Two year', 'PaperlessBilling_Yes',\n",
              "       'PaymentMethod_Credit card (automatic)',\n",
              "       'PaymentMethod_Electronic check', 'PaymentMethod_Mailed check',\n",
              "       'Churn_Yes'],\n",
              "      dtype='object')"
            ]
          },
          "metadata": {},
          "execution_count": 129
        }
      ]
    },
    {
      "cell_type": "markdown",
      "metadata": {
        "id": "0b4a8760"
      },
      "source": [
        "### Now that I have created dummy variables of the categorical columns of data frame. Lets check the correlation among these features."
      ],
      "id": "0b4a8760"
    },
    {
      "cell_type": "code",
      "metadata": {
        "id": "b5ac64a1",
        "colab": {
          "base_uri": "https://localhost:8080/"
        },
        "outputId": "8cacea74-8700-492a-e92c-5ecbf60c7bd6"
      },
      "source": [
        "list_of_columns = df.columns\n",
        "list_of_columns"
      ],
      "id": "b5ac64a1",
      "execution_count": 130,
      "outputs": [
        {
          "output_type": "execute_result",
          "data": {
            "text/plain": [
              "Index(['SeniorCitizen', 'tenure', 'MonthlyCharges', 'TotalCharges',\n",
              "       'gender_Male', 'Partner_Yes', 'Dependents_Yes', 'PhoneService_Yes',\n",
              "       'MultipleLines_No phone service', 'MultipleLines_Yes',\n",
              "       'InternetService_Fiber optic', 'InternetService_No',\n",
              "       'OnlineSecurity_No internet service', 'OnlineSecurity_Yes',\n",
              "       'OnlineBackup_No internet service', 'OnlineBackup_Yes',\n",
              "       'DeviceProtection_No internet service', 'DeviceProtection_Yes',\n",
              "       'TechSupport_No internet service', 'TechSupport_Yes',\n",
              "       'StreamingTV_No internet service', 'StreamingTV_Yes',\n",
              "       'StreamingMovies_No internet service', 'StreamingMovies_Yes',\n",
              "       'Contract_One year', 'Contract_Two year', 'PaperlessBilling_Yes',\n",
              "       'PaymentMethod_Credit card (automatic)',\n",
              "       'PaymentMethod_Electronic check', 'PaymentMethod_Mailed check',\n",
              "       'Churn_Yes'],\n",
              "      dtype='object')"
            ]
          },
          "metadata": {},
          "execution_count": 130
        }
      ]
    },
    {
      "cell_type": "code",
      "metadata": {
        "id": "4c228562",
        "colab": {
          "base_uri": "https://localhost:8080/"
        },
        "outputId": "5727922b-1e43-4a81-d8a3-b51c08c239dc"
      },
      "source": [
        "new_cat_cols = list_of_columns[3:]\n",
        "new_cat_cols"
      ],
      "id": "4c228562",
      "execution_count": 131,
      "outputs": [
        {
          "output_type": "execute_result",
          "data": {
            "text/plain": [
              "Index(['TotalCharges', 'gender_Male', 'Partner_Yes', 'Dependents_Yes',\n",
              "       'PhoneService_Yes', 'MultipleLines_No phone service',\n",
              "       'MultipleLines_Yes', 'InternetService_Fiber optic',\n",
              "       'InternetService_No', 'OnlineSecurity_No internet service',\n",
              "       'OnlineSecurity_Yes', 'OnlineBackup_No internet service',\n",
              "       'OnlineBackup_Yes', 'DeviceProtection_No internet service',\n",
              "       'DeviceProtection_Yes', 'TechSupport_No internet service',\n",
              "       'TechSupport_Yes', 'StreamingTV_No internet service', 'StreamingTV_Yes',\n",
              "       'StreamingMovies_No internet service', 'StreamingMovies_Yes',\n",
              "       'Contract_One year', 'Contract_Two year', 'PaperlessBilling_Yes',\n",
              "       'PaymentMethod_Credit card (automatic)',\n",
              "       'PaymentMethod_Electronic check', 'PaymentMethod_Mailed check',\n",
              "       'Churn_Yes'],\n",
              "      dtype='object')"
            ]
          },
          "metadata": {},
          "execution_count": 131
        }
      ]
    },
    {
      "cell_type": "code",
      "metadata": {
        "id": "0320547e",
        "colab": {
          "base_uri": "https://localhost:8080/"
        },
        "outputId": "7fe15152-75ac-4688-bdd8-a78dc2e274af"
      },
      "source": [
        "df_corr=df[new_cat_cols].corr()['Churn_Yes'].sort_values(ascending=False)\n",
        "corr_churn = df_corr[1:]\n",
        "corr_churn"
      ],
      "id": "0320547e",
      "execution_count": 132,
      "outputs": [
        {
          "output_type": "execute_result",
          "data": {
            "text/plain": [
              "InternetService_Fiber optic              0.307463\n",
              "PaymentMethod_Electronic check           0.301455\n",
              "PaperlessBilling_Yes                     0.191454\n",
              "StreamingTV_Yes                          0.063254\n",
              "StreamingMovies_Yes                      0.060860\n",
              "MultipleLines_Yes                        0.040033\n",
              "PhoneService_Yes                         0.011691\n",
              "gender_Male                             -0.008545\n",
              "MultipleLines_No phone service          -0.011691\n",
              "DeviceProtection_Yes                    -0.066193\n",
              "OnlineBackup_Yes                        -0.082307\n",
              "PaymentMethod_Mailed check              -0.090773\n",
              "PaymentMethod_Credit card (automatic)   -0.134687\n",
              "Partner_Yes                             -0.149982\n",
              "Dependents_Yes                          -0.163128\n",
              "TechSupport_Yes                         -0.164716\n",
              "OnlineSecurity_Yes                      -0.171270\n",
              "Contract_One year                       -0.178225\n",
              "TotalCharges                            -0.199484\n",
              "InternetService_No                      -0.227578\n",
              "OnlineSecurity_No internet service      -0.227578\n",
              "OnlineBackup_No internet service        -0.227578\n",
              "TechSupport_No internet service         -0.227578\n",
              "StreamingTV_No internet service         -0.227578\n",
              "StreamingMovies_No internet service     -0.227578\n",
              "DeviceProtection_No internet service    -0.227578\n",
              "Contract_Two year                       -0.301552\n",
              "Name: Churn_Yes, dtype: float64"
            ]
          },
          "metadata": {},
          "execution_count": 132
        }
      ]
    },
    {
      "cell_type": "code",
      "metadata": {
        "id": "0534bb65"
      },
      "source": [
        "col_names=corr_churn.index"
      ],
      "id": "0534bb65",
      "execution_count": 133,
      "outputs": []
    },
    {
      "cell_type": "code",
      "metadata": {
        "id": "895d5a83",
        "colab": {
          "base_uri": "https://localhost:8080/",
          "height": 958
        },
        "outputId": "089b8069-2527-45ea-eefe-c0675abdd181"
      },
      "source": [
        "plt.figure(figsize=(10,4),dpi=200)\n",
        "\n",
        "sns.barplot(x = corr_churn.index, y=corr_churn.values)\n",
        "plt.xticks(rotation=90)\n",
        "plt.title(\"Feature Correlation to Churn\");"
      ],
      "id": "895d5a83",
      "execution_count": 134,
      "outputs": [
        {
          "output_type": "display_data",
          "data": {
            "image/png": "[encoded data removed]",
            "text/plain": [
              "<Figure size 2000x800 with 1 Axes>"
            ]
          },
          "metadata": {
            "needs_background": "light"
          }
        }
      ]
    },
    {
      "cell_type": "markdown",
      "metadata": {
        "id": "57fb9310"
      },
      "source": [
        "## Setting up independent and dependent variables."
      ],
      "id": "57fb9310"
    },
    {
      "cell_type": "code",
      "metadata": {
        "id": "702ed07f"
      },
      "source": [
        "X = df.drop('Churn_Yes',axis=1)\n",
        "y = df['Churn_Yes']"
      ],
      "id": "702ed07f",
      "execution_count": 135,
      "outputs": []
    },
    {
      "cell_type": "markdown",
      "metadata": {
        "id": "b43519b2"
      },
      "source": [
        "## Splitting into Test|Train and standardizing."
      ],
      "id": "b43519b2"
    },
    {
      "cell_type": "code",
      "metadata": {
        "id": "04f0834c"
      },
      "source": [
        "from sklearn.model_selection import train_test_split\n",
        "from sklearn.preprocessing import StandardScaler"
      ],
      "id": "04f0834c",
      "execution_count": 136,
      "outputs": []
    },
    {
      "cell_type": "code",
      "metadata": {
        "id": "304d472b"
      },
      "source": [
        "X_train, X_test, y_train, y_test = train_test_split(X, y, test_size=0.25, random_state=12345)"
      ],
      "id": "304d472b",
      "execution_count": 137,
      "outputs": []
    },
    {
      "cell_type": "code",
      "metadata": {
        "id": "86eccab4",
        "colab": {
          "base_uri": "https://localhost:8080/"
        },
        "outputId": "569d4359-64f6-4150-ba3f-265ca56be786"
      },
      "source": [
        "scaler = StandardScaler()\n",
        "scaler.fit(X_train)"
      ],
      "id": "86eccab4",
      "execution_count": 138,
      "outputs": [
        {
          "output_type": "execute_result",
          "data": {
            "text/plain": [
              "StandardScaler()"
            ]
          },
          "metadata": {},
          "execution_count": 138
        }
      ]
    },
    {
      "cell_type": "code",
      "metadata": {
        "id": "2d91fc3e"
      },
      "source": [
        "scaled_X_test = scaler.transform(X_test)"
      ],
      "id": "2d91fc3e",
      "execution_count": 139,
      "outputs": []
    },
    {
      "cell_type": "markdown",
      "metadata": {
        "id": "0ca5cc2b"
      },
      "source": [
        "### Now lets try to fit diffent models on this data\n",
        "---\n",
        "## 1. Logistic Regression"
      ],
      "id": "0ca5cc2b"
    },
    {
      "cell_type": "code",
      "metadata": {
        "id": "36f40de6"
      },
      "source": [
        "from sklearn.linear_model import LogisticRegression"
      ],
      "id": "36f40de6",
      "execution_count": 140,
      "outputs": []
    },
    {
      "cell_type": "code",
      "metadata": {
        "id": "2f42f062"
      },
      "source": [
        "lr_model  = LogisticRegression()"
      ],
      "id": "2f42f062",
      "execution_count": 141,
      "outputs": []
    },
    {
      "cell_type": "code",
      "metadata": {
        "id": "d5d55a9b",
        "colab": {
          "base_uri": "https://localhost:8080/"
        },
        "outputId": "ca64d2d9-fbf0-4d54-b531-eae3687d51c2"
      },
      "source": [
        "lr_model.fit(scaled_X_train,y_train)"
      ],
      "id": "d5d55a9b",
      "execution_count": 142,
      "outputs": [
        {
          "output_type": "execute_result",
          "data": {
            "text/plain": [
              "LogisticRegression()"
            ]
          },
          "metadata": {},
          "execution_count": 142
        }
      ]
    },
    {
      "cell_type": "code",
      "metadata": {
        "id": "ac331998"
      },
      "source": [
        "lr_preds = lr_model.predict(scaled_X_test)"
      ],
      "id": "ac331998",
      "execution_count": 143,
      "outputs": []
    },
    {
      "cell_type": "markdown",
      "metadata": {
        "id": "7a691d18"
      },
      "source": [
        "### Evaluating the model"
      ],
      "id": "7a691d18"
    },
    {
      "cell_type": "code",
      "metadata": {
        "id": "f3692ac1"
      },
      "source": [
        "from sklearn.metrics import classification_report, plot_confusion_matrix, plot_roc_curve, accuracy_score"
      ],
      "id": "f3692ac1",
      "execution_count": 144,
      "outputs": []
    },
    {
      "cell_type": "code",
      "metadata": {
        "id": "2d37eb2f",
        "colab": {
          "base_uri": "https://localhost:8080/"
        },
        "outputId": "3cf89cd5-168b-4f3f-f80e-8dfd2a4ae499"
      },
      "source": [
        "print(classification_report(y_test,lr_preds))"
      ],
      "id": "2d37eb2f",
      "execution_count": 145,
      "outputs": [
        {
          "output_type": "stream",
          "name": "stdout",
          "text": [
            "              precision    recall  f1-score   support\n",
            "\n",
            "           0       0.85      0.90      0.87      1293\n",
            "           1       0.67      0.56      0.61       465\n",
            "\n",
            "    accuracy                           0.81      1758\n",
            "   macro avg       0.76      0.73      0.74      1758\n",
            "weighted avg       0.80      0.81      0.80      1758\n",
            "\n"
          ]
        }
      ]
    },
    {
      "cell_type": "code",
      "metadata": {
        "id": "91943f5d",
        "colab": {
          "base_uri": "https://localhost:8080/",
          "height": 334
        },
        "outputId": "7ff88e33-2847-4d63-d874-bd7f97891b6f"
      },
      "source": [
        "plot_roc_curve(lr_model,scaled_X_test,y_test);"
      ],
      "id": "91943f5d",
      "execution_count": 146,
      "outputs": [
        {
          "output_type": "stream",
          "name": "stderr",
          "text": [
            "/usr/local/lib/python3.7/dist-packages/sklearn/utils/deprecation.py:87: FutureWarning: Function plot_roc_curve is deprecated; Function `plot_roc_curve` is deprecated in 1.0 and will be removed in 1.2. Use one of the class methods: RocCurveDisplay.from_predictions or RocCurveDisplay.from_estimator.\n",
            "  warnings.warn(msg, category=FutureWarning)\n"
          ]
        },
        {
          "output_type": "display_data",
          "data": {
            "image/png": "[encoded data removed]",
            "text/plain": [
              "<Figure size 432x288 with 1 Axes>"
            ]
          },
          "metadata": {
            "needs_background": "light"
          }
        }
      ]
    },
    {
      "cell_type": "code",
      "metadata": {
        "id": "db37416e",
        "colab": {
          "base_uri": "https://localhost:8080/",
          "height": 334
        },
        "outputId": "db485a8f-7cd8-473c-ba44-cfb556e73bda"
      },
      "source": [
        "plot_confusion_matrix(lr_model,scaled_X_test,y_test);"
      ],
      "id": "db37416e",
      "execution_count": 147,
      "outputs": [
        {
          "output_type": "stream",
          "name": "stderr",
          "text": [
            "/usr/local/lib/python3.7/dist-packages/sklearn/utils/deprecation.py:87: FutureWarning: Function plot_confusion_matrix is deprecated; Function `plot_confusion_matrix` is deprecated in 1.0 and will be removed in 1.2. Use one of the class methods: ConfusionMatrixDisplay.from_predictions or ConfusionMatrixDisplay.from_estimator.\n",
            "  warnings.warn(msg, category=FutureWarning)\n"
          ]
        },
        {
          "output_type": "display_data",
          "data": {
            "image/png": "[encoded data removed]",
            "text/plain": [
              "<Figure size 432x288 with 2 Axes>"
            ]
          },
          "metadata": {
            "needs_background": "light"
          }
        }
      ]
    },
    {
      "cell_type": "markdown",
      "metadata": {
        "id": "f2629a35"
      },
      "source": [
        "## Simple Logistic regression has given us an accuracy score of 81%. Lets try out different models to see if we can get a perfromace better than this one.\n",
        "---\n",
        "### But first lets create a function that takes in a model fit the data onto it and then returns the classification report as this task will be repeated many times."
      ],
      "id": "f2629a35"
    },
    {
      "cell_type": "code",
      "metadata": {
        "id": "a471f5cd"
      },
      "source": [
        "def run_model(model,X_train,X_test,y_train,y_test):\n",
        "    model.fit(X_train,y_train)\n",
        "    preds = model.predict(X_test)\n",
        "    print(f'accuracy={accuracy_score(y_test,preds)}')\n",
        "    print(classification_report(y_test,preds))\n",
        "    plot_confusion_matrix(model,X_test,y_test);"
      ],
      "id": "a471f5cd",
      "execution_count": 148,
      "outputs": []
    },
    {
      "cell_type": "markdown",
      "metadata": {
        "id": "WDxj5yAaLhd7"
      },
      "source": [
        "### Support Vector Classifier"
      ],
      "id": "WDxj5yAaLhd7"
    },
    {
      "cell_type": "code",
      "metadata": {
        "id": "zGgjI8rvLfvM"
      },
      "source": [
        "from sklearn.svm import SVC"
      ],
      "id": "zGgjI8rvLfvM",
      "execution_count": 149,
      "outputs": []
    },
    {
      "cell_type": "code",
      "metadata": {
        "colab": {
          "base_uri": "https://localhost:8080/",
          "height": 611
        },
        "id": "Ht3vWzPZLfsA",
        "outputId": "1fbcba39-d52f-4cbc-ac3f-f604596dabb4"
      },
      "source": [
        "svc = SVC()\n",
        "run_model(svc, X_train, X_test, y_train, y_test)"
      ],
      "id": "Ht3vWzPZLfsA",
      "execution_count": 150,
      "outputs": [
        {
          "output_type": "stream",
          "name": "stdout",
          "text": [
            "accuracy=0.735494880546075\n",
            "              precision    recall  f1-score   support\n",
            "\n",
            "           0       0.74      1.00      0.85      1293\n",
            "           1       0.00      0.00      0.00       465\n",
            "\n",
            "    accuracy                           0.74      1758\n",
            "   macro avg       0.37      0.50      0.42      1758\n",
            "weighted avg       0.54      0.74      0.62      1758\n",
            "\n"
          ]
        },
        {
          "output_type": "stream",
          "name": "stderr",
          "text": [
            "/usr/local/lib/python3.7/dist-packages/sklearn/metrics/_classification.py:1308: UndefinedMetricWarning: Precision and F-score are ill-defined and being set to 0.0 in labels with no predicted samples. Use `zero_division` parameter to control this behavior.\n",
            "  _warn_prf(average, modifier, msg_start, len(result))\n",
            "/usr/local/lib/python3.7/dist-packages/sklearn/metrics/_classification.py:1308: UndefinedMetricWarning: Precision and F-score are ill-defined and being set to 0.0 in labels with no predicted samples. Use `zero_division` parameter to control this behavior.\n",
            "  _warn_prf(average, modifier, msg_start, len(result))\n",
            "/usr/local/lib/python3.7/dist-packages/sklearn/metrics/_classification.py:1308: UndefinedMetricWarning: Precision and F-score are ill-defined and being set to 0.0 in labels with no predicted samples. Use `zero_division` parameter to control this behavior.\n",
            "  _warn_prf(average, modifier, msg_start, len(result))\n",
            "/usr/local/lib/python3.7/dist-packages/sklearn/utils/deprecation.py:87: FutureWarning: Function plot_confusion_matrix is deprecated; Function `plot_confusion_matrix` is deprecated in 1.0 and will be removed in 1.2. Use one of the class methods: ConfusionMatrixDisplay.from_predictions or ConfusionMatrixDisplay.from_estimator.\n",
            "  warnings.warn(msg, category=FutureWarning)\n"
          ]
        },
        {
          "output_type": "display_data",
          "data": {
            "image/png": "[encoded data removed]",
            "text/plain": [
              "<Figure size 432x288 with 2 Axes>"
            ]
          },
          "metadata": {
            "needs_background": "light"
          }
        }
      ]
    },
    {
      "cell_type": "markdown",
      "metadata": {
        "id": "b1c09e3c"
      },
      "source": [
        "### SVC gave 74% accuracy. But this model categorized all values as 0(No_churn).\n",
        "## Lets now try knn for different values of K"
      ],
      "id": "b1c09e3c"
    },
    {
      "cell_type": "code",
      "metadata": {
        "id": "e1b2a0cc"
      },
      "source": [
        "from sklearn.neighbors import KNeighborsClassifier"
      ],
      "id": "e1b2a0cc",
      "execution_count": 151,
      "outputs": []
    },
    {
      "cell_type": "code",
      "metadata": {
        "id": "ee6105c3",
        "colab": {
          "base_uri": "https://localhost:8080/",
          "height": 1000
        },
        "outputId": "cd87bc5b-66e8-4f89-955c-91c0c145dfd0"
      },
      "source": [
        "for k in [1,10,15,25,35,50]:\n",
        "    knn = KNeighborsClassifier(n_neighbors=k)\n",
        "    print(f'K_values:{k}')\n",
        "    run_model(knn,scaled_X_train,scaled_X_test,y_train,y_test)\n",
        "    "
      ],
      "id": "ee6105c3",
      "execution_count": 152,
      "outputs": [
        {
          "output_type": "stream",
          "name": "stdout",
          "text": [
            "K_values:1\n",
            "accuracy=0.7104664391353811\n",
            "              precision    recall  f1-score   support\n",
            "\n",
            "           0       0.81      0.79      0.80      1293\n",
            "           1       0.46      0.48      0.47       465\n",
            "\n",
            "    accuracy                           0.71      1758\n",
            "   macro avg       0.63      0.64      0.63      1758\n",
            "weighted avg       0.72      0.71      0.71      1758\n",
            "\n"
          ]
        },
        {
          "output_type": "stream",
          "name": "stderr",
          "text": [
            "/usr/local/lib/python3.7/dist-packages/sklearn/utils/deprecation.py:87: FutureWarning: Function plot_confusion_matrix is deprecated; Function `plot_confusion_matrix` is deprecated in 1.0 and will be removed in 1.2. Use one of the class methods: ConfusionMatrixDisplay.from_predictions or ConfusionMatrixDisplay.from_estimator.\n",
            "  warnings.warn(msg, category=FutureWarning)\n"
          ]
        },
        {
          "output_type": "stream",
          "name": "stdout",
          "text": [
            "K_values:10\n",
            "accuracy=0.7753128555176336\n",
            "              precision    recall  f1-score   support\n",
            "\n",
            "           0       0.82      0.89      0.85      1293\n",
            "           1       0.60      0.45      0.52       465\n",
            "\n",
            "    accuracy                           0.78      1758\n",
            "   macro avg       0.71      0.67      0.69      1758\n",
            "weighted avg       0.76      0.78      0.76      1758\n",
            "\n"
          ]
        },
        {
          "output_type": "stream",
          "name": "stderr",
          "text": [
            "/usr/local/lib/python3.7/dist-packages/sklearn/utils/deprecation.py:87: FutureWarning: Function plot_confusion_matrix is deprecated; Function `plot_confusion_matrix` is deprecated in 1.0 and will be removed in 1.2. Use one of the class methods: ConfusionMatrixDisplay.from_predictions or ConfusionMatrixDisplay.from_estimator.\n",
            "  warnings.warn(msg, category=FutureWarning)\n"
          ]
        },
        {
          "output_type": "stream",
          "name": "stdout",
          "text": [
            "K_values:15\n",
            "accuracy=0.7736063708759955\n",
            "              precision    recall  f1-score   support\n",
            "\n",
            "           0       0.84      0.86      0.85      1293\n",
            "           1       0.58      0.53      0.55       465\n",
            "\n",
            "    accuracy                           0.77      1758\n",
            "   macro avg       0.71      0.70      0.70      1758\n",
            "weighted avg       0.77      0.77      0.77      1758\n",
            "\n"
          ]
        },
        {
          "output_type": "stream",
          "name": "stderr",
          "text": [
            "/usr/local/lib/python3.7/dist-packages/sklearn/utils/deprecation.py:87: FutureWarning: Function plot_confusion_matrix is deprecated; Function `plot_confusion_matrix` is deprecated in 1.0 and will be removed in 1.2. Use one of the class methods: ConfusionMatrixDisplay.from_predictions or ConfusionMatrixDisplay.from_estimator.\n",
            "  warnings.warn(msg, category=FutureWarning)\n"
          ]
        },
        {
          "output_type": "stream",
          "name": "stdout",
          "text": [
            "K_values:25\n",
            "accuracy=0.7895335608646189\n",
            "              precision    recall  f1-score   support\n",
            "\n",
            "           0       0.85      0.87      0.86      1293\n",
            "           1       0.61      0.57      0.59       465\n",
            "\n",
            "    accuracy                           0.79      1758\n",
            "   macro avg       0.73      0.72      0.72      1758\n",
            "weighted avg       0.78      0.79      0.79      1758\n",
            "\n"
          ]
        },
        {
          "output_type": "stream",
          "name": "stderr",
          "text": [
            "/usr/local/lib/python3.7/dist-packages/sklearn/utils/deprecation.py:87: FutureWarning: Function plot_confusion_matrix is deprecated; Function `plot_confusion_matrix` is deprecated in 1.0 and will be removed in 1.2. Use one of the class methods: ConfusionMatrixDisplay.from_predictions or ConfusionMatrixDisplay.from_estimator.\n",
            "  warnings.warn(msg, category=FutureWarning)\n"
          ]
        },
        {
          "output_type": "stream",
          "name": "stdout",
          "text": [
            "K_values:35\n",
            "accuracy=0.800910125142207\n",
            "              precision    recall  f1-score   support\n",
            "\n",
            "           0       0.86      0.88      0.87      1293\n",
            "           1       0.63      0.59      0.61       465\n",
            "\n",
            "    accuracy                           0.80      1758\n",
            "   macro avg       0.74      0.73      0.74      1758\n",
            "weighted avg       0.80      0.80      0.80      1758\n",
            "\n"
          ]
        },
        {
          "output_type": "stream",
          "name": "stderr",
          "text": [
            "/usr/local/lib/python3.7/dist-packages/sklearn/utils/deprecation.py:87: FutureWarning: Function plot_confusion_matrix is deprecated; Function `plot_confusion_matrix` is deprecated in 1.0 and will be removed in 1.2. Use one of the class methods: ConfusionMatrixDisplay.from_predictions or ConfusionMatrixDisplay.from_estimator.\n",
            "  warnings.warn(msg, category=FutureWarning)\n"
          ]
        },
        {
          "output_type": "stream",
          "name": "stdout",
          "text": [
            "K_values:50\n",
            "accuracy=0.800910125142207\n",
            "              precision    recall  f1-score   support\n",
            "\n",
            "           0       0.85      0.88      0.87      1293\n",
            "           1       0.63      0.58      0.61       465\n",
            "\n",
            "    accuracy                           0.80      1758\n",
            "   macro avg       0.74      0.73      0.74      1758\n",
            "weighted avg       0.80      0.80      0.80      1758\n",
            "\n"
          ]
        },
        {
          "output_type": "stream",
          "name": "stderr",
          "text": [
            "/usr/local/lib/python3.7/dist-packages/sklearn/utils/deprecation.py:87: FutureWarning: Function plot_confusion_matrix is deprecated; Function `plot_confusion_matrix` is deprecated in 1.0 and will be removed in 1.2. Use one of the class methods: ConfusionMatrixDisplay.from_predictions or ConfusionMatrixDisplay.from_estimator.\n",
            "  warnings.warn(msg, category=FutureWarning)\n"
          ]
        },
        {
          "output_type": "display_data",
          "data": {
            "image/png": "[encoded data removed]",
            "text/plain": [
              "<Figure size 432x288 with 2 Axes>"
            ]
          },
          "metadata": {
            "needs_background": "light"
          }
        },
        {
          "output_type": "display_data",
          "data": {
            "image/png": "[encoded data removed]",
            "text/plain": [
              "<Figure size 432x288 with 2 Axes>"
            ]
          },
          "metadata": {
            "needs_background": "light"
          }
        },
        {
          "output_type": "display_data",
          "data": {
            "image/png": "[encoded data removed]",
            "text/plain": [
              "<Figure size 432x288 with 2 Axes>"
            ]
          },
          "metadata": {
            "needs_background": "light"
          }
        },
        {
          "output_type": "display_data",
          "data": {
            "image/png": "[encoded data removed]",
            "text/plain": [
              "<Figure size 432x288 with 2 Axes>"
            ]
          },
          "metadata": {
            "needs_background": "light"
          }
        },
        {
          "output_type": "display_data",
          "data": {
            "image/png": "[encoded data removed]",
            "text/plain": [
              "<Figure size 432x288 with 2 Axes>"
            ]
          },
          "metadata": {
            "needs_background": "light"
          }
        },
        {
          "output_type": "display_data",
          "data": {
            "image/png": "[encoded data removed]",
            "text/plain": [
              "<Figure size 432x288 with 2 Axes>"
            ]
          },
          "metadata": {
            "needs_background": "light"
          }
        }
      ]
    },
    {
      "cell_type": "markdown",
      "metadata": {
        "id": "e47098d2"
      },
      "source": [
        "### Still the accuracy does not seem to go beyond 80%.\n",
        "---\n",
        "Lets try decision tree."
      ],
      "id": "e47098d2"
    },
    {
      "cell_type": "code",
      "metadata": {
        "id": "7f029a00"
      },
      "source": [
        "from sklearn.tree import DecisionTreeClassifier"
      ],
      "id": "7f029a00",
      "execution_count": 153,
      "outputs": []
    },
    {
      "cell_type": "code",
      "metadata": {
        "id": "e47cf4e0"
      },
      "source": [
        "tree = DecisionTreeClassifier()"
      ],
      "id": "e47cf4e0",
      "execution_count": 154,
      "outputs": []
    },
    {
      "cell_type": "code",
      "metadata": {
        "id": "acdb5537",
        "colab": {
          "base_uri": "https://localhost:8080/",
          "height": 507
        },
        "outputId": "402d508b-587d-454d-bf9c-ae2be32d17a5"
      },
      "source": [
        "run_model(tree,X_train,X_test,y_train,y_test)"
      ],
      "id": "acdb5537",
      "execution_count": 155,
      "outputs": [
        {
          "output_type": "stream",
          "name": "stdout",
          "text": [
            "accuracy=0.7275312855517634\n",
            "              precision    recall  f1-score   support\n",
            "\n",
            "           0       0.82      0.81      0.81      1293\n",
            "           1       0.49      0.51      0.50       465\n",
            "\n",
            "    accuracy                           0.73      1758\n",
            "   macro avg       0.65      0.66      0.66      1758\n",
            "weighted avg       0.73      0.73      0.73      1758\n",
            "\n"
          ]
        },
        {
          "output_type": "stream",
          "name": "stderr",
          "text": [
            "/usr/local/lib/python3.7/dist-packages/sklearn/utils/deprecation.py:87: FutureWarning: Function plot_confusion_matrix is deprecated; Function `plot_confusion_matrix` is deprecated in 1.0 and will be removed in 1.2. Use one of the class methods: ConfusionMatrixDisplay.from_predictions or ConfusionMatrixDisplay.from_estimator.\n",
            "  warnings.warn(msg, category=FutureWarning)\n"
          ]
        },
        {
          "output_type": "display_data",
          "data": {
            "image/png": "[encoded data removed]",
            "text/plain": [
              "<Figure size 432x288 with 2 Axes>"
            ]
          },
          "metadata": {
            "needs_background": "light"
          }
        }
      ]
    },
    {
      "cell_type": "code",
      "metadata": {
        "colab": {
          "base_uri": "https://localhost:8080/",
          "height": 990
        },
        "id": "S-d9itz2I8pE",
        "outputId": "02667389-8195-4ac4-d409-6e651a35233a"
      },
      "source": [
        "imp_feat = pd.DataFrame({'Feature':X.columns,'Importance':tree.feature_importances_}).sort_values('Importance',ascending = False)\n",
        "imp_feat"
      ],
      "id": "S-d9itz2I8pE",
      "execution_count": 163,
      "outputs": [
        {
          "output_type": "execute_result",
          "data": {
            "text/html": [
              "<div>\n",
              "<style scoped>\n",
              "    .dataframe tbody tr th:only-of-type {\n",
              "        vertical-align: middle;\n",
              "    }\n",
              "\n",
              "    .dataframe tbody tr th {\n",
              "        vertical-align: top;\n",
              "    }\n",
              "\n",
              "    .dataframe thead th {\n",
              "        text-align: right;\n",
              "    }\n",
              "</style>\n",
              "<table border=\"1\" class=\"dataframe\">\n",
              "  <thead>\n",
              "    <tr style=\"text-align: right;\">\n",
              "      <th></th>\n",
              "      <th>Feature</th>\n",
              "      <th>Importance</th>\n",
              "    </tr>\n",
              "  </thead>\n",
              "  <tbody>\n",
              "    <tr>\n",
              "      <th>3</th>\n",
              "      <td>TotalCharges</td>\n",
              "      <td>0.206403</td>\n",
              "    </tr>\n",
              "    <tr>\n",
              "      <th>1</th>\n",
              "      <td>tenure</td>\n",
              "      <td>0.204296</td>\n",
              "    </tr>\n",
              "    <tr>\n",
              "      <th>2</th>\n",
              "      <td>MonthlyCharges</td>\n",
              "      <td>0.195807</td>\n",
              "    </tr>\n",
              "    <tr>\n",
              "      <th>10</th>\n",
              "      <td>InternetService_Fiber optic</td>\n",
              "      <td>0.102826</td>\n",
              "    </tr>\n",
              "    <tr>\n",
              "      <th>26</th>\n",
              "      <td>PaperlessBilling_Yes</td>\n",
              "      <td>0.027083</td>\n",
              "    </tr>\n",
              "    <tr>\n",
              "      <th>4</th>\n",
              "      <td>gender_Male</td>\n",
              "      <td>0.026346</td>\n",
              "    </tr>\n",
              "    <tr>\n",
              "      <th>0</th>\n",
              "      <td>SeniorCitizen</td>\n",
              "      <td>0.023206</td>\n",
              "    </tr>\n",
              "    <tr>\n",
              "      <th>5</th>\n",
              "      <td>Partner_Yes</td>\n",
              "      <td>0.022315</td>\n",
              "    </tr>\n",
              "    <tr>\n",
              "      <th>15</th>\n",
              "      <td>OnlineBackup_Yes</td>\n",
              "      <td>0.021104</td>\n",
              "    </tr>\n",
              "    <tr>\n",
              "      <th>6</th>\n",
              "      <td>Dependents_Yes</td>\n",
              "      <td>0.019235</td>\n",
              "    </tr>\n",
              "    <tr>\n",
              "      <th>28</th>\n",
              "      <td>PaymentMethod_Electronic check</td>\n",
              "      <td>0.018460</td>\n",
              "    </tr>\n",
              "    <tr>\n",
              "      <th>9</th>\n",
              "      <td>MultipleLines_Yes</td>\n",
              "      <td>0.016510</td>\n",
              "    </tr>\n",
              "    <tr>\n",
              "      <th>24</th>\n",
              "      <td>Contract_One year</td>\n",
              "      <td>0.015205</td>\n",
              "    </tr>\n",
              "    <tr>\n",
              "      <th>13</th>\n",
              "      <td>OnlineSecurity_Yes</td>\n",
              "      <td>0.013909</td>\n",
              "    </tr>\n",
              "    <tr>\n",
              "      <th>14</th>\n",
              "      <td>OnlineBackup_No internet service</td>\n",
              "      <td>0.013321</td>\n",
              "    </tr>\n",
              "    <tr>\n",
              "      <th>17</th>\n",
              "      <td>DeviceProtection_Yes</td>\n",
              "      <td>0.013210</td>\n",
              "    </tr>\n",
              "    <tr>\n",
              "      <th>27</th>\n",
              "      <td>PaymentMethod_Credit card (automatic)</td>\n",
              "      <td>0.012072</td>\n",
              "    </tr>\n",
              "    <tr>\n",
              "      <th>19</th>\n",
              "      <td>TechSupport_Yes</td>\n",
              "      <td>0.011106</td>\n",
              "    </tr>\n",
              "    <tr>\n",
              "      <th>29</th>\n",
              "      <td>PaymentMethod_Mailed check</td>\n",
              "      <td>0.009156</td>\n",
              "    </tr>\n",
              "    <tr>\n",
              "      <th>25</th>\n",
              "      <td>Contract_Two year</td>\n",
              "      <td>0.009111</td>\n",
              "    </tr>\n",
              "    <tr>\n",
              "      <th>21</th>\n",
              "      <td>StreamingTV_Yes</td>\n",
              "      <td>0.008528</td>\n",
              "    </tr>\n",
              "    <tr>\n",
              "      <th>23</th>\n",
              "      <td>StreamingMovies_Yes</td>\n",
              "      <td>0.005013</td>\n",
              "    </tr>\n",
              "    <tr>\n",
              "      <th>7</th>\n",
              "      <td>PhoneService_Yes</td>\n",
              "      <td>0.003672</td>\n",
              "    </tr>\n",
              "    <tr>\n",
              "      <th>8</th>\n",
              "      <td>MultipleLines_No phone service</td>\n",
              "      <td>0.002108</td>\n",
              "    </tr>\n",
              "    <tr>\n",
              "      <th>18</th>\n",
              "      <td>TechSupport_No internet service</td>\n",
              "      <td>0.000000</td>\n",
              "    </tr>\n",
              "    <tr>\n",
              "      <th>20</th>\n",
              "      <td>StreamingTV_No internet service</td>\n",
              "      <td>0.000000</td>\n",
              "    </tr>\n",
              "    <tr>\n",
              "      <th>22</th>\n",
              "      <td>StreamingMovies_No internet service</td>\n",
              "      <td>0.000000</td>\n",
              "    </tr>\n",
              "    <tr>\n",
              "      <th>16</th>\n",
              "      <td>DeviceProtection_No internet service</td>\n",
              "      <td>0.000000</td>\n",
              "    </tr>\n",
              "    <tr>\n",
              "      <th>12</th>\n",
              "      <td>OnlineSecurity_No internet service</td>\n",
              "      <td>0.000000</td>\n",
              "    </tr>\n",
              "    <tr>\n",
              "      <th>11</th>\n",
              "      <td>InternetService_No</td>\n",
              "      <td>0.000000</td>\n",
              "    </tr>\n",
              "  </tbody>\n",
              "</table>\n",
              "</div>"
            ],
            "text/plain": [
              "                                  Feature  Importance\n",
              "3                            TotalCharges    0.206403\n",
              "1                                  tenure    0.204296\n",
              "2                          MonthlyCharges    0.195807\n",
              "10            InternetService_Fiber optic    0.102826\n",
              "26                   PaperlessBilling_Yes    0.027083\n",
              "4                             gender_Male    0.026346\n",
              "0                           SeniorCitizen    0.023206\n",
              "5                             Partner_Yes    0.022315\n",
              "15                       OnlineBackup_Yes    0.021104\n",
              "6                          Dependents_Yes    0.019235\n",
              "28         PaymentMethod_Electronic check    0.018460\n",
              "9                       MultipleLines_Yes    0.016510\n",
              "24                      Contract_One year    0.015205\n",
              "13                     OnlineSecurity_Yes    0.013909\n",
              "14       OnlineBackup_No internet service    0.013321\n",
              "17                   DeviceProtection_Yes    0.013210\n",
              "27  PaymentMethod_Credit card (automatic)    0.012072\n",
              "19                        TechSupport_Yes    0.011106\n",
              "29             PaymentMethod_Mailed check    0.009156\n",
              "25                      Contract_Two year    0.009111\n",
              "21                        StreamingTV_Yes    0.008528\n",
              "23                    StreamingMovies_Yes    0.005013\n",
              "7                        PhoneService_Yes    0.003672\n",
              "8          MultipleLines_No phone service    0.002108\n",
              "18        TechSupport_No internet service    0.000000\n",
              "20        StreamingTV_No internet service    0.000000\n",
              "22    StreamingMovies_No internet service    0.000000\n",
              "16   DeviceProtection_No internet service    0.000000\n",
              "12     OnlineSecurity_No internet service    0.000000\n",
              "11                     InternetService_No    0.000000"
            ]
          },
          "metadata": {},
          "execution_count": 163
        }
      ]
    },
    {
      "cell_type": "code",
      "metadata": {
        "colab": {
          "base_uri": "https://localhost:8080/",
          "height": 832
        },
        "id": "Wwz4G0jrGvEX",
        "outputId": "7972fa2f-f630-4385-fdec-52e7ad025b6e"
      },
      "source": [
        "plt.figure(figsize=(10,4),dpi=200)\n",
        "y=tree.feature_importances_\n",
        "x = X.columns\n",
        "tree_imp_feat = pd.DataFrame(y,x)\n",
        "tree_imp_feat.columns = ['Feature_importances']\n",
        "tree_imp_feat = tree_imp_feat.sort_values('Feature_importances', ascending=False).head(15)\n",
        "sns.barplot(y=tree_imp_feat['Feature_importances'], x=tree_imp_feat.index)\n",
        "plt.xticks(rotation=90);"
      ],
      "id": "Wwz4G0jrGvEX",
      "execution_count": 164,
      "outputs": [
        {
          "output_type": "display_data",
          "data": {
            "image/png": "[encoded data removed]",
            "text/plain": [
              "<Figure size 2000x800 with 1 Axes>"
            ]
          },
          "metadata": {
            "needs_background": "light"
          }
        }
      ]
    },
    {
      "cell_type": "markdown",
      "metadata": {
        "id": "138fb0ef"
      },
      "source": [
        "accuracy is 73%. \n",
        "Lets try RandomForest with GridSearchCV\n",
        "## Random Forest"
      ],
      "id": "138fb0ef"
    },
    {
      "cell_type": "code",
      "metadata": {
        "id": "b6db0782"
      },
      "source": [
        "from sklearn.ensemble import RandomForestClassifier\n",
        "from sklearn.model_selection import GridSearchCV"
      ],
      "id": "b6db0782",
      "execution_count": 165,
      "outputs": []
    },
    {
      "cell_type": "code",
      "metadata": {
        "id": "049aa814"
      },
      "source": [
        "forest = RandomForestClassifier()"
      ],
      "id": "049aa814",
      "execution_count": 166,
      "outputs": []
    },
    {
      "cell_type": "code",
      "metadata": {
        "id": "ccd566a0"
      },
      "source": [
        "param_grid = {'n_estimators':[25,35,60,80,110,140,160], 'max_depth':[2,3,5,7,9,11], 'criterion':['gini','entropy']}"
      ],
      "id": "ccd566a0",
      "execution_count": 167,
      "outputs": []
    },
    {
      "cell_type": "code",
      "metadata": {
        "id": "cea69657"
      },
      "source": [
        "grid_rf = GridSearchCV(forest,param_grid)"
      ],
      "id": "cea69657",
      "execution_count": 168,
      "outputs": []
    },
    {
      "cell_type": "code",
      "source": [
        "run_model(forest,X_train,X_test,y_train,y_test)"
      ],
      "metadata": {
        "colab": {
          "base_uri": "https://localhost:8080/",
          "height": 507
        },
        "id": "X44aPiM1mK7p",
        "outputId": "9bd33c9f-52e7-422c-e96d-00cb13b6393e"
      },
      "id": "X44aPiM1mK7p",
      "execution_count": 180,
      "outputs": [
        {
          "output_type": "stream",
          "name": "stdout",
          "text": [
            "accuracy=0.7986348122866894\n",
            "              precision    recall  f1-score   support\n",
            "\n",
            "           0       0.84      0.90      0.87      1293\n",
            "           1       0.65      0.51      0.57       465\n",
            "\n",
            "    accuracy                           0.80      1758\n",
            "   macro avg       0.74      0.71      0.72      1758\n",
            "weighted avg       0.79      0.80      0.79      1758\n",
            "\n"
          ]
        },
        {
          "output_type": "stream",
          "name": "stderr",
          "text": [
            "/usr/local/lib/python3.7/dist-packages/sklearn/utils/deprecation.py:87: FutureWarning: Function plot_confusion_matrix is deprecated; Function `plot_confusion_matrix` is deprecated in 1.0 and will be removed in 1.2. Use one of the class methods: ConfusionMatrixDisplay.from_predictions or ConfusionMatrixDisplay.from_estimator.\n",
            "  warnings.warn(msg, category=FutureWarning)\n"
          ]
        },
        {
          "output_type": "display_data",
          "data": {
            "image/png": "[encoded data removed]",
            "text/plain": [
              "<Figure size 432x288 with 2 Axes>"
            ]
          },
          "metadata": {
            "needs_background": "light"
          }
        }
      ]
    },
    {
      "cell_type": "markdown",
      "source": [
        "### First lets try Random Forest Classifier without GridSearch and then with grid search."
      ],
      "metadata": {
        "id": "1sBtgocpmgT6"
      },
      "id": "1sBtgocpmgT6"
    },
    {
      "cell_type": "code",
      "metadata": {
        "id": "f0f69abe",
        "colab": {
          "base_uri": "https://localhost:8080/",
          "height": 507
        },
        "outputId": "1586f08a-2324-42c0-9b8e-8780068a07da"
      },
      "source": [
        "run_model(grid_rf,X_train,X_test,y_train,y_test)"
      ],
      "id": "f0f69abe",
      "execution_count": 169,
      "outputs": [
        {
          "output_type": "stream",
          "name": "stdout",
          "text": [
            "accuracy=0.8094425483503982\n",
            "              precision    recall  f1-score   support\n",
            "\n",
            "           0       0.84      0.92      0.88      1293\n",
            "           1       0.69      0.50      0.58       465\n",
            "\n",
            "    accuracy                           0.81      1758\n",
            "   macro avg       0.76      0.71      0.73      1758\n",
            "weighted avg       0.80      0.81      0.80      1758\n",
            "\n"
          ]
        },
        {
          "output_type": "stream",
          "name": "stderr",
          "text": [
            "/usr/local/lib/python3.7/dist-packages/sklearn/utils/deprecation.py:87: FutureWarning: Function plot_confusion_matrix is deprecated; Function `plot_confusion_matrix` is deprecated in 1.0 and will be removed in 1.2. Use one of the class methods: ConfusionMatrixDisplay.from_predictions or ConfusionMatrixDisplay.from_estimator.\n",
            "  warnings.warn(msg, category=FutureWarning)\n"
          ]
        },
        {
          "output_type": "display_data",
          "data": {
            "image/png": "[encoded data removed]",
            "text/plain": [
              "<Figure size 432x288 with 2 Axes>"
            ]
          },
          "metadata": {
            "needs_background": "light"
          }
        }
      ]
    },
    {
      "cell_type": "code",
      "metadata": {
        "id": "768f8a8f",
        "colab": {
          "base_uri": "https://localhost:8080/"
        },
        "outputId": "26928a82-8c71-43c9-d635-cde8884ea7d5"
      },
      "source": [
        "grid_rf.best_params_"
      ],
      "id": "768f8a8f",
      "execution_count": 170,
      "outputs": [
        {
          "output_type": "execute_result",
          "data": {
            "text/plain": [
              "{'criterion': 'gini', 'max_depth': 9, 'n_estimators': 60}"
            ]
          },
          "metadata": {},
          "execution_count": 170
        }
      ]
    },
    {
      "cell_type": "markdown",
      "metadata": {
        "id": "iWGxfoTd56J4"
      },
      "source": [
        "Accuracy is slightly better in case of GridSearchCV and it's is better than Decision tree. Now lets try Adaboosting."
      ],
      "id": "iWGxfoTd56J4"
    },
    {
      "cell_type": "code",
      "metadata": {
        "id": "DvGm5tWE6MhI"
      },
      "source": [
        "from sklearn.ensemble import AdaBoostClassifier"
      ],
      "id": "DvGm5tWE6MhI",
      "execution_count": 171,
      "outputs": []
    },
    {
      "cell_type": "code",
      "metadata": {
        "id": "kBTWdrPA6aZB"
      },
      "source": [
        "ada_boost = AdaBoostClassifier()"
      ],
      "id": "kBTWdrPA6aZB",
      "execution_count": 172,
      "outputs": []
    },
    {
      "cell_type": "code",
      "metadata": {
        "colab": {
          "base_uri": "https://localhost:8080/",
          "height": 507
        },
        "id": "3rzXkUE_75dR",
        "outputId": "83c7f114-619b-4e29-aa57-00ff9986e183"
      },
      "source": [
        "run_model(ada_boost, X_train, X_test, y_train, y_test)"
      ],
      "id": "3rzXkUE_75dR",
      "execution_count": 173,
      "outputs": [
        {
          "output_type": "stream",
          "name": "stdout",
          "text": [
            "accuracy=0.8088737201365188\n",
            "              precision    recall  f1-score   support\n",
            "\n",
            "           0       0.85      0.90      0.87      1293\n",
            "           1       0.67      0.54      0.60       465\n",
            "\n",
            "    accuracy                           0.81      1758\n",
            "   macro avg       0.76      0.72      0.74      1758\n",
            "weighted avg       0.80      0.81      0.80      1758\n",
            "\n"
          ]
        },
        {
          "output_type": "stream",
          "name": "stderr",
          "text": [
            "/usr/local/lib/python3.7/dist-packages/sklearn/utils/deprecation.py:87: FutureWarning: Function plot_confusion_matrix is deprecated; Function `plot_confusion_matrix` is deprecated in 1.0 and will be removed in 1.2. Use one of the class methods: ConfusionMatrixDisplay.from_predictions or ConfusionMatrixDisplay.from_estimator.\n",
            "  warnings.warn(msg, category=FutureWarning)\n"
          ]
        },
        {
          "output_type": "display_data",
          "data": {
            "image/png": "[encoded data removed]",
            "text/plain": [
              "<Figure size 432x288 with 2 Axes>"
            ]
          },
          "metadata": {
            "needs_background": "light"
          }
        }
      ]
    },
    {
      "cell_type": "code",
      "metadata": {
        "id": "oqj4voVZ8JE1"
      },
      "source": [
        "from sklearn.model_selection import GridSearchCV"
      ],
      "id": "oqj4voVZ8JE1",
      "execution_count": 174,
      "outputs": []
    },
    {
      "cell_type": "code",
      "metadata": {
        "id": "0lpQP6d58Zpg"
      },
      "source": [
        "param_grid = {'n_estimators':[25,35,75,130,170,210], 'learning_rate':[0.1,0.2,0.5,1.0]}\n",
        "grid = GridSearchCV(ada_boost, param_grid)"
      ],
      "id": "0lpQP6d58Zpg",
      "execution_count": 175,
      "outputs": []
    },
    {
      "cell_type": "code",
      "metadata": {
        "colab": {
          "base_uri": "https://localhost:8080/",
          "height": 507
        },
        "id": "BV2FYBCV9cFO",
        "outputId": "6b6549e4-fba0-4d5c-e43f-17befeb9d425"
      },
      "source": [
        "run_model(grid, X_train, X_test, y_train, y_test)\n"
      ],
      "id": "BV2FYBCV9cFO",
      "execution_count": 176,
      "outputs": [
        {
          "output_type": "stream",
          "name": "stdout",
          "text": [
            "accuracy=0.8048919226393629\n",
            "              precision    recall  f1-score   support\n",
            "\n",
            "           0       0.84      0.91      0.87      1293\n",
            "           1       0.67      0.51      0.58       465\n",
            "\n",
            "    accuracy                           0.80      1758\n",
            "   macro avg       0.76      0.71      0.73      1758\n",
            "weighted avg       0.79      0.80      0.80      1758\n",
            "\n"
          ]
        },
        {
          "output_type": "stream",
          "name": "stderr",
          "text": [
            "/usr/local/lib/python3.7/dist-packages/sklearn/utils/deprecation.py:87: FutureWarning: Function plot_confusion_matrix is deprecated; Function `plot_confusion_matrix` is deprecated in 1.0 and will be removed in 1.2. Use one of the class methods: ConfusionMatrixDisplay.from_predictions or ConfusionMatrixDisplay.from_estimator.\n",
            "  warnings.warn(msg, category=FutureWarning)\n"
          ]
        },
        {
          "output_type": "display_data",
          "data": {
            "image/png": "[encoded data removed]",
            "text/plain": [
              "<Figure size 432x288 with 2 Axes>"
            ]
          },
          "metadata": {
            "needs_background": "light"
          }
        }
      ]
    },
    {
      "cell_type": "code",
      "metadata": {
        "colab": {
          "base_uri": "https://localhost:8080/"
        },
        "id": "Wi7ZUBsg9iml",
        "outputId": "a72c6e55-93db-487d-b762-b7227877f0e1"
      },
      "source": [
        "grid.best_params_"
      ],
      "id": "Wi7ZUBsg9iml",
      "execution_count": 177,
      "outputs": [
        {
          "output_type": "execute_result",
          "data": {
            "text/plain": [
              "{'learning_rate': 0.2, 'n_estimators': 170}"
            ]
          },
          "metadata": {},
          "execution_count": 177
        }
      ]
    },
    {
      "cell_type": "markdown",
      "metadata": {
        "id": "d670YQ77KvrC"
      },
      "source": [
        "## Finally trying gradient boosting"
      ],
      "id": "d670YQ77KvrC"
    },
    {
      "cell_type": "code",
      "metadata": {
        "id": "pyA99UONGoOJ"
      },
      "source": [
        "from sklearn.ensemble import GradientBoostingClassifier"
      ],
      "id": "pyA99UONGoOJ",
      "execution_count": 178,
      "outputs": []
    },
    {
      "cell_type": "code",
      "metadata": {
        "colab": {
          "base_uri": "https://localhost:8080/",
          "height": 507
        },
        "id": "QViX08pHK5sq",
        "outputId": "6d0dbc7f-d2cb-426d-c432-6f9a35b0aca2"
      },
      "source": [
        "g_boost = GradientBoostingClassifier()\n",
        "run_model(g_boost,X_train, X_test, y_train, y_test)"
      ],
      "id": "QViX08pHK5sq",
      "execution_count": 179,
      "outputs": [
        {
          "output_type": "stream",
          "name": "stdout",
          "text": [
            "accuracy=0.8111490329920364\n",
            "              precision    recall  f1-score   support\n",
            "\n",
            "           0       0.84      0.91      0.88      1293\n",
            "           1       0.68      0.53      0.60       465\n",
            "\n",
            "    accuracy                           0.81      1758\n",
            "   macro avg       0.76      0.72      0.74      1758\n",
            "weighted avg       0.80      0.81      0.80      1758\n",
            "\n"
          ]
        },
        {
          "output_type": "stream",
          "name": "stderr",
          "text": [
            "/usr/local/lib/python3.7/dist-packages/sklearn/utils/deprecation.py:87: FutureWarning: Function plot_confusion_matrix is deprecated; Function `plot_confusion_matrix` is deprecated in 1.0 and will be removed in 1.2. Use one of the class methods: ConfusionMatrixDisplay.from_predictions or ConfusionMatrixDisplay.from_estimator.\n",
            "  warnings.warn(msg, category=FutureWarning)\n"
          ]
        },
        {
          "output_type": "display_data",
          "data": {
            "image/png": "[encoded data removed]",
            "text/plain": [
              "<Figure size 432x288 with 2 Axes>"
            ]
          },
          "metadata": {
            "needs_background": "light"
          }
        }
      ]
    },
    {
      "cell_type": "markdown",
      "metadata": {
        "id": "9AsGs_dDRX7e"
      },
      "source": [
        "## Conclusion:Gradient boosting and Logistic regression seem to give best result but not by huge margin."
      ],
      "id": "9AsGs_dDRX7e"
    }
  ]
}