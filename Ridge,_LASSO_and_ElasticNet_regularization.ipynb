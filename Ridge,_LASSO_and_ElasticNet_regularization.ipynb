{
  "nbformat": 4,
  "nbformat_minor": 5,
  "metadata": {
    "kernelspec": {
      "display_name": "Python 3",
      "language": "python",
      "name": "python3"
    },
    "language_info": {
      "codemirror_mode": {
        "name": "ipython",
        "version": 3
      },
      "file_extension": ".py",
      "mimetype": "text/x-python",
      "name": "python",
      "nbconvert_exporter": "python",
      "pygments_lexer": "ipython3",
      "version": "3.8.8"
    },
    "colab": {
      "name": "Ridge, Lasso and elastic regularization.ipynb",
      "provenance": []
    }
  },
  "cells": [
    {
      "cell_type": "markdown",
      "metadata": {
        "id": "8777ca05"
      },
      "source": [
        "# Regularization with SciKit-Learn\n",
        "\n",
        "Previously we created a new polynomial feature set and then applied our standard linear regression on it, but we can be smarter about model choice and utilize regularization.\n",
        "\n",
        "Regularization attempts to minimize the RSS (residual sum of squares) *and* a penalty factor. This penalty factor will penalize models that have coefficients that are too large. Some methods of regularization will actually cause non useful features to have a coefficient of zero, in which case the model does not consider the feature.\n",
        "\n",
        "Let's explore two methods of regularization, Ridge Regression and Lasso. We'll combine these with the polynomial feature set (it wouldn't be as effective to perform regularization of a model on such a small original feature set of the original X)."
      ],
      "id": "8777ca05"
    },
    {
      "cell_type": "code",
      "metadata": {
        "id": "a232336a"
      },
      "source": [
        "import numpy as np\n",
        "import pandas as pd\n",
        "import matplotlib.pyplot as plt\n",
        "import seaborn as sns"
      ],
      "id": "a232336a",
      "execution_count": 53,
      "outputs": []
    },
    {
      "cell_type": "code",
      "metadata": {
        "colab": {
          "base_uri": "https://localhost:8080/"
        },
        "id": "9j-Ofmm6SSdv",
        "outputId": "23ebee56-977e-4858-8b01-531fd49535ef"
      },
      "source": [
        "from google.colab import drive\n",
        "drive.mount('/content/drive')"
      ],
      "id": "9j-Ofmm6SSdv",
      "execution_count": 54,
      "outputs": [
        {
          "output_type": "stream",
          "name": "stdout",
          "text": [
            "Drive already mounted at /content/drive; to attempt to forcibly remount, call drive.mount(\"/content/drive\", force_remount=True).\n"
          ]
        }
      ]
    },
    {
      "cell_type": "code",
      "metadata": {
        "id": "9d0e7d18"
      },
      "source": [
        "with open('/content/drive/MyDrive/UNZIP_FOR_NOTEBOOKS_FINAL/08-Linear-Regression-Models/Advertising.csv') as f:\n",
        "  df = pd.read_csv(f)\n",
        "#df = pd.read_csv(\"Advertising.csv\")\n",
        "X = df.drop('sales',axis=1)\n",
        "y = df['sales']"
      ],
      "id": "9d0e7d18",
      "execution_count": 55,
      "outputs": []
    },
    {
      "cell_type": "markdown",
      "metadata": {
        "id": "1c0d6c03"
      },
      "source": [
        "### Converting original feature dataset(X) to polynomial feature dataset."
      ],
      "id": "1c0d6c03"
    },
    {
      "cell_type": "code",
      "metadata": {
        "id": "39c9f26a"
      },
      "source": [
        "from sklearn.preprocessing import PolynomialFeatures, StandardScaler\n",
        "from sklearn.model_selection import train_test_split\n",
        "from sklearn.linear_model import RidgeCV,Ridge     #Ridge model with Cross validation"
      ],
      "id": "39c9f26a",
      "execution_count": 56,
      "outputs": []
    },
    {
      "cell_type": "code",
      "metadata": {
        "id": "149bd7bd"
      },
      "source": [
        "from sklearn.metrics import mean_squared_error,mean_absolute_error"
      ],
      "id": "149bd7bd",
      "execution_count": 57,
      "outputs": []
    },
    {
      "cell_type": "code",
      "metadata": {
        "id": "39704823"
      },
      "source": [
        "poly_features = PolynomialFeatures(degree=3,include_bias=False)"
      ],
      "id": "39704823",
      "execution_count": 58,
      "outputs": []
    },
    {
      "cell_type": "code",
      "metadata": {
        "id": "d3b36e01"
      },
      "source": [
        "X1 = poly_features.fit_transform(X)"
      ],
      "id": "d3b36e01",
      "execution_count": 59,
      "outputs": []
    },
    {
      "cell_type": "code",
      "metadata": {
        "id": "7d7d4389"
      },
      "source": [
        "X_train, X_test, y_train, y_test = train_test_split(X1, y, test_size=0.30, random_state=42)"
      ],
      "id": "7d7d4389",
      "execution_count": 60,
      "outputs": []
    },
    {
      "cell_type": "code",
      "metadata": {
        "id": "_uuoned9XMU2"
      },
      "source": [
        "scaler = StandardScaler()   # scaling the features"
      ],
      "id": "_uuoned9XMU2",
      "execution_count": 61,
      "outputs": []
    },
    {
      "cell_type": "code",
      "metadata": {
        "id": "K5loHO9BXSSK"
      },
      "source": [
        "scaler.fit(X_train)\n",
        "X_train = scaler.transform(X_train)\n",
        "X_test = scaler.transform(X_test)"
      ],
      "id": "K5loHO9BXSSK",
      "execution_count": 62,
      "outputs": []
    },
    {
      "cell_type": "markdown",
      "metadata": {
        "id": "5c1a5401"
      },
      "source": [
        "### First lets perform Ridge Regression by providing an alpha."
      ],
      "id": "5c1a5401"
    },
    {
      "cell_type": "code",
      "metadata": {
        "id": "cbd5a3a1"
      },
      "source": [
        "ridge = Ridge(alpha=10)"
      ],
      "id": "cbd5a3a1",
      "execution_count": 63,
      "outputs": []
    },
    {
      "cell_type": "code",
      "metadata": {
        "id": "8e85a98b"
      },
      "source": [
        "ridge.fit(X_train,y_train)\n",
        "ridge_pred = ridge.predict(X_test)"
      ],
      "id": "8e85a98b",
      "execution_count": 64,
      "outputs": []
    },
    {
      "cell_type": "code",
      "metadata": {
        "id": "f3693212"
      },
      "source": [
        "ridge_MAE = mean_absolute_error(y_test,ridge_pred)\n",
        "ridge_MSE = mean_squared_error(y_test,ridge_pred)\n",
        "ridge_RMSE = np.sqrt(ridge_MSE)"
      ],
      "id": "f3693212",
      "execution_count": 65,
      "outputs": []
    },
    {
      "cell_type": "code",
      "metadata": {
        "colab": {
          "base_uri": "https://localhost:8080/"
        },
        "id": "494606ba",
        "outputId": "2759761c-e0d9-4868-9d06-b01277fb7aa3"
      },
      "source": [
        "ridge_result = {'MAE': ridge_MAE,'MSE':ridge_MSE,'RMSE':ridge_RMSE}\n",
        "ridge_result"
      ],
      "id": "494606ba",
      "execution_count": 66,
      "outputs": [
        {
          "output_type": "execute_result",
          "data": {
            "text/plain": [
              "{'MAE': 0.6296591346758612,\n",
              " 'MSE': 0.7950089683107221,\n",
              " 'RMSE': 0.8916327541710892}"
            ]
          },
          "metadata": {},
          "execution_count": 66
        }
      ]
    },
    {
      "cell_type": "markdown",
      "metadata": {
        "id": "82188182"
      },
      "source": [
        "Lets perform RidgeCV:Choosing an alpha value with Cross-Validation"
      ],
      "id": "82188182"
    },
    {
      "cell_type": "code",
      "metadata": {
        "colab": {
          "base_uri": "https://localhost:8080/"
        },
        "id": "b9a9995b",
        "outputId": "9a50cb76-c5e6-42ac-ddd5-2b1c46d4aedb"
      },
      "source": [
        "ridgecv = RidgeCV(alphas=(5, 10, 20),scoring='neg_mean_squared_error')\n",
        "ridgecv.fit(X_train,y_train)\n",
        "\n",
        "# Negative RMSE so all metrics follow convention \"Higher is better\"\n",
        "# See all options: sklearn.metrics.SCORERS.keys()"
      ],
      "id": "b9a9995b",
      "execution_count": 67,
      "outputs": [
        {
          "output_type": "execute_result",
          "data": {
            "text/plain": [
              "RidgeCV(alphas=array([ 5, 10, 20]), scoring='neg_mean_squared_error')"
            ]
          },
          "metadata": {},
          "execution_count": 67
        }
      ]
    },
    {
      "cell_type": "code",
      "metadata": {
        "colab": {
          "base_uri": "https://localhost:8080/"
        },
        "id": "66e1b7ad",
        "outputId": "35bb7309-0b30-4636-b400-b95ff96f6531"
      },
      "source": [
        "ridgecv.alpha_"
      ],
      "id": "66e1b7ad",
      "execution_count": 68,
      "outputs": [
        {
          "output_type": "execute_result",
          "data": {
            "text/plain": [
              "5"
            ]
          },
          "metadata": {},
          "execution_count": 68
        }
      ]
    },
    {
      "cell_type": "code",
      "metadata": {
        "id": "edb0b85c"
      },
      "source": [
        "ridgecv_pred = ridgecv.predict(X_test)"
      ],
      "id": "edb0b85c",
      "execution_count": 69,
      "outputs": []
    },
    {
      "cell_type": "code",
      "metadata": {
        "colab": {
          "base_uri": "https://localhost:8080/"
        },
        "id": "b86625bd",
        "outputId": "8fc72dcc-8595-4f9e-95b1-98b11ac022bc"
      },
      "source": [
        "ridgecv_MAE = mean_absolute_error(y_test,ridgecv_pred)\n",
        "ridgecv_MSE = mean_squared_error(y_test,ridgecv_pred)\n",
        "ridgecv_RMSE = np.sqrt(ridgecv_MSE)\n",
        "\n",
        "ridgecv_result = {'MAE': ridgecv_MAE,'MSE':ridgecv_MSE,'RMSE':ridgecv_RMSE}\n",
        "ridgecv_result"
      ],
      "id": "b86625bd",
      "execution_count": 70,
      "outputs": [
        {
          "output_type": "execute_result",
          "data": {
            "text/plain": [
              "{'MAE': 0.6193232511180445,\n",
              " 'MSE': 0.6447926793757125,\n",
              " 'RMSE': 0.8029898376540717}"
            ]
          },
          "metadata": {},
          "execution_count": 70
        }
      ]
    },
    {
      "cell_type": "code",
      "metadata": {
        "colab": {
          "base_uri": "https://localhost:8080/"
        },
        "id": "501a3006",
        "outputId": "8a0a4ef2-88d7-4209-e90d-bc2e9302a1e8"
      },
      "source": [
        "ridgecv.coef_"
      ],
      "id": "501a3006",
      "execution_count": 71,
      "outputs": [
        {
          "output_type": "execute_result",
          "data": {
            "text/plain": [
              "array([ 2.67031963e+00,  6.88247438e-01,  4.07438555e-02,  5.02581350e-02,\n",
              "        2.00032701e+00,  2.89817433e-01,  7.64481861e-02,  1.71653947e-01,\n",
              "       -4.48869584e-02, -8.88043972e-01,  3.42274205e-01, -5.81276876e-01,\n",
              "        9.84127236e-01,  5.23451016e-02,  6.90469374e-02, -2.53111696e-01,\n",
              "       -1.14267826e-03,  1.94496267e-02,  2.18503294e-02])"
            ]
          },
          "metadata": {},
          "execution_count": 71
        }
      ]
    },
    {
      "cell_type": "markdown",
      "metadata": {
        "id": "dee608b1"
      },
      "source": [
        "## Lasso regularization"
      ],
      "id": "dee608b1"
    },
    {
      "cell_type": "code",
      "metadata": {
        "id": "ebf43a4e"
      },
      "source": [
        "from sklearn.linear_model import LassoCV   #Lasso with CV"
      ],
      "id": "ebf43a4e",
      "execution_count": 72,
      "outputs": []
    },
    {
      "cell_type": "code",
      "metadata": {
        "colab": {
          "base_uri": "https://localhost:8080/"
        },
        "id": "82068aea",
        "outputId": "15605a89-912b-4030-e45f-b4e724add9d2"
      },
      "source": [
        "lassocv = LassoCV(eps=0.1,n_alphas=100,cv=5)\n",
        "lassocv.fit(X_train,y_train)"
      ],
      "id": "82068aea",
      "execution_count": 73,
      "outputs": [
        {
          "output_type": "execute_result",
          "data": {
            "text/plain": [
              "LassoCV(cv=5, eps=0.1)"
            ]
          },
          "metadata": {},
          "execution_count": 73
        }
      ]
    },
    {
      "cell_type": "code",
      "metadata": {
        "colab": {
          "base_uri": "https://localhost:8080/"
        },
        "id": "71b75e7e",
        "outputId": "7c34883b-28fa-42b7-ff13-f550aeab9a3d"
      },
      "source": [
        "lassocv.alpha_"
      ],
      "id": "71b75e7e",
      "execution_count": 74,
      "outputs": [
        {
          "output_type": "execute_result",
          "data": {
            "text/plain": [
              "0.4924531806474871"
            ]
          },
          "metadata": {},
          "execution_count": 74
        }
      ]
    },
    {
      "cell_type": "code",
      "metadata": {
        "id": "9ea5ea34"
      },
      "source": [
        "lasso_pred = lassocv.predict(X_test)"
      ],
      "id": "9ea5ea34",
      "execution_count": 75,
      "outputs": []
    },
    {
      "cell_type": "code",
      "metadata": {
        "colab": {
          "base_uri": "https://localhost:8080/"
        },
        "id": "afe41c8d",
        "outputId": "63be3d57-6ba6-4045-cb15-cc7ae51f6a26"
      },
      "source": [
        "lassocv_MAE = mean_absolute_error(y_test,lasso_pred)\n",
        "lassocv_MSE = mean_squared_error(y_test,lasso_pred)\n",
        "lassocv_RMSE = np.sqrt(lassocv_MSE)\n",
        "\n",
        "lassocv_result = {'MAE': lassocv_MAE,'MSE':lassocv_MSE,'RMSE':lassocv_RMSE}\n",
        "lassocv_result"
      ],
      "id": "afe41c8d",
      "execution_count": 76,
      "outputs": [
        {
          "output_type": "execute_result",
          "data": {
            "text/plain": [
              "{'MAE': 0.6811456342837985,\n",
              " 'MSE': 1.0710443722690077,\n",
              " 'RMSE': 1.0349127365478732}"
            ]
          },
          "metadata": {},
          "execution_count": 76
        }
      ]
    },
    {
      "cell_type": "code",
      "metadata": {
        "colab": {
          "base_uri": "https://localhost:8080/"
        },
        "id": "99e64b85",
        "outputId": "d65575ac-79c8-4fa5-92a7-6116cc481246"
      },
      "source": [
        "lassocv.coef_"
      ],
      "id": "99e64b85",
      "execution_count": 77,
      "outputs": [
        {
          "output_type": "execute_result",
          "data": {
            "text/plain": [
              "array([0.97675148, 0.        , 0.        , 0.        , 3.8148913 ,\n",
              "       0.        , 0.        , 0.        , 0.        , 0.        ,\n",
              "       0.        , 0.        , 0.        , 0.        , 0.        ,\n",
              "       0.        , 0.        , 0.        , 0.        ])"
            ]
          },
          "metadata": {},
          "execution_count": 77
        }
      ]
    },
    {
      "cell_type": "markdown",
      "metadata": {
        "id": "5e7b144e"
      },
      "source": [
        "This model actually shrinks the irrelevant features to zero."
      ],
      "id": "5e7b144e"
    },
    {
      "cell_type": "markdown",
      "metadata": {
        "id": "6yG1w9JtYZDY"
      },
      "source": [
        "### Now lets adjust hyperparameters of LASSOCV to improve its performance"
      ],
      "id": "6yG1w9JtYZDY"
    },
    {
      "cell_type": "code",
      "metadata": {
        "colab": {
          "base_uri": "https://localhost:8080/"
        },
        "id": "DinBKBSLUD2u",
        "outputId": "e9d0e189-1677-4782-d269-4c19200d71c2"
      },
      "source": [
        "lasso_cv = LassoCV(eps=0.01,n_alphas=100, max_iter = 10000)                        # Defaul CV value is 5.\n",
        "lasso_cv.fit(X_train,y_train)"
      ],
      "id": "DinBKBSLUD2u",
      "execution_count": 110,
      "outputs": [
        {
          "output_type": "execute_result",
          "data": {
            "text/plain": [
              "LassoCV(eps=0.01, max_iter=10000)"
            ]
          },
          "metadata": {},
          "execution_count": 110
        }
      ]
    },
    {
      "cell_type": "code",
      "metadata": {
        "colab": {
          "base_uri": "https://localhost:8080/"
        },
        "id": "grzDpJ20UDwt",
        "outputId": "501d8a00-6849-4a85-ba0f-60054a7e1f36"
      },
      "source": [
        "lasso_cv.alpha_"
      ],
      "id": "grzDpJ20UDwt",
      "execution_count": 111,
      "outputs": [
        {
          "output_type": "execute_result",
          "data": {
            "text/plain": [
              "0.04924531806474871"
            ]
          },
          "metadata": {},
          "execution_count": 111
        }
      ]
    },
    {
      "cell_type": "code",
      "metadata": {
        "id": "hwQUodz1UDrL"
      },
      "source": [
        "lasso_cv_pred = lasso_cv.predict(X_test)"
      ],
      "id": "hwQUodz1UDrL",
      "execution_count": 112,
      "outputs": []
    },
    {
      "cell_type": "code",
      "metadata": {
        "colab": {
          "base_uri": "https://localhost:8080/"
        },
        "id": "HlEFIbNzUDik",
        "outputId": "92e9fb15-6f78-4374-c5de-24626564a43c"
      },
      "source": [
        "lasso_cv_MAE = mean_absolute_error(y_test,lasso_cv_pred)\n",
        "lasso_cv_MSE = mean_squared_error(y_test,lasso_cv_pred)\n",
        "lasso_cv_RMSE = np.sqrt(lasso_cv_MSE)\n",
        "\n",
        "lasso_cv_result = {'MAE': lasso_cv_MAE,'MSE':lasso_cv_MSE,'RMSE':lasso_cv_RMSE}\n",
        "lasso_cv_result"
      ],
      "id": "HlEFIbNzUDik",
      "execution_count": 113,
      "outputs": [
        {
          "output_type": "execute_result",
          "data": {
            "text/plain": [
              "{'MAE': 0.5541413345881179,\n",
              " 'MSE': 0.5217385139784726,\n",
              " 'RMSE': 0.7223146917919312}"
            ]
          },
          "metadata": {},
          "execution_count": 113
        }
      ]
    },
    {
      "cell_type": "code",
      "metadata": {
        "colab": {
          "base_uri": "https://localhost:8080/"
        },
        "id": "1FZmXQghUAmo",
        "outputId": "5fd92f52-d309-40f4-f633-2172d80f58d0"
      },
      "source": [
        "lasso_cv.coef_"
      ],
      "id": "1FZmXQghUAmo",
      "execution_count": 109,
      "outputs": [
        {
          "output_type": "execute_result",
          "data": {
            "text/plain": [
              "array([ 5.15048089,  0.4274257 ,  0.29684446, -4.53337994,  3.38937185,\n",
              "       -0.4288993 ,  0.        ,  0.        ,  0.        ,  1.17891049,\n",
              "       -0.        ,  0.        ,  0.16706037, -0.        ,  0.        ,\n",
              "        0.        ,  0.11083672,  0.        ,  0.06155549])"
            ]
          },
          "metadata": {},
          "execution_count": 109
        }
      ]
    },
    {
      "cell_type": "markdown",
      "metadata": {
        "id": "MEPG0sonZQNU"
      },
      "source": [
        "## When passed apppropriate parameters LASSO performed better than ridge.\n",
        "### Using LASSO also benefits by simplifying the model as many coefficients are changed to zero. This means that these parameters are can be neglected."
      ],
      "id": "MEPG0sonZQNU"
    },
    {
      "cell_type": "markdown",
      "metadata": {
        "id": "79d55709"
      },
      "source": [
        "## Performing ElasticNet regularization. It is a combination of L1 and L2 regularization and provides the most suitable ratio of L1 and L2 to be used as alpha."
      ],
      "id": "79d55709"
    },
    {
      "cell_type": "code",
      "metadata": {
        "id": "2038548b"
      },
      "source": [
        "from sklearn.linear_model import ElasticNetCV"
      ],
      "id": "2038548b",
      "execution_count": 84,
      "outputs": []
    },
    {
      "cell_type": "code",
      "metadata": {
        "id": "cf6fdfa9"
      },
      "source": [
        "elastic_model = ElasticNetCV(l1_ratio=[.1, .5, .7,.9, .95, .99, 1],tol=0.01)"
      ],
      "id": "cf6fdfa9",
      "execution_count": 85,
      "outputs": []
    },
    {
      "cell_type": "code",
      "metadata": {
        "colab": {
          "base_uri": "https://localhost:8080/"
        },
        "id": "55d10997",
        "outputId": "885df2d4-db81-4284-ed14-5f4d3b7e0f7c"
      },
      "source": [
        "elastic_model.fit(X_train,y_train)"
      ],
      "id": "55d10997",
      "execution_count": 86,
      "outputs": [
        {
          "output_type": "execute_result",
          "data": {
            "text/plain": [
              "ElasticNetCV(l1_ratio=[0.1, 0.5, 0.7, 0.9, 0.95, 0.99, 1], tol=0.01)"
            ]
          },
          "metadata": {},
          "execution_count": 86
        }
      ]
    },
    {
      "cell_type": "code",
      "metadata": {
        "colab": {
          "base_uri": "https://localhost:8080/"
        },
        "id": "dac77ccc",
        "outputId": "b71468fa-ab69-4d99-dfe8-e68d4ecf468b"
      },
      "source": [
        "elastic_model.l1_ratio_"
      ],
      "id": "dac77ccc",
      "execution_count": 87,
      "outputs": [
        {
          "output_type": "execute_result",
          "data": {
            "text/plain": [
              "0.95"
            ]
          },
          "metadata": {},
          "execution_count": 87
        }
      ]
    },
    {
      "cell_type": "code",
      "metadata": {
        "id": "bc84b050"
      },
      "source": [
        "elastic_pred = elastic_model.predict(X_test)"
      ],
      "id": "bc84b050",
      "execution_count": 88,
      "outputs": []
    },
    {
      "cell_type": "code",
      "metadata": {
        "colab": {
          "base_uri": "https://localhost:8080/"
        },
        "id": "4c7c0dec",
        "outputId": "92197c49-56f6-4187-a6f1-b96ffe42c0a9"
      },
      "source": [
        "elasticcv_MAE = mean_absolute_error(y_test,elastic_pred)\n",
        "elasticcv_MSE = mean_squared_error(y_test,elastic_pred)\n",
        "elasticcv_RMSE = np.sqrt(elasticcv_MSE)\n",
        "\n",
        "elasticcv_result = {'MAE': elasticcv_MAE,'MSE':elasticcv_MSE,'RMSE':elasticcv_RMSE}\n",
        "lassocv_result"
      ],
      "id": "4c7c0dec",
      "execution_count": 89,
      "outputs": [
        {
          "output_type": "execute_result",
          "data": {
            "text/plain": [
              "{'MAE': 0.6811456342837985,\n",
              " 'MSE': 1.0710443722690077,\n",
              " 'RMSE': 1.0349127365478732}"
            ]
          },
          "metadata": {},
          "execution_count": 89
        }
      ]
    },
    {
      "cell_type": "code",
      "metadata": {
        "colab": {
          "base_uri": "https://localhost:8080/"
        },
        "id": "5667bc46",
        "outputId": "64812a0f-75d8-4a69-efa6-e533aa743305"
      },
      "source": [
        "elastic_model.coef_"
      ],
      "id": "5667bc46",
      "execution_count": 90,
      "outputs": [
        {
          "output_type": "execute_result",
          "data": {
            "text/plain": [
              "array([ 3.95312352,  0.98671224,  0.2194859 , -1.01798785,  1.97463372,\n",
              "       -0.3782983 , -0.12009502,  0.07739924,  0.02861239, -1.10946628,\n",
              "        0.49812979, -0.        ,  0.95685199, -0.05702842,  0.04842821,\n",
              "       -0.36288403,  0.1257612 ,  0.00643697,  0.        ])"
            ]
          },
          "metadata": {},
          "execution_count": 90
        }
      ]
    },
    {
      "cell_type": "markdown",
      "metadata": {
        "id": "52a5debd"
      },
      "source": [
        "## Conclusion:LASSOcv has the best performance for this dataset."
      ],
      "id": "52a5debd"
    },
    {
      "cell_type": "markdown",
      "metadata": {
        "id": "4e28145c"
      },
      "source": [
        "## <div> <center> Thankyou!! <div>"
      ],
      "id": "4e28145c"
    }
  ]
}