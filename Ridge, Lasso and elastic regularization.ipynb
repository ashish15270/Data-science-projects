{
 "cells": [
  {
   "cell_type": "markdown",
   "id": "8777ca05",
   "metadata": {},
   "source": [
    "# Regularization with SciKit-Learn\n",
    "\n",
    "Previously we created a new polynomial feature set and then applied our standard linear regression on it, but we can be smarter about model choice and utilize regularization.\n",
    "\n",
    "Regularization attempts to minimize the RSS (residual sum of squares) *and* a penalty factor. This penalty factor will penalize models that have coefficients that are too large. Some methods of regularization will actually cause non useful features to have a coefficient of zero, in which case the model does not consider the feature.\n",
    "\n",
    "Let's explore two methods of regularization, Ridge Regression and Lasso. We'll combine these with the polynomial feature set (it wouldn't be as effective to perform regularization of a model on such a small original feature set of the original X)."
   ]
  },
  {
   "cell_type": "code",
   "execution_count": 2,
   "id": "a232336a",
   "metadata": {},
   "outputs": [],
   "source": [
    "import numpy as np\n",
    "import pandas as pd\n",
    "import matplotlib.pyplot as plt\n",
    "import seaborn as sns"
   ]
  },
  {
   "cell_type": "code",
   "execution_count": 3,
   "id": "9d0e7d18",
   "metadata": {},
   "outputs": [],
   "source": [
    "df = pd.read_csv(\"Advertising.csv\")\n",
    "X = df.drop('sales',axis=1)\n",
    "y = df['sales']"
   ]
  },
  {
   "cell_type": "markdown",
   "id": "1c0d6c03",
   "metadata": {},
   "source": [
    "### Converting original feature dataset(X) to polynomial feature dataset."
   ]
  },
  {
   "cell_type": "code",
   "execution_count": 80,
   "id": "39c9f26a",
   "metadata": {},
   "outputs": [],
   "source": [
    "from sklearn.preprocessing import PolynomialFeatures\n",
    "from sklearn.model_selection import train_test_split\n",
    "from sklearn.linear_model import RidgeCV,Ridge     #Ridge model with Cross validation"
   ]
  },
  {
   "cell_type": "code",
   "execution_count": 17,
   "id": "149bd7bd",
   "metadata": {},
   "outputs": [],
   "source": [
    "from sklearn.metrics import mean_squared_error,mean_absolute_error"
   ]
  },
  {
   "cell_type": "code",
   "execution_count": 5,
   "id": "39704823",
   "metadata": {},
   "outputs": [],
   "source": [
    "poly_features = PolynomialFeatures(degree=3,include_bias=False)"
   ]
  },
  {
   "cell_type": "code",
   "execution_count": 10,
   "id": "d3b36e01",
   "metadata": {},
   "outputs": [],
   "source": [
    "X1 = poly_features.fit_transform(X)"
   ]
  },
  {
   "cell_type": "code",
   "execution_count": 13,
   "id": "7d7d4389",
   "metadata": {},
   "outputs": [],
   "source": [
    "X_train, X_test, y_train, y_test = train_test_split(X1, y, test_size=0.30, random_state=42)"
   ]
  },
  {
   "cell_type": "markdown",
   "id": "5c1a5401",
   "metadata": {},
   "source": [
    "### First lets perform Ridge Regression by providing an alpha."
   ]
  },
  {
   "cell_type": "code",
   "execution_count": 14,
   "id": "cbd5a3a1",
   "metadata": {},
   "outputs": [],
   "source": [
    "ridge = Ridge(alpha=10)"
   ]
  },
  {
   "cell_type": "code",
   "execution_count": 18,
   "id": "8e85a98b",
   "metadata": {},
   "outputs": [],
   "source": [
    "ridge.fit(X_train,y_train)\n",
    "ridge_pred = ridge.predict(X_test)"
   ]
  },
  {
   "cell_type": "code",
   "execution_count": 20,
   "id": "f3693212",
   "metadata": {},
   "outputs": [],
   "source": [
    "ridge_MAE = mean_absolute_error(y_test,ridge_pred)\n",
    "ridge_MSE = mean_squared_error(y_test,ridge_pred)\n",
    "ridge_RMSE = np.sqrt(ridge_MSE)"
   ]
  },
  {
   "cell_type": "code",
   "execution_count": 21,
   "id": "494606ba",
   "metadata": {},
   "outputs": [
    {
     "data": {
      "text/plain": [
       "{'MAE': 0.3974983466770129,\n",
       " 'MSE': 0.29061113322646465,\n",
       " 'RMSE': 0.5390836050432851}"
      ]
     },
     "execution_count": 21,
     "metadata": {},
     "output_type": "execute_result"
    }
   ],
   "source": [
    "ridge_result = {'MAE': ridge_MAE,'MSE':ridge_MSE,'RMSE':ridge_RMSE}\n",
    "ridge_result"
   ]
  },
  {
   "cell_type": "markdown",
   "id": "82188182",
   "metadata": {},
   "source": [
    "Lets perform RidgeCV:Choosing an alpha value with Cross-Validation"
   ]
  },
  {
   "cell_type": "code",
   "execution_count": 55,
   "id": "b9a9995b",
   "metadata": {},
   "outputs": [
    {
     "data": {
      "text/plain": [
       "RidgeCV(alphas=array([ 5, 10, 20]), scoring='neg_mean_squared_error')"
      ]
     },
     "execution_count": 55,
     "metadata": {},
     "output_type": "execute_result"
    }
   ],
   "source": [
    "ridgecv = RidgeCV(alphas=(5, 10, 20),scoring='neg_mean_squared_error')\n",
    "ridgecv.fit(X_train,y_train)\n",
    "\n",
    "# Negative RMSE so all metrics follow convention \"Higher is better\"\n",
    "# See all options: sklearn.metrics.SCORERS.keys()"
   ]
  },
  {
   "cell_type": "code",
   "execution_count": 52,
   "id": "66e1b7ad",
   "metadata": {},
   "outputs": [
    {
     "data": {
      "text/plain": [
       "20"
      ]
     },
     "execution_count": 52,
     "metadata": {},
     "output_type": "execute_result"
    }
   ],
   "source": [
    "ridgecv.alpha_"
   ]
  },
  {
   "cell_type": "code",
   "execution_count": 53,
   "id": "edb0b85c",
   "metadata": {},
   "outputs": [],
   "source": [
    "ridgecv_pred = ridgecv.predict(X_test)"
   ]
  },
  {
   "cell_type": "code",
   "execution_count": 54,
   "id": "b86625bd",
   "metadata": {},
   "outputs": [
    {
     "data": {
      "text/plain": [
       "{'MAE': 0.3774046073867227,\n",
       " 'MSE': 0.2683235043468009,\n",
       " 'RMSE': 0.5179995215700502}"
      ]
     },
     "execution_count": 54,
     "metadata": {},
     "output_type": "execute_result"
    }
   ],
   "source": [
    "ridgecv_MAE = mean_absolute_error(y_test,ridgecv_pred)\n",
    "ridgecv_MSE = mean_squared_error(y_test,ridgecv_pred)\n",
    "ridgecv_RMSE = np.sqrt(ridgecv_MSE)\n",
    "\n",
    "ridgecv_result = {'MAE': ridgecv_MAE,'MSE':ridgecv_MSE,'RMSE':ridgecv_RMSE}\n",
    "ridgecv_result"
   ]
  },
  {
   "cell_type": "code",
   "execution_count": 57,
   "id": "501a3006",
   "metadata": {},
   "outputs": [
    {
     "data": {
      "text/plain": [
       "array([ 9.35403060e-02,  8.23888743e-03,  2.57052690e-02, -4.45687081e-04,\n",
       "        1.42849996e-03, -3.37673677e-04,  2.40661193e-04,  2.94923473e-04,\n",
       "        1.30001062e-04,  7.19246600e-07, -9.28229220e-07,  1.08817244e-06,\n",
       "       -1.69585860e-07, -3.03284784e-06,  3.76429625e-08, -3.68551409e-06,\n",
       "        3.46402358e-06, -1.86914251e-06, -1.51407265e-06])"
      ]
     },
     "execution_count": 57,
     "metadata": {},
     "output_type": "execute_result"
    }
   ],
   "source": [
    "ridgecv.coef_"
   ]
  },
  {
   "cell_type": "markdown",
   "id": "dee608b1",
   "metadata": {},
   "source": [
    "## Lasso regularization"
   ]
  },
  {
   "cell_type": "code",
   "execution_count": 59,
   "id": "ebf43a4e",
   "metadata": {},
   "outputs": [],
   "source": [
    "from sklearn.linear_model import LassoCV   #Lasso with CV"
   ]
  },
  {
   "cell_type": "code",
   "execution_count": 60,
   "id": "82068aea",
   "metadata": {},
   "outputs": [
    {
     "data": {
      "text/plain": [
       "LassoCV(cv=5, eps=0.1)"
      ]
     },
     "execution_count": 60,
     "metadata": {},
     "output_type": "execute_result"
    }
   ],
   "source": [
    "lassocv = LassoCV(eps=0.1,n_alphas=100,cv=5)\n",
    "lassocv.fit(X_train,y_train)"
   ]
  },
  {
   "cell_type": "code",
   "execution_count": 61,
   "id": "71b75e7e",
   "metadata": {},
   "outputs": [
    {
     "data": {
      "text/plain": [
       "2368033.2970681335"
      ]
     },
     "execution_count": 61,
     "metadata": {},
     "output_type": "execute_result"
    }
   ],
   "source": [
    "lassocv.alpha_"
   ]
  },
  {
   "cell_type": "code",
   "execution_count": 63,
   "id": "9ea5ea34",
   "metadata": {},
   "outputs": [],
   "source": [
    "lasso_pred = lassocv.predict(X_test)"
   ]
  },
  {
   "cell_type": "code",
   "execution_count": 66,
   "id": "afe41c8d",
   "metadata": {},
   "outputs": [
    {
     "data": {
      "text/plain": [
       "{'MAE': 3.002747147591353,\n",
       " 'MSE': 13.561636855420993,\n",
       " 'RMSE': 3.6826127756554845}"
      ]
     },
     "execution_count": 66,
     "metadata": {},
     "output_type": "execute_result"
    }
   ],
   "source": [
    "lassocv_MAE = mean_absolute_error(y_test,lasso_pred)\n",
    "lassocv_MSE = mean_squared_error(y_test,lasso_pred)\n",
    "lassocv_RMSE = np.sqrt(lassocv_MSE)\n",
    "\n",
    "lassocv_result = {'MAE': lassocv_MAE,'MSE':lassocv_MSE,'RMSE':lassocv_RMSE}\n",
    "lassocv_result"
   ]
  },
  {
   "cell_type": "code",
   "execution_count": 67,
   "id": "99e64b85",
   "metadata": {},
   "outputs": [
    {
     "data": {
      "text/plain": [
       "array([0.00000000e+00, 0.00000000e+00, 0.00000000e+00, 0.00000000e+00,\n",
       "       0.00000000e+00, 0.00000000e+00, 0.00000000e+00, 0.00000000e+00,\n",
       "       0.00000000e+00, 4.14387332e-07, 0.00000000e+00, 0.00000000e+00,\n",
       "       0.00000000e+00, 0.00000000e+00, 0.00000000e+00, 0.00000000e+00,\n",
       "       0.00000000e+00, 0.00000000e+00, 0.00000000e+00])"
      ]
     },
     "execution_count": 67,
     "metadata": {},
     "output_type": "execute_result"
    }
   ],
   "source": [
    "lassocv.coef_"
   ]
  },
  {
   "cell_type": "markdown",
   "id": "5e7b144e",
   "metadata": {},
   "source": [
    "This model actually shrinks the irrelevant features to zero."
   ]
  },
  {
   "cell_type": "markdown",
   "id": "79d55709",
   "metadata": {},
   "source": [
    "## Performing ElasticNet regularization"
   ]
  },
  {
   "cell_type": "code",
   "execution_count": 68,
   "id": "2038548b",
   "metadata": {},
   "outputs": [],
   "source": [
    "from sklearn.linear_model import ElasticNetCV"
   ]
  },
  {
   "cell_type": "code",
   "execution_count": 71,
   "id": "cf6fdfa9",
   "metadata": {},
   "outputs": [],
   "source": [
    "elastic_model = ElasticNetCV(l1_ratio=[.1, .5, .7,.9, .95, .99, 1],tol=0.01)"
   ]
  },
  {
   "cell_type": "code",
   "execution_count": 73,
   "id": "55d10997",
   "metadata": {},
   "outputs": [
    {
     "data": {
      "text/plain": [
       "ElasticNetCV(l1_ratio=[0.1, 0.5, 0.7, 0.9, 0.95, 0.99, 1], tol=0.01)"
      ]
     },
     "execution_count": 73,
     "metadata": {},
     "output_type": "execute_result"
    }
   ],
   "source": [
    "elastic_model.fit(X_train,y_train)"
   ]
  },
  {
   "cell_type": "code",
   "execution_count": 74,
   "id": "dac77ccc",
   "metadata": {},
   "outputs": [
    {
     "data": {
      "text/plain": [
       "1.0"
      ]
     },
     "execution_count": 74,
     "metadata": {},
     "output_type": "execute_result"
    }
   ],
   "source": [
    "elastic_model.l1_ratio_"
   ]
  },
  {
   "cell_type": "code",
   "execution_count": 75,
   "id": "bc84b050",
   "metadata": {},
   "outputs": [],
   "source": [
    "elastic_pred = elastic_model.predict(X_test)"
   ]
  },
  {
   "cell_type": "code",
   "execution_count": 78,
   "id": "4c7c0dec",
   "metadata": {},
   "outputs": [
    {
     "data": {
      "text/plain": [
       "{'MAE': 3.002747147591353,\n",
       " 'MSE': 13.561636855420993,\n",
       " 'RMSE': 3.6826127756554845}"
      ]
     },
     "execution_count": 78,
     "metadata": {},
     "output_type": "execute_result"
    }
   ],
   "source": [
    "elasticcv_MAE = mean_absolute_error(y_test,elastic_pred)\n",
    "elasticcv_MSE = mean_squared_error(y_test,elastic_pred)\n",
    "elasticcv_RMSE = np.sqrt(elasticcv_MSE)\n",
    "\n",
    "elasticcv_result = {'MAE': elasticcv_MAE,'MSE':elasticcv_MSE,'RMSE':elasticcv_RMSE}\n",
    "lassocv_result"
   ]
  },
  {
   "cell_type": "code",
   "execution_count": 79,
   "id": "5667bc46",
   "metadata": {},
   "outputs": [
    {
     "data": {
      "text/plain": [
       "array([ 0.00000000e+00,  0.00000000e+00,  0.00000000e+00,  0.00000000e+00,\n",
       "        0.00000000e+00,  0.00000000e+00,  0.00000000e+00,  0.00000000e+00,\n",
       "        0.00000000e+00,  7.54399185e-08,  3.33425352e-06, -3.07263465e-08,\n",
       "        1.04403704e-05,  0.00000000e+00,  0.00000000e+00,  0.00000000e+00,\n",
       "        0.00000000e+00,  0.00000000e+00, -0.00000000e+00])"
      ]
     },
     "execution_count": 79,
     "metadata": {},
     "output_type": "execute_result"
    }
   ],
   "source": [
    "elastic_model.coef_"
   ]
  },
  {
   "cell_type": "markdown",
   "id": "52a5debd",
   "metadata": {},
   "source": [
    "## Conclusion:Ridge CV has the best performance for this dataset."
   ]
  },
  {
   "cell_type": "markdown",
   "id": "4e28145c",
   "metadata": {},
   "source": [
    "## <div> <center> Thankyou!! <div>"
   ]
  }
 ],
 "metadata": {
  "kernelspec": {
   "display_name": "Python 3",
   "language": "python",
   "name": "python3"
  },
  "language_info": {
   "codemirror_mode": {
    "name": "ipython",
    "version": 3
   },
   "file_extension": ".py",
   "mimetype": "text/x-python",
   "name": "python",
   "nbconvert_exporter": "python",
   "pygments_lexer": "ipython3",
   "version": "3.8.8"
  }
 },
 "nbformat": 4,
 "nbformat_minor": 5
}
